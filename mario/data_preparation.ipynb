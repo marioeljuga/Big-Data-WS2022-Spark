{
 "cells": [
  {
   "cell_type": "code",
   "execution_count": 153,
   "id": "757de717",
   "metadata": {},
   "outputs": [
    {
     "name": "stdout",
     "output_type": "stream",
     "text": [
      "+-----+\n",
      "|hello|\n",
      "+-----+\n",
      "|spark|\n",
      "+-----+\n",
      "\n"
     ]
    }
   ],
   "source": [
    "import findspark\n",
    "findspark.init()\n",
    "import pyspark # only run after findspark.init()\n",
    "from pyspark.sql import SparkSession\n",
    "spark = SparkSession.builder.getOrCreate()\n",
    "df = spark.sql('''select 'spark' as hello ''')\n",
    "df.show()"
   ]
  },
  {
   "cell_type": "code",
   "execution_count": 154,
   "metadata": {},
   "outputs": [
    {
     "name": "stdout",
     "output_type": "stream",
     "text": [
      "root\n",
      " |-- STATIONS_ID: double (nullable = true)\n",
      " |-- MESS_DATUM: long (nullable = true)\n",
      " |-- QN: double (nullable = true)\n",
      " |-- PP_10: double (nullable = true)\n",
      " |-- TT_10: double (nullable = true)\n",
      " |-- TM5_10: double (nullable = true)\n",
      " |-- RF_10: double (nullable = true)\n",
      " |-- TD_10: double (nullable = true)\n",
      "\n"
     ]
    }
   ],
   "source": [
    "df = spark.read.options(delimiter=\";\", inferSchema='True', header=True).csv(\"/home/mario/Downloads/10minutenwerte_only_100/produkt_zehn_min_tu_19900101_19991231_03366.txt\")\n",
    "df.printSchema()"
   ]
  },
  {
   "cell_type": "code",
   "execution_count": 155,
   "metadata": {},
   "outputs": [
    {
     "name": "stdout",
     "output_type": "stream",
     "text": [
      "+-----------+------------+---+-----+-----+------+-----+-----+\n",
      "|STATIONS_ID|  MESS_DATUM| QN|PP_10|TT_10|TM5_10|RF_10|TD_10|\n",
      "+-----------+------------+---+-----+-----+------+-----+-----+\n",
      "|     3366.0|199001010000|1.0|972.6| -4.4|  -4.0| 94.0| -4.6|\n",
      "|     3366.0|199001010010|1.0|972.5| -4.3|  -3.9| 94.0| -4.7|\n",
      "|     3366.0|199001010020|1.0|972.4| -4.4|  -4.0| 94.0| -4.7|\n",
      "|     3366.0|199001010030|1.0|972.3| -4.4|  -4.1| 94.0| -4.6|\n",
      "|     3366.0|199001010040|1.0|972.3| -4.5|  -4.1| 94.0| -4.8|\n",
      "+-----------+------------+---+-----+-----+------+-----+-----+\n",
      "only showing top 5 rows\n",
      "\n"
     ]
    }
   ],
   "source": [
    "df.show(n=5)"
   ]
  },
  {
   "cell_type": "code",
   "execution_count": 156,
   "metadata": {},
   "outputs": [],
   "source": [
    "#df.withColumn(\"MESS_DATUM\",df.MESS_DATUM.cast(StringType())) \\\n",
    "#  .show(truncate=False)"
   ]
  },
  {
   "cell_type": "code",
   "execution_count": 157,
   "metadata": {},
   "outputs": [],
   "source": [
    "from datetime import datetime\n",
    "from pyspark.sql.functions import col, udf, to_timestamp, year, month\n",
    "from pyspark.sql.types import DoubleType, IntegerType, DateType, StringType\n",
    "df = df.select(\"STATIONS_ID\",\"MESS_DATUM\",\"TT_10\")\n",
    "df = df.withColumn(\"MESS_DATUM\",col(\"MESS_DATUM\").cast(StringType()))\n",
    "df = df.withColumn(\"STATIONS_ID\",col(\"STATIONS_ID\").cast(IntegerType()))\n",
    "df = df.withColumn(\"MESS_DATUM\",to_timestamp(\"MESS_DATUM\", \"yyyyMMddHHmm\"))"
   ]
  },
  {
   "cell_type": "code",
   "execution_count": 158,
   "metadata": {},
   "outputs": [
    {
     "name": "stdout",
     "output_type": "stream",
     "text": [
      "root\n",
      " |-- STATIONS_ID: integer (nullable = true)\n",
      " |-- MESS_DATUM: timestamp (nullable = true)\n",
      " |-- TT_10: double (nullable = true)\n",
      "\n"
     ]
    }
   ],
   "source": [
    "df.printSchema()"
   ]
  },
  {
   "cell_type": "code",
   "execution_count": 159,
   "metadata": {},
   "outputs": [
    {
     "name": "stdout",
     "output_type": "stream",
     "text": [
      "+-----------+-------------------+-----+\n",
      "|STATIONS_ID|         MESS_DATUM|TT_10|\n",
      "+-----------+-------------------+-----+\n",
      "|       3366|1990-01-01 00:00:00| -4.4|\n",
      "|       3366|1990-01-01 00:10:00| -4.3|\n",
      "|       3366|1990-01-01 00:20:00| -4.4|\n",
      "|       3366|1990-01-01 00:30:00| -4.4|\n",
      "|       3366|1990-01-01 00:40:00| -4.5|\n",
      "+-----------+-------------------+-----+\n",
      "only showing top 5 rows\n",
      "\n"
     ]
    }
   ],
   "source": [
    "df.show(n=5)"
   ]
  },
  {
   "cell_type": "markdown",
   "metadata": {},
   "source": [
    "Bauernregel:\n",
    "\n",
    "„Wenn's im Dezember nicht wintert, sommert's im Juni auch nicht.“\n",
    "\n",
    "Hierbei handelt es sich im Prinzip um die entgegengesetzte Regel zu der vorherigen:\n",
    "Im Juni wird es nicht warm, wenn im Dezember kein richtiger Winter war.\n",
    "Es stimmt, dass die These zu 65 Prozent eintrifft. Andersrum, wenn es also im Juni nicht „sommert“, wird es im Dezember nicht „wintern“,\n",
    "stimmt die Bauernregel aber nicht. Warum das so ist, weiß keiner so genau.\n"
   ]
  },
  {
   "cell_type": "code",
   "execution_count": 160,
   "metadata": {},
   "outputs": [
    {
     "name": "stdout",
     "output_type": "stream",
     "text": [
      "+-------+-----------+------------------+\n",
      "|summary|STATIONS_ID|             TT_10|\n",
      "+-------+-----------+------------------+\n",
      "|  count|     480758|            480758|\n",
      "|   mean|     3366.0|-37.06368068758087|\n",
      "| stddev|        0.0|209.83299914047205|\n",
      "|    min|       3366|            -999.0|\n",
      "|    max|       3366|              35.6|\n",
      "+-------+-----------+------------------+\n",
      "\n"
     ]
    }
   ],
   "source": [
    "df.describe().show()\n"
   ]
  },
  {
   "cell_type": "code",
   "execution_count": 161,
   "metadata": {},
   "outputs": [
    {
     "name": "stdout",
     "output_type": "stream",
     "text": [
      "+-----------+-------------------+-----+\n",
      "|STATIONS_ID|         MESS_DATUM|TT_10|\n",
      "+-----------+-------------------+-----+\n",
      "|       3366|1990-06-01 00:00:00|  6.7|\n",
      "|       3366|1990-06-01 00:10:00|  6.9|\n",
      "|       3366|1990-06-01 00:20:00|  6.2|\n",
      "|       3366|1990-06-01 00:30:00|  5.8|\n",
      "|       3366|1990-06-01 00:40:00|  5.8|\n",
      "|       3366|1990-06-01 00:50:00|  6.0|\n",
      "|       3366|1990-06-01 01:00:00|  6.1|\n",
      "|       3366|1990-06-01 01:10:00|  6.0|\n",
      "|       3366|1990-06-01 01:20:00|  5.9|\n",
      "|       3366|1990-06-01 01:30:00|  5.6|\n",
      "|       3366|1990-06-01 01:40:00|  5.7|\n",
      "|       3366|1990-06-01 01:50:00|  6.3|\n",
      "|       3366|1990-06-01 02:00:00|  6.5|\n",
      "|       3366|1990-06-01 02:10:00|  6.8|\n",
      "|       3366|1990-06-01 02:20:00|  5.8|\n",
      "|       3366|1990-06-01 02:30:00|  5.3|\n",
      "|       3366|1990-06-01 02:40:00|  5.5|\n",
      "|       3366|1990-06-01 02:50:00|  5.5|\n",
      "|       3366|1990-06-01 03:00:00|  6.5|\n",
      "|       3366|1990-06-01 03:10:00|  7.3|\n",
      "+-----------+-------------------+-----+\n",
      "only showing top 20 rows\n",
      "\n"
     ]
    }
   ],
   "source": [
    "# we only need months June and Decemeber\n",
    "df = df.filter((month(\"MESS_DATUM\") == 6) | (month(\"MESS_DATUM\") == 12))\n",
    "df.show()"
   ]
  },
  {
   "cell_type": "code",
   "execution_count": 162,
   "metadata": {},
   "outputs": [
    {
     "name": "stdout",
     "output_type": "stream",
     "text": [
      "+-----------+----+-----+-----+\n",
      "|STATIONS_ID|year|month|TT_10|\n",
      "+-----------+----+-----+-----+\n",
      "|       3366|1990|    6|  6.7|\n",
      "|       3366|1990|    6|  6.9|\n",
      "|       3366|1990|    6|  6.2|\n",
      "|       3366|1990|    6|  5.8|\n",
      "|       3366|1990|    6|  5.8|\n",
      "|       3366|1990|    6|  6.0|\n",
      "|       3366|1990|    6|  6.1|\n",
      "|       3366|1990|    6|  6.0|\n",
      "|       3366|1990|    6|  5.9|\n",
      "|       3366|1990|    6|  5.6|\n",
      "|       3366|1990|    6|  5.7|\n",
      "|       3366|1990|    6|  6.3|\n",
      "|       3366|1990|    6|  6.5|\n",
      "|       3366|1990|    6|  6.8|\n",
      "|       3366|1990|    6|  5.8|\n",
      "|       3366|1990|    6|  5.3|\n",
      "|       3366|1990|    6|  5.5|\n",
      "|       3366|1990|    6|  5.5|\n",
      "|       3366|1990|    6|  6.5|\n",
      "|       3366|1990|    6|  7.3|\n",
      "+-----------+----+-----+-----+\n",
      "only showing top 20 rows\n",
      "\n"
     ]
    }
   ],
   "source": [
    "df = df.select(\"STATIONS_ID\", year(\"MESS_DATUM\").alias(\"year\"),month(\"MESS_DATUM\").alias(\"month\"), \"TT_10\")\n",
    "df.show()"
   ]
  },
  {
   "cell_type": "code",
   "execution_count": 163,
   "metadata": {},
   "outputs": [
    {
     "name": "stdout",
     "output_type": "stream",
     "text": [
      "+----+-----+--------------------+\n",
      "|year|month|          avg(TT_10)|\n",
      "+----+-----+--------------------+\n",
      "|1990|    6|  13.595092592592565|\n",
      "|1990|   12| -11.698342803030272|\n",
      "|1991|    6|  14.654583333333356|\n",
      "|1992|    6|  -66.83006666666667|\n",
      "|1993|    6|  14.659828465461315|\n",
      "|1994|    6|   16.76222737819026|\n",
      "|1993|   12|  2.4830121021963185|\n",
      "|1995|   12| -1.2314964157706108|\n",
      "|1994|   12|    2.02283535217586|\n",
      "|1995|    6|  14.494441871236706|\n",
      "|1996|    6|  17.114129273504336|\n",
      "|1996|   12|  -4.925990752972258|\n",
      "|1997|   12|  0.8322356630824369|\n",
      "|1998|    6|   17.09474912485418|\n",
      "|1997|    6|   16.27305555555556|\n",
      "|1999|    6|  15.699606481481515|\n",
      "|1998|   12| -1.1544822949350064|\n",
      "|1999|   12|-0.18109441578829447|\n",
      "+----+-----+--------------------+\n",
      "\n"
     ]
    }
   ],
   "source": [
    "# calculate average temperature for each year+month\n",
    "df = df.groupBy(\"year\", \"month\").avg(\"TT_10\")\n",
    "df.show()"
   ]
  },
  {
   "cell_type": "code",
   "execution_count": 164,
   "metadata": {},
   "outputs": [
    {
     "name": "stdout",
     "output_type": "stream",
     "text": [
      "+----+-----+--------------------+\n",
      "|year|month|          avg(TT_10)|\n",
      "+----+-----+--------------------+\n",
      "|1990|   12| -11.698342803030272|\n",
      "|1993|   12|  2.4830121021963185|\n",
      "|1995|   12| -1.2314964157706108|\n",
      "|1994|   12|    2.02283535217586|\n",
      "|1996|   12|  -4.925990752972258|\n",
      "|1997|   12|  0.8322356630824369|\n",
      "|1998|   12| -1.1544822949350064|\n",
      "|1999|   12|-0.18109441578829447|\n",
      "+----+-----+--------------------+\n",
      "\n"
     ]
    }
   ],
   "source": [
    "df2 = df.filter(df.month == 12)\n",
    "df2.show()"
   ]
  },
  {
   "cell_type": "code",
   "execution_count": 165,
   "metadata": {},
   "outputs": [
    {
     "name": "stdout",
     "output_type": "stream",
     "text": [
      "+-------------+--------------+--------------------+---------+----------+\n",
      "|year_december|month_december|temperature_december|year_june|month_june|\n",
      "+-------------+--------------+--------------------+---------+----------+\n",
      "|         1990|            12| -11.698342803030272|     1991|         6|\n",
      "|         1993|            12|  2.4830121021963185|     1994|         6|\n",
      "|         1995|            12| -1.2314964157706108|     1996|         6|\n",
      "|         1994|            12|    2.02283535217586|     1995|         6|\n",
      "|         1996|            12|  -4.925990752972258|     1997|         6|\n",
      "|         1997|            12|  0.8322356630824369|     1998|         6|\n",
      "|         1998|            12| -1.1544822949350064|     1999|         6|\n",
      "|         1999|            12|-0.18109441578829447|     2000|         6|\n",
      "+-------------+--------------+--------------------+---------+----------+\n",
      "\n"
     ]
    }
   ],
   "source": [
    "from pyspark.sql.functions import lit\n",
    "\n",
    "df2 = df2.withColumnRenamed('avg(TT_10)', 'temperature_december')\n",
    "df2 = df2.withColumnRenamed('year', 'year_december')\n",
    "df2 = df2.withColumnRenamed('month', 'month_december')\n",
    "df2 = df2.withColumn('year_june', df2.year_december + 1)\n",
    "df2 = df2.withColumn('month_june', lit(6))\n",
    "df2.show()"
   ]
  },
  {
   "cell_type": "code",
   "execution_count": 166,
   "metadata": {},
   "outputs": [
    {
     "name": "stdout",
     "output_type": "stream",
     "text": [
      "+-------------+--------------+--------------------+---------+----------+------------------+\n",
      "|year_december|month_december|temperature_december|year_june|month_june|  temperature_june|\n",
      "+-------------+--------------+--------------------+---------+----------+------------------+\n",
      "|         1990|            12| -11.698342803030272|     1991|         6|14.654583333333356|\n",
      "|         1993|            12|  2.4830121021963185|     1994|         6| 16.76222737819026|\n",
      "|         1994|            12|    2.02283535217586|     1995|         6|14.494441871236706|\n",
      "|         1995|            12| -1.2314964157706108|     1996|         6|17.114129273504336|\n",
      "|         1997|            12|  0.8322356630824369|     1998|         6| 17.09474912485418|\n",
      "|         1996|            12|  -4.925990752972258|     1997|         6| 16.27305555555556|\n",
      "|         1998|            12| -1.1544822949350064|     1999|         6|15.699606481481515|\n",
      "+-------------+--------------+--------------------+---------+----------+------------------+\n",
      "\n"
     ]
    }
   ],
   "source": [
    "df2 = df2.join(df, (df2.year_june == df.year) & (df2.month_june == df.month))\n",
    "df2 = df2.withColumnRenamed('avg(TT_10)', 'temperature_june')\n",
    "df2 = df2.drop(\"year\", \"month\")\n",
    "df2.show()"
   ]
  },
  {
   "cell_type": "code",
   "execution_count": 167,
   "metadata": {},
   "outputs": [
    {
     "name": "stderr",
     "output_type": "stream",
     "text": [
      "                                                                                \r"
     ]
    },
    {
     "data": {
      "text/plain": [
       "0.4056745227573053"
      ]
     },
     "execution_count": 167,
     "metadata": {},
     "output_type": "execute_result"
    }
   ],
   "source": [
    "df2.corr(\"temperature_december\", \"temperature_june\", method=\"pearson\")"
   ]
  },
  {
   "cell_type": "code",
   "execution_count": null,
   "metadata": {},
   "outputs": [],
   "source": [
    "#df.write.option(\"header\",True).csv(\"/home/mario/Downloads/10minutenwerte/all_together_first_half\")"
   ]
  }
 ],
 "metadata": {
  "kernelspec": {
   "display_name": "Python 3.10.8 64-bit",
   "language": "python",
   "name": "python3"
  },
  "language_info": {
   "codemirror_mode": {
    "name": "ipython",
    "version": 3
   },
   "file_extension": ".py",
   "mimetype": "text/x-python",
   "name": "python",
   "nbconvert_exporter": "python",
   "pygments_lexer": "ipython3",
   "version": "3.10.8"
  },
  "orig_nbformat": 4,
  "vscode": {
   "interpreter": {
    "hash": "e7370f93d1d0cde622a1f8e1c04877d8463912d04d973331ad4851f04de6915a"
   }
  }
 },
 "nbformat": 4,
 "nbformat_minor": 2
}
