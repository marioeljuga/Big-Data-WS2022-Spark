{
 "cells": [
  {
   "cell_type": "code",
   "execution_count": 133,
   "id": "757de717",
   "metadata": {},
   "outputs": [
    {
     "name": "stdout",
     "output_type": "stream",
     "text": [
      "+-----+\n",
      "|hello|\n",
      "+-----+\n",
      "|spark|\n",
      "+-----+\n",
      "\n"
     ]
    }
   ],
   "source": [
    "import findspark\n",
    "findspark.init()\n",
    "import pyspark # only run after findspark.init()\n",
    "from pyspark.sql import SparkSession\n",
    "spark = SparkSession.builder.getOrCreate()\n",
    "df = spark.sql('''select 'spark' as hello ''')\n",
    "df.show()"
   ]
  },
  {
   "cell_type": "code",
   "execution_count": 134,
   "metadata": {},
   "outputs": [
    {
     "name": "stdout",
     "output_type": "stream",
     "text": [
      "root\n",
      " |-- STATIONS_ID: double (nullable = true)\n",
      " |-- MESS_DATUM: long (nullable = true)\n",
      " |-- QN: double (nullable = true)\n",
      " |-- PP_10: double (nullable = true)\n",
      " |-- TT_10: double (nullable = true)\n",
      " |-- TM5_10: double (nullable = true)\n",
      " |-- RF_10: double (nullable = true)\n",
      " |-- TD_10: double (nullable = true)\n",
      "\n"
     ]
    }
   ],
   "source": [
    "df = spark.read.options(delimiter=\";\", inferSchema='True', header=True).csv(\"/home/mario/Downloads/10minutenwerte_only_100/produkt_zehn_min_tu_19900101_19991231_03366.txt\")\n",
    "df.printSchema()"
   ]
  },
  {
   "cell_type": "code",
   "execution_count": 135,
   "metadata": {},
   "outputs": [
    {
     "name": "stdout",
     "output_type": "stream",
     "text": [
      "+-----------+------------+---+-----+-----+------+-----+-----+\n",
      "|STATIONS_ID|  MESS_DATUM| QN|PP_10|TT_10|TM5_10|RF_10|TD_10|\n",
      "+-----------+------------+---+-----+-----+------+-----+-----+\n",
      "|     3366.0|199001010000|1.0|972.6| -4.4|  -4.0| 94.0| -4.6|\n",
      "|     3366.0|199001010010|1.0|972.5| -4.3|  -3.9| 94.0| -4.7|\n",
      "|     3366.0|199001010020|1.0|972.4| -4.4|  -4.0| 94.0| -4.7|\n",
      "|     3366.0|199001010030|1.0|972.3| -4.4|  -4.1| 94.0| -4.6|\n",
      "|     3366.0|199001010040|1.0|972.3| -4.5|  -4.1| 94.0| -4.8|\n",
      "+-----------+------------+---+-----+-----+------+-----+-----+\n",
      "only showing top 5 rows\n",
      "\n"
     ]
    }
   ],
   "source": [
    "df.show(n=5)"
   ]
  },
  {
   "cell_type": "code",
   "execution_count": 136,
   "metadata": {},
   "outputs": [],
   "source": [
    "#df.withColumn(\"MESS_DATUM\",df.MESS_DATUM.cast(StringType())) \\\n",
    "#  .show(truncate=False)"
   ]
  },
  {
   "cell_type": "code",
   "execution_count": 137,
   "metadata": {},
   "outputs": [],
   "source": [
    "from datetime import datetime\n",
    "from pyspark.sql.functions import col, udf, to_timestamp, year, month\n",
    "from pyspark.sql.types import DoubleType, IntegerType, DateType, StringType\n",
    "df = df.select(\"STATIONS_ID\",\"MESS_DATUM\",\"TT_10\")\n",
    "df = df.withColumn(\"MESS_DATUM\",col(\"MESS_DATUM\").cast(StringType()))\n",
    "df = df.withColumn(\"STATIONS_ID\",col(\"STATIONS_ID\").cast(IntegerType()))\n",
    "df = df.withColumn(\"MESS_DATUM\",to_timestamp(\"MESS_DATUM\", \"yyyyMMddHHmm\"))"
   ]
  },
  {
   "cell_type": "code",
   "execution_count": 138,
   "metadata": {},
   "outputs": [
    {
     "name": "stdout",
     "output_type": "stream",
     "text": [
      "root\n",
      " |-- STATIONS_ID: integer (nullable = true)\n",
      " |-- MESS_DATUM: timestamp (nullable = true)\n",
      " |-- TT_10: double (nullable = true)\n",
      "\n"
     ]
    }
   ],
   "source": [
    "df.printSchema()"
   ]
  },
  {
   "cell_type": "code",
   "execution_count": 139,
   "metadata": {},
   "outputs": [
    {
     "name": "stdout",
     "output_type": "stream",
     "text": [
      "+-----------+-------------------+-----+\n",
      "|STATIONS_ID|         MESS_DATUM|TT_10|\n",
      "+-----------+-------------------+-----+\n",
      "|       3366|1990-01-01 00:00:00| -4.4|\n",
      "|       3366|1990-01-01 00:10:00| -4.3|\n",
      "|       3366|1990-01-01 00:20:00| -4.4|\n",
      "|       3366|1990-01-01 00:30:00| -4.4|\n",
      "|       3366|1990-01-01 00:40:00| -4.5|\n",
      "+-----------+-------------------+-----+\n",
      "only showing top 5 rows\n",
      "\n"
     ]
    }
   ],
   "source": [
    "df.show(n=5)"
   ]
  },
  {
   "cell_type": "markdown",
   "metadata": {},
   "source": [
    "Bauernregel:\n",
    "\n",
    "„Wenn's im Dezember nicht wintert, sommert's im Juni auch nicht.“\n",
    "\n",
    "Hierbei handelt es sich im Prinzip um die entgegengesetzte Regel zu der vorherigen:\n",
    "Im Juni wird es nicht warm, wenn im Dezember kein richtiger Winter war.\n",
    "Es stimmt, dass die These zu 65 Prozent eintrifft. Andersrum, wenn es also im Juni nicht „sommert“, wird es im Dezember nicht „wintern“,\n",
    "stimmt die Bauernregel aber nicht. Warum das so ist, weiß keiner so genau.\n"
   ]
  },
  {
   "cell_type": "code",
   "execution_count": 140,
   "metadata": {},
   "outputs": [
    {
     "name": "stdout",
     "output_type": "stream",
     "text": [
      "+-------+-----------+------------------+\n",
      "|summary|STATIONS_ID|             TT_10|\n",
      "+-------+-----------+------------------+\n",
      "|  count|     480758|            480758|\n",
      "|   mean|     3366.0|-37.06368068758087|\n",
      "| stddev|        0.0|209.83299914047205|\n",
      "|    min|       3366|            -999.0|\n",
      "|    max|       3366|              35.6|\n",
      "+-------+-----------+------------------+\n",
      "\n"
     ]
    }
   ],
   "source": [
    "df.describe().show()\n"
   ]
  },
  {
   "cell_type": "code",
   "execution_count": 141,
   "metadata": {},
   "outputs": [
    {
     "name": "stdout",
     "output_type": "stream",
     "text": [
      "+-----------+-------------------+-----+\n",
      "|STATIONS_ID|         MESS_DATUM|TT_10|\n",
      "+-----------+-------------------+-----+\n",
      "|       3366|1990-06-01 00:00:00|  6.7|\n",
      "|       3366|1990-06-01 00:10:00|  6.9|\n",
      "|       3366|1990-06-01 00:20:00|  6.2|\n",
      "|       3366|1990-06-01 00:30:00|  5.8|\n",
      "|       3366|1990-06-01 00:40:00|  5.8|\n",
      "|       3366|1990-06-01 00:50:00|  6.0|\n",
      "|       3366|1990-06-01 01:00:00|  6.1|\n",
      "|       3366|1990-06-01 01:10:00|  6.0|\n",
      "|       3366|1990-06-01 01:20:00|  5.9|\n",
      "|       3366|1990-06-01 01:30:00|  5.6|\n",
      "|       3366|1990-06-01 01:40:00|  5.7|\n",
      "|       3366|1990-06-01 01:50:00|  6.3|\n",
      "|       3366|1990-06-01 02:00:00|  6.5|\n",
      "|       3366|1990-06-01 02:10:00|  6.8|\n",
      "|       3366|1990-06-01 02:20:00|  5.8|\n",
      "|       3366|1990-06-01 02:30:00|  5.3|\n",
      "|       3366|1990-06-01 02:40:00|  5.5|\n",
      "|       3366|1990-06-01 02:50:00|  5.5|\n",
      "|       3366|1990-06-01 03:00:00|  6.5|\n",
      "|       3366|1990-06-01 03:10:00|  7.3|\n",
      "+-----------+-------------------+-----+\n",
      "only showing top 20 rows\n",
      "\n"
     ]
    }
   ],
   "source": [
    "# we only need months June and Decemeber\n",
    "df = df.filter((month(\"MESS_DATUM\") == 6) | (month(\"MESS_DATUM\") == 12))\n",
    "df.show()"
   ]
  },
  {
   "cell_type": "code",
   "execution_count": 142,
   "metadata": {},
   "outputs": [
    {
     "name": "stdout",
     "output_type": "stream",
     "text": [
      "+-----------+----+-----+-----+\n",
      "|STATIONS_ID|year|month|TT_10|\n",
      "+-----------+----+-----+-----+\n",
      "|       3366|1990|    6|  6.7|\n",
      "|       3366|1990|    6|  6.9|\n",
      "|       3366|1990|    6|  6.2|\n",
      "|       3366|1990|    6|  5.8|\n",
      "|       3366|1990|    6|  5.8|\n",
      "|       3366|1990|    6|  6.0|\n",
      "|       3366|1990|    6|  6.1|\n",
      "|       3366|1990|    6|  6.0|\n",
      "|       3366|1990|    6|  5.9|\n",
      "|       3366|1990|    6|  5.6|\n",
      "|       3366|1990|    6|  5.7|\n",
      "|       3366|1990|    6|  6.3|\n",
      "|       3366|1990|    6|  6.5|\n",
      "|       3366|1990|    6|  6.8|\n",
      "|       3366|1990|    6|  5.8|\n",
      "|       3366|1990|    6|  5.3|\n",
      "|       3366|1990|    6|  5.5|\n",
      "|       3366|1990|    6|  5.5|\n",
      "|       3366|1990|    6|  6.5|\n",
      "|       3366|1990|    6|  7.3|\n",
      "+-----------+----+-----+-----+\n",
      "only showing top 20 rows\n",
      "\n"
     ]
    }
   ],
   "source": [
    "df = df.select(\"STATIONS_ID\", year(\"MESS_DATUM\").alias(\"year\"),month(\"MESS_DATUM\").alias(\"month\"), \"TT_10\")\n",
    "df.show()"
   ]
  },
  {
   "cell_type": "code",
   "execution_count": 143,
   "metadata": {},
   "outputs": [
    {
     "name": "stdout",
     "output_type": "stream",
     "text": [
      "+----+-----+--------------------+\n",
      "|year|month|          avg(TT_10)|\n",
      "+----+-----+--------------------+\n",
      "|1990|    6|  13.595092592592565|\n",
      "|1990|   12| -11.698342803030272|\n",
      "|1991|    6|  14.654583333333356|\n",
      "|1992|    6|  -66.83006666666667|\n",
      "|1993|    6|  14.659828465461315|\n",
      "|1994|    6|   16.76222737819026|\n",
      "|1993|   12|  2.4830121021963185|\n",
      "|1995|   12| -1.2314964157706108|\n",
      "|1994|   12|    2.02283535217586|\n",
      "|1995|    6|  14.494441871236706|\n",
      "|1996|    6|  17.114129273504336|\n",
      "|1996|   12|  -4.925990752972258|\n",
      "|1997|   12|  0.8322356630824369|\n",
      "|1998|    6|   17.09474912485418|\n",
      "|1997|    6|   16.27305555555556|\n",
      "|1999|    6|  15.699606481481515|\n",
      "|1998|   12| -1.1544822949350064|\n",
      "|1999|   12|-0.18109441578829447|\n",
      "+----+-----+--------------------+\n",
      "\n"
     ]
    },
    {
     "name": "stderr",
     "output_type": "stream",
     "text": [
      "                                                                                \r"
     ]
    }
   ],
   "source": [
    "# calculate average temperature for each year+month\n",
    "df = df.groupBy(\"year\", \"month\").avg(\"TT_10\")\n",
    "df.show()"
   ]
  },
  {
   "cell_type": "code",
   "execution_count": 144,
   "metadata": {},
   "outputs": [
    {
     "name": "stdout",
     "output_type": "stream",
     "text": [
      "+----+-----+--------------------+\n",
      "|year|month|          avg(TT_10)|\n",
      "+----+-----+--------------------+\n",
      "|1990|   12| -11.698342803030272|\n",
      "|1993|   12|  2.4830121021963185|\n",
      "|1995|   12| -1.2314964157706108|\n",
      "|1994|   12|    2.02283535217586|\n",
      "|1996|   12|  -4.925990752972258|\n",
      "|1997|   12|  0.8322356630824369|\n",
      "|1998|   12| -1.1544822949350064|\n",
      "|1999|   12|-0.18109441578829447|\n",
      "+----+-----+--------------------+\n",
      "\n"
     ]
    }
   ],
   "source": [
    "df2 = df.filter(df.month == 12)\n",
    "df2.show()"
   ]
  },
  {
   "cell_type": "code",
   "execution_count": 145,
   "metadata": {},
   "outputs": [
    {
     "name": "stderr",
     "output_type": "stream",
     "text": [
      "Traceback (most recent call last):\n",
      "  File \"/home/mario/.local/lib/python3.10/site-packages/pyspark/serializers.py\", line 458, in dumps\n",
      "    return cloudpickle.dumps(obj, pickle_protocol)\n",
      "  File \"/home/mario/.local/lib/python3.10/site-packages/pyspark/cloudpickle/cloudpickle_fast.py\", line 73, in dumps\n",
      "    cp.dump(obj)\n",
      "  File \"/home/mario/.local/lib/python3.10/site-packages/pyspark/cloudpickle/cloudpickle_fast.py\", line 602, in dump\n",
      "    return Pickler.dump(self, obj)\n",
      "  File \"/home/mario/.local/lib/python3.10/site-packages/pyspark/context.py\", line 447, in __getnewargs__\n",
      "    raise RuntimeError(\n",
      "RuntimeError: It appears that you are attempting to reference SparkContext from a broadcast variable, action, or transformation. SparkContext can only be used on the driver, not in code that it run on workers. For more information, see SPARK-5063.\n"
     ]
    },
    {
     "ename": "PicklingError",
     "evalue": "Could not serialize object: RuntimeError: It appears that you are attempting to reference SparkContext from a broadcast variable, action, or transformation. SparkContext can only be used on the driver, not in code that it run on workers. For more information, see SPARK-5063.",
     "output_type": "error",
     "traceback": [
      "\u001b[0;31m---------------------------------------------------------------------------\u001b[0m",
      "\u001b[0;31mRuntimeError\u001b[0m                              Traceback (most recent call last)",
      "File \u001b[0;32m~/.local/lib/python3.10/site-packages/pyspark/serializers.py:458\u001b[0m, in \u001b[0;36mCloudPickleSerializer.dumps\u001b[0;34m(self, obj)\u001b[0m\n\u001b[1;32m    457\u001b[0m \u001b[39mtry\u001b[39;00m:\n\u001b[0;32m--> 458\u001b[0m     \u001b[39mreturn\u001b[39;00m cloudpickle\u001b[39m.\u001b[39;49mdumps(obj, pickle_protocol)\n\u001b[1;32m    459\u001b[0m \u001b[39mexcept\u001b[39;00m pickle\u001b[39m.\u001b[39mPickleError:\n",
      "File \u001b[0;32m~/.local/lib/python3.10/site-packages/pyspark/cloudpickle/cloudpickle_fast.py:73\u001b[0m, in \u001b[0;36mdumps\u001b[0;34m(obj, protocol, buffer_callback)\u001b[0m\n\u001b[1;32m     70\u001b[0m cp \u001b[39m=\u001b[39m CloudPickler(\n\u001b[1;32m     71\u001b[0m     file, protocol\u001b[39m=\u001b[39mprotocol, buffer_callback\u001b[39m=\u001b[39mbuffer_callback\n\u001b[1;32m     72\u001b[0m )\n\u001b[0;32m---> 73\u001b[0m cp\u001b[39m.\u001b[39;49mdump(obj)\n\u001b[1;32m     74\u001b[0m \u001b[39mreturn\u001b[39;00m file\u001b[39m.\u001b[39mgetvalue()\n",
      "File \u001b[0;32m~/.local/lib/python3.10/site-packages/pyspark/cloudpickle/cloudpickle_fast.py:602\u001b[0m, in \u001b[0;36mCloudPickler.dump\u001b[0;34m(self, obj)\u001b[0m\n\u001b[1;32m    601\u001b[0m \u001b[39mtry\u001b[39;00m:\n\u001b[0;32m--> 602\u001b[0m     \u001b[39mreturn\u001b[39;00m Pickler\u001b[39m.\u001b[39;49mdump(\u001b[39mself\u001b[39;49m, obj)\n\u001b[1;32m    603\u001b[0m \u001b[39mexcept\u001b[39;00m \u001b[39mRuntimeError\u001b[39;00m \u001b[39mas\u001b[39;00m e:\n",
      "File \u001b[0;32m~/.local/lib/python3.10/site-packages/pyspark/context.py:447\u001b[0m, in \u001b[0;36mSparkContext.__getnewargs__\u001b[0;34m(self)\u001b[0m\n\u001b[1;32m    445\u001b[0m \u001b[39mdef\u001b[39;00m \u001b[39m__getnewargs__\u001b[39m(\u001b[39mself\u001b[39m) \u001b[39m-\u001b[39m\u001b[39m>\u001b[39m NoReturn:\n\u001b[1;32m    446\u001b[0m     \u001b[39m# This method is called when attempting to pickle SparkContext, which is always an error:\u001b[39;00m\n\u001b[0;32m--> 447\u001b[0m     \u001b[39mraise\u001b[39;00m \u001b[39mRuntimeError\u001b[39;00m(\n\u001b[1;32m    448\u001b[0m         \u001b[39m\"\u001b[39m\u001b[39mIt appears that you are attempting to reference SparkContext from a broadcast \u001b[39m\u001b[39m\"\u001b[39m\n\u001b[1;32m    449\u001b[0m         \u001b[39m\"\u001b[39m\u001b[39mvariable, action, or transformation. SparkContext can only be used on the driver, \u001b[39m\u001b[39m\"\u001b[39m\n\u001b[1;32m    450\u001b[0m         \u001b[39m\"\u001b[39m\u001b[39mnot in code that it run on workers. For more information, see SPARK-5063.\u001b[39m\u001b[39m\"\u001b[39m\n\u001b[1;32m    451\u001b[0m     )\n",
      "\u001b[0;31mRuntimeError\u001b[0m: It appears that you are attempting to reference SparkContext from a broadcast variable, action, or transformation. SparkContext can only be used on the driver, not in code that it run on workers. For more information, see SPARK-5063.",
      "\nDuring handling of the above exception, another exception occurred:\n",
      "\u001b[0;31mPicklingError\u001b[0m                             Traceback (most recent call last)",
      "\u001b[1;32m/run/media/mario/shared_partition/WS2022-2023/Big Data and Advanced Database System Concepts/Big-Data-WS2022-Spark/mario/data_preparation.ipynb Cell 14\u001b[0m in \u001b[0;36m<cell line: 4>\u001b[0;34m()\u001b[0m\n\u001b[1;32m      <a href='vscode-notebook-cell:/run/media/mario/shared_partition/WS2022-2023/Big%20Data%20and%20Advanced%20Database%20System%20Concepts/Big-Data-WS2022-Spark/mario/data_preparation.ipynb#X34sZmlsZQ%3D%3D?line=0'>1</a>\u001b[0m df2 \u001b[39m=\u001b[39m df2\u001b[39m.\u001b[39mrdd\u001b[39m.\u001b[39mmap(\u001b[39mlambda\u001b[39;00m x: \n\u001b[1;32m      <a href='vscode-notebook-cell:/run/media/mario/shared_partition/WS2022-2023/Big%20Data%20and%20Advanced%20Database%20System%20Concepts/Big-Data-WS2022-Spark/mario/data_preparation.ipynb#X34sZmlsZQ%3D%3D?line=1'>2</a>\u001b[0m     df\u001b[39m.\u001b[39mfilter(\u001b[39m\"\u001b[39m\u001b[39myear\u001b[39m\u001b[39m\"\u001b[39m \u001b[39m==\u001b[39m x[\u001b[39m\"\u001b[39m\u001b[39myear\u001b[39m\u001b[39m\"\u001b[39m]\u001b[39m+\u001b[39m\u001b[39m1\u001b[39m \u001b[39m&\u001b[39m \u001b[39m\"\u001b[39m\u001b[39mmonth\u001b[39m\u001b[39m\"\u001b[39m \u001b[39m==\u001b[39m \u001b[39m6\u001b[39m)\u001b[39m.\u001b[39mselect(\u001b[39m\"\u001b[39m\u001b[39mtemperature\u001b[39m\u001b[39m\"\u001b[39m)\u001b[39m.\u001b[39malias(\u001b[39m\"\u001b[39m\u001b[39mtemperature_june_next_year\u001b[39m\u001b[39m\"\u001b[39m)\n\u001b[1;32m      <a href='vscode-notebook-cell:/run/media/mario/shared_partition/WS2022-2023/Big%20Data%20and%20Advanced%20Database%20System%20Concepts/Big-Data-WS2022-Spark/mario/data_preparation.ipynb#X34sZmlsZQ%3D%3D?line=2'>3</a>\u001b[0m     )\n\u001b[0;32m----> <a href='vscode-notebook-cell:/run/media/mario/shared_partition/WS2022-2023/Big%20Data%20and%20Advanced%20Database%20System%20Concepts/Big-Data-WS2022-Spark/mario/data_preparation.ipynb#X34sZmlsZQ%3D%3D?line=3'>4</a>\u001b[0m df2 \u001b[39m=\u001b[39m df2\u001b[39m.\u001b[39;49mtoDF()\n\u001b[1;32m      <a href='vscode-notebook-cell:/run/media/mario/shared_partition/WS2022-2023/Big%20Data%20and%20Advanced%20Database%20System%20Concepts/Big-Data-WS2022-Spark/mario/data_preparation.ipynb#X34sZmlsZQ%3D%3D?line=4'>5</a>\u001b[0m df2\u001b[39m.\u001b[39mshow()\n",
      "File \u001b[0;32m~/.local/lib/python3.10/site-packages/pyspark/sql/session.py:102\u001b[0m, in \u001b[0;36m_monkey_patch_RDD.<locals>.toDF\u001b[0;34m(self, schema, sampleRatio)\u001b[0m\n\u001b[1;32m     74\u001b[0m \u001b[39m@no_type_check\u001b[39m\n\u001b[1;32m     75\u001b[0m \u001b[39mdef\u001b[39;00m \u001b[39mtoDF\u001b[39m(\u001b[39mself\u001b[39m, schema\u001b[39m=\u001b[39m\u001b[39mNone\u001b[39;00m, sampleRatio\u001b[39m=\u001b[39m\u001b[39mNone\u001b[39;00m):\n\u001b[1;32m     76\u001b[0m     \u001b[39m\"\"\"\u001b[39;00m\n\u001b[1;32m     77\u001b[0m \u001b[39m    Converts current :class:`RDD` into a :class:`DataFrame`\u001b[39;00m\n\u001b[1;32m     78\u001b[0m \n\u001b[0;32m   (...)\u001b[0m\n\u001b[1;32m    100\u001b[0m \u001b[39m    [Row(name='Alice', age=1)]\u001b[39;00m\n\u001b[1;32m    101\u001b[0m \u001b[39m    \"\"\"\u001b[39;00m\n\u001b[0;32m--> 102\u001b[0m     \u001b[39mreturn\u001b[39;00m sparkSession\u001b[39m.\u001b[39;49mcreateDataFrame(\u001b[39mself\u001b[39;49m, schema, sampleRatio)\n",
      "File \u001b[0;32m~/.local/lib/python3.10/site-packages/pyspark/sql/session.py:894\u001b[0m, in \u001b[0;36mSparkSession.createDataFrame\u001b[0;34m(self, data, schema, samplingRatio, verifySchema)\u001b[0m\n\u001b[1;32m    889\u001b[0m \u001b[39mif\u001b[39;00m has_pandas \u001b[39mand\u001b[39;00m \u001b[39misinstance\u001b[39m(data, pandas\u001b[39m.\u001b[39mDataFrame):\n\u001b[1;32m    890\u001b[0m     \u001b[39m# Create a DataFrame from pandas DataFrame.\u001b[39;00m\n\u001b[1;32m    891\u001b[0m     \u001b[39mreturn\u001b[39;00m \u001b[39msuper\u001b[39m(SparkSession, \u001b[39mself\u001b[39m)\u001b[39m.\u001b[39mcreateDataFrame(  \u001b[39m# type: ignore[call-overload]\u001b[39;00m\n\u001b[1;32m    892\u001b[0m         data, schema, samplingRatio, verifySchema\n\u001b[1;32m    893\u001b[0m     )\n\u001b[0;32m--> 894\u001b[0m \u001b[39mreturn\u001b[39;00m \u001b[39mself\u001b[39;49m\u001b[39m.\u001b[39;49m_create_dataframe(\n\u001b[1;32m    895\u001b[0m     data, schema, samplingRatio, verifySchema  \u001b[39m# type: ignore[arg-type]\u001b[39;49;00m\n\u001b[1;32m    896\u001b[0m )\n",
      "File \u001b[0;32m~/.local/lib/python3.10/site-packages/pyspark/sql/session.py:934\u001b[0m, in \u001b[0;36mSparkSession._create_dataframe\u001b[0;34m(self, data, schema, samplingRatio, verifySchema)\u001b[0m\n\u001b[1;32m    931\u001b[0m         \u001b[39mreturn\u001b[39;00m obj\n\u001b[1;32m    933\u001b[0m \u001b[39mif\u001b[39;00m \u001b[39misinstance\u001b[39m(data, RDD):\n\u001b[0;32m--> 934\u001b[0m     rdd, struct \u001b[39m=\u001b[39m \u001b[39mself\u001b[39;49m\u001b[39m.\u001b[39;49m_createFromRDD(data\u001b[39m.\u001b[39;49mmap(prepare), schema, samplingRatio)\n\u001b[1;32m    935\u001b[0m \u001b[39melse\u001b[39;00m:\n\u001b[1;32m    936\u001b[0m     rdd, struct \u001b[39m=\u001b[39m \u001b[39mself\u001b[39m\u001b[39m.\u001b[39m_createFromLocal(\u001b[39mmap\u001b[39m(prepare, data), schema)\n",
      "File \u001b[0;32m~/.local/lib/python3.10/site-packages/pyspark/sql/session.py:600\u001b[0m, in \u001b[0;36mSparkSession._createFromRDD\u001b[0;34m(self, rdd, schema, samplingRatio)\u001b[0m\n\u001b[1;32m    596\u001b[0m \u001b[39m\"\"\"\u001b[39;00m\n\u001b[1;32m    597\u001b[0m \u001b[39mCreate an RDD for DataFrame from an existing RDD, returns the RDD and schema.\u001b[39;00m\n\u001b[1;32m    598\u001b[0m \u001b[39m\"\"\"\u001b[39;00m\n\u001b[1;32m    599\u001b[0m \u001b[39mif\u001b[39;00m schema \u001b[39mis\u001b[39;00m \u001b[39mNone\u001b[39;00m \u001b[39mor\u001b[39;00m \u001b[39misinstance\u001b[39m(schema, (\u001b[39mlist\u001b[39m, \u001b[39mtuple\u001b[39m)):\n\u001b[0;32m--> 600\u001b[0m     struct \u001b[39m=\u001b[39m \u001b[39mself\u001b[39;49m\u001b[39m.\u001b[39;49m_inferSchema(rdd, samplingRatio, names\u001b[39m=\u001b[39;49mschema)\n\u001b[1;32m    601\u001b[0m     converter \u001b[39m=\u001b[39m _create_converter(struct)\n\u001b[1;32m    602\u001b[0m     tupled_rdd \u001b[39m=\u001b[39m rdd\u001b[39m.\u001b[39mmap(converter)\n",
      "File \u001b[0;32m~/.local/lib/python3.10/site-packages/pyspark/sql/session.py:546\u001b[0m, in \u001b[0;36mSparkSession._inferSchema\u001b[0;34m(self, rdd, samplingRatio, names)\u001b[0m\n\u001b[1;32m    525\u001b[0m \u001b[39mdef\u001b[39;00m \u001b[39m_inferSchema\u001b[39m(\n\u001b[1;32m    526\u001b[0m     \u001b[39mself\u001b[39m,\n\u001b[1;32m    527\u001b[0m     rdd: RDD[Any],\n\u001b[1;32m    528\u001b[0m     samplingRatio: Optional[\u001b[39mfloat\u001b[39m] \u001b[39m=\u001b[39m \u001b[39mNone\u001b[39;00m,\n\u001b[1;32m    529\u001b[0m     names: Optional[List[\u001b[39mstr\u001b[39m]] \u001b[39m=\u001b[39m \u001b[39mNone\u001b[39;00m,\n\u001b[1;32m    530\u001b[0m ) \u001b[39m-\u001b[39m\u001b[39m>\u001b[39m StructType:\n\u001b[1;32m    531\u001b[0m     \u001b[39m\"\"\"\u001b[39;00m\n\u001b[1;32m    532\u001b[0m \u001b[39m    Infer schema from an RDD of Row, dict, or tuple.\u001b[39;00m\n\u001b[1;32m    533\u001b[0m \n\u001b[0;32m   (...)\u001b[0m\n\u001b[1;32m    544\u001b[0m \u001b[39m    :class:`pyspark.sql.types.StructType`\u001b[39;00m\n\u001b[1;32m    545\u001b[0m \u001b[39m    \"\"\"\u001b[39;00m\n\u001b[0;32m--> 546\u001b[0m     first \u001b[39m=\u001b[39m rdd\u001b[39m.\u001b[39;49mfirst()\n\u001b[1;32m    547\u001b[0m     \u001b[39mif\u001b[39;00m \u001b[39mnot\u001b[39;00m first:\n\u001b[1;32m    548\u001b[0m         \u001b[39mraise\u001b[39;00m \u001b[39mValueError\u001b[39;00m(\u001b[39m\"\u001b[39m\u001b[39mThe first row in RDD is empty, \u001b[39m\u001b[39m\"\u001b[39m \u001b[39m\"\u001b[39m\u001b[39mcan not infer schema\u001b[39m\u001b[39m\"\u001b[39m)\n",
      "File \u001b[0;32m~/.local/lib/python3.10/site-packages/pyspark/rdd.py:1903\u001b[0m, in \u001b[0;36mRDD.first\u001b[0;34m(self)\u001b[0m\n\u001b[1;32m   1890\u001b[0m \u001b[39mdef\u001b[39;00m \u001b[39mfirst\u001b[39m(\u001b[39mself\u001b[39m: \u001b[39m\"\u001b[39m\u001b[39mRDD[T]\u001b[39m\u001b[39m\"\u001b[39m) \u001b[39m-\u001b[39m\u001b[39m>\u001b[39m T:\n\u001b[1;32m   1891\u001b[0m     \u001b[39m\"\"\"\u001b[39;00m\n\u001b[1;32m   1892\u001b[0m \u001b[39m    Return the first element in this RDD.\u001b[39;00m\n\u001b[1;32m   1893\u001b[0m \n\u001b[0;32m   (...)\u001b[0m\n\u001b[1;32m   1901\u001b[0m \u001b[39m    ValueError: RDD is empty\u001b[39;00m\n\u001b[1;32m   1902\u001b[0m \u001b[39m    \"\"\"\u001b[39;00m\n\u001b[0;32m-> 1903\u001b[0m     rs \u001b[39m=\u001b[39m \u001b[39mself\u001b[39;49m\u001b[39m.\u001b[39;49mtake(\u001b[39m1\u001b[39;49m)\n\u001b[1;32m   1904\u001b[0m     \u001b[39mif\u001b[39;00m rs:\n\u001b[1;32m   1905\u001b[0m         \u001b[39mreturn\u001b[39;00m rs[\u001b[39m0\u001b[39m]\n",
      "File \u001b[0;32m~/.local/lib/python3.10/site-packages/pyspark/rdd.py:1883\u001b[0m, in \u001b[0;36mRDD.take\u001b[0;34m(self, num)\u001b[0m\n\u001b[1;32m   1880\u001b[0m         taken \u001b[39m+\u001b[39m\u001b[39m=\u001b[39m \u001b[39m1\u001b[39m\n\u001b[1;32m   1882\u001b[0m p \u001b[39m=\u001b[39m \u001b[39mrange\u001b[39m(partsScanned, \u001b[39mmin\u001b[39m(partsScanned \u001b[39m+\u001b[39m numPartsToTry, totalParts))\n\u001b[0;32m-> 1883\u001b[0m res \u001b[39m=\u001b[39m \u001b[39mself\u001b[39;49m\u001b[39m.\u001b[39;49mcontext\u001b[39m.\u001b[39;49mrunJob(\u001b[39mself\u001b[39;49m, takeUpToNumLeft, p)\n\u001b[1;32m   1885\u001b[0m items \u001b[39m+\u001b[39m\u001b[39m=\u001b[39m res\n\u001b[1;32m   1886\u001b[0m partsScanned \u001b[39m+\u001b[39m\u001b[39m=\u001b[39m numPartsToTry\n",
      "File \u001b[0;32m~/.local/lib/python3.10/site-packages/pyspark/context.py:1486\u001b[0m, in \u001b[0;36mSparkContext.runJob\u001b[0;34m(self, rdd, partitionFunc, partitions, allowLocal)\u001b[0m\n\u001b[1;32m   1484\u001b[0m mappedRDD \u001b[39m=\u001b[39m rdd\u001b[39m.\u001b[39mmapPartitions(partitionFunc)\n\u001b[1;32m   1485\u001b[0m \u001b[39massert\u001b[39;00m \u001b[39mself\u001b[39m\u001b[39m.\u001b[39m_jvm \u001b[39mis\u001b[39;00m \u001b[39mnot\u001b[39;00m \u001b[39mNone\u001b[39;00m\n\u001b[0;32m-> 1486\u001b[0m sock_info \u001b[39m=\u001b[39m \u001b[39mself\u001b[39m\u001b[39m.\u001b[39m_jvm\u001b[39m.\u001b[39mPythonRDD\u001b[39m.\u001b[39mrunJob(\u001b[39mself\u001b[39m\u001b[39m.\u001b[39m_jsc\u001b[39m.\u001b[39msc(), mappedRDD\u001b[39m.\u001b[39;49m_jrdd, partitions)\n\u001b[1;32m   1487\u001b[0m \u001b[39mreturn\u001b[39;00m \u001b[39mlist\u001b[39m(_load_from_socket(sock_info, mappedRDD\u001b[39m.\u001b[39m_jrdd_deserializer))\n",
      "File \u001b[0;32m~/.local/lib/python3.10/site-packages/pyspark/rdd.py:3505\u001b[0m, in \u001b[0;36mPipelinedRDD._jrdd\u001b[0;34m(self)\u001b[0m\n\u001b[1;32m   3502\u001b[0m \u001b[39melse\u001b[39;00m:\n\u001b[1;32m   3503\u001b[0m     profiler \u001b[39m=\u001b[39m \u001b[39mNone\u001b[39;00m\n\u001b[0;32m-> 3505\u001b[0m wrapped_func \u001b[39m=\u001b[39m _wrap_function(\n\u001b[1;32m   3506\u001b[0m     \u001b[39mself\u001b[39;49m\u001b[39m.\u001b[39;49mctx, \u001b[39mself\u001b[39;49m\u001b[39m.\u001b[39;49mfunc, \u001b[39mself\u001b[39;49m\u001b[39m.\u001b[39;49m_prev_jrdd_deserializer, \u001b[39mself\u001b[39;49m\u001b[39m.\u001b[39;49m_jrdd_deserializer, profiler\n\u001b[1;32m   3507\u001b[0m )\n\u001b[1;32m   3509\u001b[0m \u001b[39massert\u001b[39;00m \u001b[39mself\u001b[39m\u001b[39m.\u001b[39mctx\u001b[39m.\u001b[39m_jvm \u001b[39mis\u001b[39;00m \u001b[39mnot\u001b[39;00m \u001b[39mNone\u001b[39;00m\n\u001b[1;32m   3510\u001b[0m python_rdd \u001b[39m=\u001b[39m \u001b[39mself\u001b[39m\u001b[39m.\u001b[39mctx\u001b[39m.\u001b[39m_jvm\u001b[39m.\u001b[39mPythonRDD(\n\u001b[1;32m   3511\u001b[0m     \u001b[39mself\u001b[39m\u001b[39m.\u001b[39m_prev_jrdd\u001b[39m.\u001b[39mrdd(), wrapped_func, \u001b[39mself\u001b[39m\u001b[39m.\u001b[39mpreservesPartitioning, \u001b[39mself\u001b[39m\u001b[39m.\u001b[39mis_barrier\n\u001b[1;32m   3512\u001b[0m )\n",
      "File \u001b[0;32m~/.local/lib/python3.10/site-packages/pyspark/rdd.py:3362\u001b[0m, in \u001b[0;36m_wrap_function\u001b[0;34m(sc, func, deserializer, serializer, profiler)\u001b[0m\n\u001b[1;32m   3360\u001b[0m \u001b[39massert\u001b[39;00m serializer, \u001b[39m\"\u001b[39m\u001b[39mserializer should not be empty\u001b[39m\u001b[39m\"\u001b[39m\n\u001b[1;32m   3361\u001b[0m command \u001b[39m=\u001b[39m (func, profiler, deserializer, serializer)\n\u001b[0;32m-> 3362\u001b[0m pickled_command, broadcast_vars, env, includes \u001b[39m=\u001b[39m _prepare_for_python_RDD(sc, command)\n\u001b[1;32m   3363\u001b[0m \u001b[39massert\u001b[39;00m sc\u001b[39m.\u001b[39m_jvm \u001b[39mis\u001b[39;00m \u001b[39mnot\u001b[39;00m \u001b[39mNone\u001b[39;00m\n\u001b[1;32m   3364\u001b[0m \u001b[39mreturn\u001b[39;00m sc\u001b[39m.\u001b[39m_jvm\u001b[39m.\u001b[39mPythonFunction(\n\u001b[1;32m   3365\u001b[0m     \u001b[39mbytearray\u001b[39m(pickled_command),\n\u001b[1;32m   3366\u001b[0m     env,\n\u001b[0;32m   (...)\u001b[0m\n\u001b[1;32m   3371\u001b[0m     sc\u001b[39m.\u001b[39m_javaAccumulator,\n\u001b[1;32m   3372\u001b[0m )\n",
      "File \u001b[0;32m~/.local/lib/python3.10/site-packages/pyspark/rdd.py:3345\u001b[0m, in \u001b[0;36m_prepare_for_python_RDD\u001b[0;34m(sc, command)\u001b[0m\n\u001b[1;32m   3342\u001b[0m \u001b[39mdef\u001b[39;00m \u001b[39m_prepare_for_python_RDD\u001b[39m(sc: \u001b[39m\"\u001b[39m\u001b[39mSparkContext\u001b[39m\u001b[39m\"\u001b[39m, command: Any) \u001b[39m-\u001b[39m\u001b[39m>\u001b[39m Tuple[\u001b[39mbytes\u001b[39m, Any, Any, Any]:\n\u001b[1;32m   3343\u001b[0m     \u001b[39m# the serialized command will be compressed by broadcast\u001b[39;00m\n\u001b[1;32m   3344\u001b[0m     ser \u001b[39m=\u001b[39m CloudPickleSerializer()\n\u001b[0;32m-> 3345\u001b[0m     pickled_command \u001b[39m=\u001b[39m ser\u001b[39m.\u001b[39;49mdumps(command)\n\u001b[1;32m   3346\u001b[0m     \u001b[39massert\u001b[39;00m sc\u001b[39m.\u001b[39m_jvm \u001b[39mis\u001b[39;00m \u001b[39mnot\u001b[39;00m \u001b[39mNone\u001b[39;00m\n\u001b[1;32m   3347\u001b[0m     \u001b[39mif\u001b[39;00m \u001b[39mlen\u001b[39m(pickled_command) \u001b[39m>\u001b[39m sc\u001b[39m.\u001b[39m_jvm\u001b[39m.\u001b[39mPythonUtils\u001b[39m.\u001b[39mgetBroadcastThreshold(sc\u001b[39m.\u001b[39m_jsc):  \u001b[39m# Default 1M\u001b[39;00m\n\u001b[1;32m   3348\u001b[0m         \u001b[39m# The broadcast will have same life cycle as created PythonRDD\u001b[39;00m\n",
      "File \u001b[0;32m~/.local/lib/python3.10/site-packages/pyspark/serializers.py:468\u001b[0m, in \u001b[0;36mCloudPickleSerializer.dumps\u001b[0;34m(self, obj)\u001b[0m\n\u001b[1;32m    466\u001b[0m     msg \u001b[39m=\u001b[39m \u001b[39m\"\u001b[39m\u001b[39mCould not serialize object: \u001b[39m\u001b[39m%s\u001b[39;00m\u001b[39m: \u001b[39m\u001b[39m%s\u001b[39;00m\u001b[39m\"\u001b[39m \u001b[39m%\u001b[39m (e\u001b[39m.\u001b[39m\u001b[39m__class__\u001b[39m\u001b[39m.\u001b[39m\u001b[39m__name__\u001b[39m, emsg)\n\u001b[1;32m    467\u001b[0m print_exec(sys\u001b[39m.\u001b[39mstderr)\n\u001b[0;32m--> 468\u001b[0m \u001b[39mraise\u001b[39;00m pickle\u001b[39m.\u001b[39mPicklingError(msg)\n",
      "\u001b[0;31mPicklingError\u001b[0m: Could not serialize object: RuntimeError: It appears that you are attempting to reference SparkContext from a broadcast variable, action, or transformation. SparkContext can only be used on the driver, not in code that it run on workers. For more information, see SPARK-5063."
     ]
    }
   ],
   "source": [
    "df2 = df2.rdd.map(lambda x: \n",
    "    df.filter(\"year\" == x[\"year\"]+1 & \"month\" == 6).select(\"temperature\").alias(\"temperature_june_next_year\")\n",
    "    )\n",
    "df2 = df2.toDF()\n",
    "df2.show()"
   ]
  },
  {
   "cell_type": "code",
   "execution_count": 81,
   "metadata": {},
   "outputs": [
    {
     "name": "stdout",
     "output_type": "stream",
     "text": [
      "+------------+\n",
      "|unique_years|\n",
      "+------------+\n",
      "|        1990|\n",
      "|        1991|\n",
      "|        1992|\n",
      "|        1993|\n",
      "|        1994|\n",
      "|        1995|\n",
      "|        1997|\n",
      "|        1996|\n",
      "|        1998|\n",
      "|        1999|\n",
      "+------------+\n",
      "\n"
     ]
    },
    {
     "name": "stderr",
     "output_type": "stream",
     "text": [
      "                                                                                \r"
     ]
    }
   ],
   "source": [
    "df.createOrReplaceTempView(\"df\")\n",
    "sqlDF = spark.sql(\"SELECT * FROM df;\")\n",
    "sqlDF.show()"
   ]
  },
  {
   "cell_type": "code",
   "execution_count": 74,
   "metadata": {},
   "outputs": [],
   "source": [
    "df = df.select(year('MESS_DATUM').alias(\"unique_years\")).distinct()"
   ]
  },
  {
   "cell_type": "code",
   "execution_count": 75,
   "metadata": {},
   "outputs": [
    {
     "name": "stdout",
     "output_type": "stream",
     "text": [
      "+------------+\n",
      "|unique_years|\n",
      "+------------+\n",
      "|        1990|\n",
      "|        1991|\n",
      "|        1992|\n",
      "|        1993|\n",
      "|        1994|\n",
      "|        1995|\n",
      "|        1997|\n",
      "|        1996|\n",
      "|        1998|\n",
      "|        1999|\n",
      "+------------+\n",
      "\n"
     ]
    },
    {
     "name": "stderr",
     "output_type": "stream",
     "text": [
      "                                                                                \r"
     ]
    }
   ],
   "source": [
    "df.show()"
   ]
  },
  {
   "cell_type": "code",
   "execution_count": 78,
   "metadata": {},
   "outputs": [
    {
     "name": "stdout",
     "output_type": "stream",
     "text": [
      "[1990, 1991, 1992, 1993, 1994, 1995, 1997, 1996, 1998, 1999]\n"
     ]
    },
    {
     "name": "stderr",
     "output_type": "stream",
     "text": [
      "                                                                                \r"
     ]
    }
   ],
   "source": [
    "unique_years_list = df.select('unique_years').rdd.flatMap(lambda x: x).collect()\n",
    "print(unique_years_list)"
   ]
  },
  {
   "cell_type": "code",
   "execution_count": null,
   "metadata": {},
   "outputs": [],
   "source": []
  },
  {
   "cell_type": "code",
   "execution_count": 5,
   "metadata": {},
   "outputs": [
    {
     "name": "stderr",
     "output_type": "stream",
     "text": [
      "[Stage 5:======================>                                 (41 + 8) / 103]\r"
     ]
    },
    {
     "name": "stdout",
     "output_type": "stream",
     "text": [
      "22/12/15 09:34:54 WARN CSVHeaderChecker: Number of column in CSV header is not equal to number of fields in the schema:\n",
      " Header length: 8, schema size: 9\n",
      "CSV file: file:///home/mario/Downloads/10minutenwerte_only_half/produkt_zehn_min_tu_19900101_19991231_03366.txt\n"
     ]
    },
    {
     "name": "stderr",
     "output_type": "stream",
     "text": [
      "[Stage 5:=======================>                                (43 + 8) / 103]\r"
     ]
    },
    {
     "name": "stdout",
     "output_type": "stream",
     "text": [
      "22/12/15 09:34:55 WARN CSVHeaderChecker: Number of column in CSV header is not equal to number of fields in the schema:\n",
      " Header length: 8, schema size: 9\n",
      "CSV file: file:///home/mario/Downloads/10minutenwerte_only_half/produkt_zehn_min_tu_19910101_19991231_03023.txt\n"
     ]
    },
    {
     "name": "stderr",
     "output_type": "stream",
     "text": [
      "[Stage 5:=======================>                                (44 + 8) / 103]\r"
     ]
    },
    {
     "name": "stdout",
     "output_type": "stream",
     "text": [
      "22/12/15 09:34:58 WARN CSVHeaderChecker: Number of column in CSV header is not equal to number of fields in the schema:\n",
      " Header length: 8, schema size: 9\n",
      "CSV file: file:///home/mario/Downloads/10minutenwerte_only_half/produkt_zehn_min_tu_19910101_19991231_01468.txt\n"
     ]
    },
    {
     "name": "stderr",
     "output_type": "stream",
     "text": [
      "[Stage 5:========================>                               (45 + 8) / 103]\r"
     ]
    },
    {
     "name": "stdout",
     "output_type": "stream",
     "text": [
      "22/12/15 09:34:58 WARN CSVHeaderChecker: Number of column in CSV header is not equal to number of fields in the schema:\n",
      " Header length: 8, schema size: 9\n",
      "CSV file: file:///home/mario/Downloads/10minutenwerte_only_half/produkt_zehn_min_tu_19910619_19991231_00691.txt\n"
     ]
    },
    {
     "name": "stderr",
     "output_type": "stream",
     "text": [
      "[Stage 5:=========================>                              (46 + 8) / 103]\r"
     ]
    },
    {
     "name": "stdout",
     "output_type": "stream",
     "text": [
      "22/12/15 09:34:58 WARN CSVHeaderChecker: Number of column in CSV header is not equal to number of fields in the schema:\n",
      " Header length: 8, schema size: 9\n",
      "CSV file: file:///home/mario/Downloads/10minutenwerte_only_half/produkt_zehn_min_tu_19911031_19991231_00591.txt\n"
     ]
    },
    {
     "name": "stderr",
     "output_type": "stream",
     "text": [
      "[Stage 5:=========================>                              (47 + 8) / 103]\r"
     ]
    },
    {
     "name": "stdout",
     "output_type": "stream",
     "text": [
      "22/12/15 09:35:01 WARN CSVHeaderChecker: Number of column in CSV header is not equal to number of fields in the schema:\n",
      " Header length: 8, schema size: 9\n",
      "CSV file: file:///home/mario/Downloads/10minutenwerte_only_half/produkt_zehn_min_tu_19911101_19991231_01544.txt\n"
     ]
    },
    {
     "name": "stderr",
     "output_type": "stream",
     "text": [
      "[Stage 5:==========================>                             (48 + 8) / 103]\r"
     ]
    },
    {
     "name": "stdout",
     "output_type": "stream",
     "text": [
      "22/12/15 09:35:12 WARN CSVHeaderChecker: Number of column in CSV header is not equal to number of fields in the schema:\n",
      " Header length: 8, schema size: 9\n",
      "CSV file: file:///home/mario/Downloads/10minutenwerte_only_half/produkt_zehn_min_tu_19911101_19991231_03126.txt\n",
      "22/12/15 09:35:27 WARN CSVHeaderChecker: Number of column in CSV header is not equal to number of fields in the schema:\n",
      " Header length: 8, schema size: 9\n",
      "CSV file: file:///home/mario/Downloads/10minutenwerte_only_half/produkt_zehn_min_tu_19910101_19991231_03287.txt\n",
      "22/12/15 09:35:27 WARN CSVHeaderChecker: Number of column in CSV header is not equal to number of fields in the schema:\n",
      " Header length: 8, schema size: 9\n",
      "CSV file: file:///home/mario/Downloads/10minutenwerte_only_half/produkt_zehn_min_tu_19910417_19991231_04466.txt\n",
      "22/12/15 09:35:28 WARN CSVHeaderChecker: Number of column in CSV header is not equal to number of fields in the schema:\n",
      " Header length: 8, schema size: 9\n",
      "CSV file: file:///home/mario/Downloads/10minutenwerte_only_half/produkt_zehn_min_tu_19910808_19991231_00656.txt\n"
     ]
    },
    {
     "name": "stderr",
     "output_type": "stream",
     "text": [
      "[Stage 5:==========================>                             (49 + 8) / 103]\r"
     ]
    },
    {
     "name": "stdout",
     "output_type": "stream",
     "text": [
      "22/12/15 09:35:29 WARN CSVHeaderChecker: Number of column in CSV header is not equal to number of fields in the schema:\n",
      " Header length: 8, schema size: 9\n",
      "CSV file: file:///home/mario/Downloads/10minutenwerte_only_half/produkt_zehn_min_tu_19911031_19991231_00164.txt\n",
      "22/12/15 09:35:34 WARN CSVHeaderChecker: Number of column in CSV header is not equal to number of fields in the schema:\n",
      " Header length: 8, schema size: 9\n",
      "CSV file: file:///home/mario/Downloads/10minutenwerte_only_half/produkt_zehn_min_tu_19910704_19991231_05397.txt\n",
      "22/12/15 09:35:41 WARN CSVHeaderChecker: Number of column in CSV header is not equal to number of fields in the schema:\n",
      " Header length: 8, schema size: 9\n",
      "CSV file: file:///home/mario/Downloads/10minutenwerte_only_half/produkt_zehn_min_tu_19911031_19991231_03158.txt\n",
      "22/12/15 09:35:49 WARN CSVHeaderChecker: Number of column in CSV header is not equal to number of fields in the schema:\n",
      " Header length: 8, schema size: 9\n",
      "CSV file: file:///home/mario/Downloads/10minutenwerte_only_half/produkt_zehn_min_tu_19910101_19991231_00348.txt\n",
      "22/12/15 09:35:49 WARN CSVHeaderChecker: Number of column in CSV header is not equal to number of fields in the schema:\n",
      " Header length: 8, schema size: 9\n",
      "CSV file: file:///home/mario/Downloads/10minutenwerte_only_half/produkt_zehn_min_tu_19910101_19991231_05467.txt\n"
     ]
    },
    {
     "name": "stderr",
     "output_type": "stream",
     "text": [
      "[Stage 5:===========================>                            (50 + 8) / 103]\r"
     ]
    },
    {
     "name": "stdout",
     "output_type": "stream",
     "text": [
      "22/12/15 09:35:56 WARN CSVHeaderChecker: Number of column in CSV header is not equal to number of fields in the schema:\n",
      " Header length: 8, schema size: 9\n",
      "CSV file: file:///home/mario/Downloads/10minutenwerte_only_half/produkt_zehn_min_tu_19910101_19991231_01550.txt\n",
      "22/12/15 09:35:57 WARN CSVHeaderChecker: Number of column in CSV header is not equal to number of fields in the schema:\n",
      " Header length: 8, schema size: 9\n",
      "CSV file: file:///home/mario/Downloads/10minutenwerte_only_half/produkt_zehn_min_tu_19911101_19991231_02985.txt\n",
      "22/12/15 09:36:01 WARN CSVHeaderChecker: Number of column in CSV header is not equal to number of fields in the schema:\n",
      " Header length: 8, schema size: 9\n",
      "CSV file: file:///home/mario/Downloads/10minutenwerte_only_half/produkt_zehn_min_tu_19910114_19991231_02044.txt\n",
      "22/12/15 09:36:05 WARN CSVHeaderChecker: Number of column in CSV header is not equal to number of fields in the schema:\n",
      " Header length: 8, schema size: 9\n",
      "CSV file: file:///home/mario/Downloads/10minutenwerte_only_half/produkt_zehn_min_tu_19911031_19991231_01957.txt\n",
      "22/12/15 09:36:09 WARN CSVHeaderChecker: Number of column in CSV header is not equal to number of fields in the schema:\n",
      " Header length: 8, schema size: 9\n",
      "CSV file: file:///home/mario/Downloads/10minutenwerte_only_half/produkt_zehn_min_tu_19911106_19991231_03552.txt\n",
      "22/12/15 09:36:15 WARN CSVHeaderChecker: Number of column in CSV header is not equal to number of fields in the schema:\n",
      " Header length: 8, schema size: 9\n",
      "CSV file: file:///home/mario/Downloads/10minutenwerte_only_half/produkt_zehn_min_tu_19911206_19991231_05155.txt\n",
      "22/12/15 09:36:16 WARN CSVHeaderChecker: Number of column in CSV header is not equal to number of fields in the schema:\n",
      " Header length: 8, schema size: 9\n",
      "CSV file: file:///home/mario/Downloads/10minutenwerte_only_half/produkt_zehn_min_tu_19911031_19991231_00198.txt\n"
     ]
    },
    {
     "name": "stderr",
     "output_type": "stream",
     "text": [
      "[Stage 5:===========================>                            (51 + 8) / 103]\r"
     ]
    },
    {
     "name": "stdout",
     "output_type": "stream",
     "text": [
      "22/12/15 09:36:18 WARN CSVHeaderChecker: Number of column in CSV header is not equal to number of fields in the schema:\n",
      " Header length: 8, schema size: 9\n",
      "CSV file: file:///home/mario/Downloads/10minutenwerte_only_half/produkt_zehn_min_tu_19911111_19991231_01358.txt\n"
     ]
    },
    {
     "name": "stderr",
     "output_type": "stream",
     "text": [
      "[Stage 5:============================>                           (52 + 8) / 103]\r"
     ]
    },
    {
     "name": "stdout",
     "output_type": "stream",
     "text": [
      "22/12/15 09:36:27 WARN CSVHeaderChecker: Number of column in CSV header is not equal to number of fields in the schema:\n",
      " Header length: 8, schema size: 9\n",
      "CSV file: file:///home/mario/Downloads/10minutenwerte_only_half/produkt_zehn_min_tu_19911106_19991231_00853.txt\n",
      "22/12/15 09:36:27 WARN CSVHeaderChecker: Number of column in CSV header is not equal to number of fields in the schema:\n",
      " Header length: 8, schema size: 9\n",
      "CSV file: file:///home/mario/Downloads/10minutenwerte_only_half/produkt_zehn_min_tu_19911101_19991231_00183.txt\n"
     ]
    },
    {
     "name": "stderr",
     "output_type": "stream",
     "text": [
      "[Stage 5:============================>                           (53 + 8) / 103]\r"
     ]
    },
    {
     "name": "stdout",
     "output_type": "stream",
     "text": [
      "22/12/15 09:36:30 WARN CSVHeaderChecker: Number of column in CSV header is not equal to number of fields in the schema:\n",
      " Header length: 8, schema size: 9\n",
      "CSV file: file:///home/mario/Downloads/10minutenwerte_only_half/produkt_zehn_min_tu_19911106_19991231_00840.txt\n"
     ]
    },
    {
     "name": "stderr",
     "output_type": "stream",
     "text": [
      "[Stage 5:==============================>                         (56 + 8) / 103]\r"
     ]
    },
    {
     "name": "stdout",
     "output_type": "stream",
     "text": [
      "22/12/15 09:36:46 WARN CSVHeaderChecker: Number of column in CSV header is not equal to number of fields in the schema:\n",
      " Header length: 8, schema size: 9\n",
      "CSV file: file:///home/mario/Downloads/10minutenwerte_only_half/produkt_zehn_min_tu_19911031_19991231_00298.txt\n",
      "22/12/15 09:36:48 WARN CSVHeaderChecker: Number of column in CSV header is not equal to number of fields in the schema:\n",
      " Header length: 8, schema size: 9\n",
      "CSV file: file:///home/mario/Downloads/10minutenwerte_only_half/produkt_zehn_min_tu_19911031_19991231_01869.txt\n",
      "22/12/15 09:36:59 WARN CSVHeaderChecker: Number of column in CSV header is not equal to number of fields in the schema:\n",
      " Header length: 8, schema size: 9\n",
      "CSV file: file:///home/mario/Downloads/10minutenwerte_only_half/produkt_zehn_min_tu_19911101_19991231_03513.txt\n",
      "22/12/15 09:36:59 WARN CSVHeaderChecker: Number of column in CSV header is not equal to number of fields in the schema:\n",
      " Header length: 8, schema size: 9\n",
      "CSV file: file:///home/mario/Downloads/10minutenwerte_only_half/produkt_zehn_min_tu_19911101_19991231_04625.txt\n",
      "22/12/15 09:37:04 WARN CSVHeaderChecker: Number of column in CSV header is not equal to number of fields in the schema:\n",
      " Header length: 8, schema size: 9\n",
      "CSV file: file:///home/mario/Downloads/10minutenwerte_only_half/produkt_zehn_min_tu_19911031_19991231_00427.txt\n",
      "22/12/15 09:37:04 WARN CSVHeaderChecker: Number of column in CSV header is not equal to number of fields in the schema:\n",
      " Header length: 8, schema size: 9\n",
      "CSV file: file:///home/mario/Downloads/10minutenwerte_only_half/produkt_zehn_min_tu_19911106_19991231_01001.txt\n",
      "22/12/15 09:37:12 WARN CSVHeaderChecker: Number of column in CSV header is not equal to number of fields in the schema:\n",
      " Header length: 8, schema size: 9\n",
      "CSV file: file:///home/mario/Downloads/10minutenwerte_only_half/produkt_zehn_min_tu_19911103_19991231_02925.txt\n"
     ]
    },
    {
     "name": "stderr",
     "output_type": "stream",
     "text": [
      "[Stage 5:==============================>                         (57 + 8) / 103]\r"
     ]
    },
    {
     "name": "stdout",
     "output_type": "stream",
     "text": [
      "22/12/15 09:37:18 WARN CSVHeaderChecker: Number of column in CSV header is not equal to number of fields in the schema:\n",
      " Header length: 8, schema size: 9\n",
      "CSV file: file:///home/mario/Downloads/10minutenwerte_only_half/produkt_zehn_min_tu_19911031_19991231_04642.txt\n",
      "22/12/15 09:37:26 WARN CSVHeaderChecker: Number of column in CSV header is not equal to number of fields in the schema:\n",
      " Header length: 8, schema size: 9\n",
      "CSV file: file:///home/mario/Downloads/10minutenwerte_only_half/produkt_zehn_min_tu_19911031_19991231_01757.txt\n",
      "22/12/15 09:37:29 WARN CSVHeaderChecker: Number of column in CSV header is not equal to number of fields in the schema:\n",
      " Header length: 8, schema size: 9\n",
      "CSV file: file:///home/mario/Downloads/10minutenwerte_only_half/produkt_zehn_min_tu_19911031_19991231_02932.txt\n",
      "22/12/15 09:37:30 WARN CSVHeaderChecker: Number of column in CSV header is not equal to number of fields in the schema:\n",
      " Header length: 8, schema size: 9\n",
      "CSV file: file:///home/mario/Downloads/10minutenwerte_only_half/produkt_zehn_min_tu_19911106_19991231_00596.txt\n",
      "22/12/15 09:37:30 WARN CSVHeaderChecker: Number of column in CSV header is not equal to number of fields in the schema:\n",
      " Header length: 8, schema size: 9\n",
      "CSV file: file:///home/mario/Downloads/10minutenwerte_only_half/produkt_zehn_min_tu_19911031_19991231_00880.txt\n"
     ]
    },
    {
     "name": "stderr",
     "output_type": "stream",
     "text": [
      "[Stage 5:================================>                       (59 + 8) / 103]\r"
     ]
    },
    {
     "name": "stdout",
     "output_type": "stream",
     "text": [
      "22/12/15 09:37:32 WARN CSVHeaderChecker: Number of column in CSV header is not equal to number of fields in the schema:\n",
      " Header length: 8, schema size: 9\n",
      "CSV file: file:///home/mario/Downloads/10minutenwerte_only_half/produkt_zehn_min_tu_19911013_19991231_05546.txt\n"
     ]
    },
    {
     "name": "stderr",
     "output_type": "stream",
     "text": [
      "[Stage 5:================================>                       (60 + 8) / 103]\r"
     ]
    },
    {
     "name": "stdout",
     "output_type": "stream",
     "text": [
      "22/12/15 09:37:50 WARN CSVHeaderChecker: Number of column in CSV header is not equal to number of fields in the schema:\n",
      " Header length: 8, schema size: 9\n",
      "CSV file: file:///home/mario/Downloads/10minutenwerte_only_half/produkt_zehn_min_tu_19911106_19991231_03811.txt\n"
     ]
    },
    {
     "name": "stderr",
     "output_type": "stream",
     "text": [
      "[Stage 5:=================================>                      (61 + 8) / 103]\r"
     ]
    },
    {
     "name": "stdout",
     "output_type": "stream",
     "text": [
      "22/12/15 09:38:03 WARN CSVHeaderChecker: Number of column in CSV header is not equal to number of fields in the schema:\n",
      " Header length: 8, schema size: 9\n",
      "CSV file: file:///home/mario/Downloads/10minutenwerte_only_half/produkt_zehn_min_tu_19911031_19991231_04464.txt\n"
     ]
    },
    {
     "name": "stderr",
     "output_type": "stream",
     "text": [
      "[Stage 5:=================================>                      (62 + 8) / 103]\r"
     ]
    },
    {
     "name": "stdout",
     "output_type": "stream",
     "text": [
      "22/12/15 09:38:04 WARN CSVHeaderChecker: Number of column in CSV header is not equal to number of fields in the schema:\n",
      " Header length: 8, schema size: 9\n",
      "CSV file: file:///home/mario/Downloads/10minutenwerte_only_half/produkt_zehn_min_tu_19911101_19991231_03946.txt\n",
      "22/12/15 09:38:11 WARN CSVHeaderChecker: Number of column in CSV header is not equal to number of fields in the schema:\n",
      " Header length: 8, schema size: 9\n",
      "CSV file: file:///home/mario/Downloads/10minutenwerte_only_half/produkt_zehn_min_tu_19911101_19991231_05779.txt\n",
      "22/12/15 09:38:12 WARN CSVHeaderChecker: Number of column in CSV header is not equal to number of fields in the schema:\n",
      " Header length: 8, schema size: 9\n",
      "CSV file: file:///home/mario/Downloads/10minutenwerte_only_half/produkt_zehn_min_tu_19920429_19991231_02014.txt\n"
     ]
    },
    {
     "name": "stderr",
     "output_type": "stream",
     "text": [
      "[Stage 5:==================================>                     (63 + 8) / 103]\r"
     ]
    },
    {
     "name": "stdout",
     "output_type": "stream",
     "text": [
      "22/12/15 09:38:14 WARN CSVHeaderChecker: Number of column in CSV header is not equal to number of fields in the schema:\n",
      " Header length: 8, schema size: 9\n",
      "CSV file: file:///home/mario/Downloads/10minutenwerte_only_half/produkt_zehn_min_tu_19911031_19991231_05009.txt\n",
      "22/12/15 09:38:21 WARN CSVHeaderChecker: Number of column in CSV header is not equal to number of fields in the schema:\n",
      " Header length: 8, schema size: 9\n",
      "CSV file: file:///home/mario/Downloads/10minutenwerte_only_half/produkt_zehn_min_tu_19911101_19991231_02794.txt\n"
     ]
    },
    {
     "name": "stderr",
     "output_type": "stream",
     "text": [
      "[Stage 5:===================================>                    (65 + 8) / 103]\r"
     ]
    },
    {
     "name": "stdout",
     "output_type": "stream",
     "text": [
      "22/12/15 09:38:34 WARN CSVHeaderChecker: Number of column in CSV header is not equal to number of fields in the schema:\n",
      " Header length: 8, schema size: 9\n",
      "CSV file: file:///home/mario/Downloads/10minutenwerte_only_half/produkt_zehn_min_tu_19911101_19991231_03821.txt\n",
      "22/12/15 09:38:37 WARN CSVHeaderChecker: Number of column in CSV header is not equal to number of fields in the schema:\n",
      " Header length: 8, schema size: 9\n",
      "CSV file: file:///home/mario/Downloads/10minutenwerte_only_half/produkt_zehn_min_tu_19920603_19991231_04371.txt\n"
     ]
    },
    {
     "name": "stderr",
     "output_type": "stream",
     "text": [
      "[Stage 5:===================================>                    (66 + 8) / 103]\r"
     ]
    },
    {
     "name": "stdout",
     "output_type": "stream",
     "text": [
      "22/12/15 09:38:40 WARN CSVHeaderChecker: Number of column in CSV header is not equal to number of fields in the schema:\n",
      " Header length: 8, schema size: 9\n",
      "CSV file: file:///home/mario/Downloads/10minutenwerte_only_half/produkt_zehn_min_tu_19920616_19991231_03196.txt\n",
      "22/12/15 09:38:43 WARN CSVHeaderChecker: Number of column in CSV header is not equal to number of fields in the schema:\n",
      " Header length: 8, schema size: 9\n",
      "CSV file: file:///home/mario/Downloads/10minutenwerte_only_half/produkt_zehn_min_tu_19911101_19991231_03231.txt\n",
      "22/12/15 09:38:44 WARN CSVHeaderChecker: Number of column in CSV header is not equal to number of fields in the schema:\n",
      " Header length: 8, schema size: 9\n",
      "CSV file: file:///home/mario/Downloads/10minutenwerte_only_half/produkt_zehn_min_tu_19911101_19991231_00222.txt\n",
      "22/12/15 09:38:49 WARN CSVHeaderChecker: Number of column in CSV header is not equal to number of fields in the schema:\n",
      " Header length: 8, schema size: 9\n",
      "CSV file: file:///home/mario/Downloads/10minutenwerte_only_half/produkt_zehn_min_tu_19920429_19991231_02559.txt\n",
      "22/12/15 09:38:50 WARN CSVHeaderChecker: Number of column in CSV header is not equal to number of fields in the schema:\n",
      " Header length: 8, schema size: 9\n",
      "CSV file: file:///home/mario/Downloads/10minutenwerte_only_half/produkt_zehn_min_tu_19911113_19991231_04271.txt\n",
      "22/12/15 09:38:59 WARN CSVHeaderChecker: Number of column in CSV header is not equal to number of fields in the schema:\n",
      " Header length: 8, schema size: 9\n",
      "CSV file: file:///home/mario/Downloads/10minutenwerte_only_half/produkt_zehn_min_tu_19911106_19991231_01612.txt\n",
      "22/12/15 09:39:00 WARN CSVHeaderChecker: Number of column in CSV header is not equal to number of fields in the schema:\n",
      " Header length: 8, schema size: 9\n",
      "CSV file: file:///home/mario/Downloads/10minutenwerte_only_half/produkt_zehn_min_tu_19911101_19991231_01684.txt\n",
      "22/12/15 09:39:04 WARN CSVHeaderChecker: Number of column in CSV header is not equal to number of fields in the schema:\n",
      " Header length: 8, schema size: 9\n",
      "CSV file: file:///home/mario/Downloads/10minutenwerte_only_half/produkt_zehn_min_tu_19920416_19991231_05629.txt\n"
     ]
    },
    {
     "name": "stderr",
     "output_type": "stream",
     "text": [
      "[Stage 5:====================================>                   (67 + 8) / 103]\r"
     ]
    },
    {
     "name": "stdout",
     "output_type": "stream",
     "text": [
      "22/12/15 09:39:09 WARN CSVHeaderChecker: Number of column in CSV header is not equal to number of fields in the schema:\n",
      " Header length: 8, schema size: 9\n",
      "CSV file: file:///home/mario/Downloads/10minutenwerte_only_half/produkt_zehn_min_tu_19920805_19991231_03028.txt\n",
      "22/12/15 09:39:13 WARN CSVHeaderChecker: Number of column in CSV header is not equal to number of fields in the schema:\n",
      " Header length: 8, schema size: 9\n",
      "CSV file: file:///home/mario/Downloads/10minutenwerte_only_half/produkt_zehn_min_tu_19920214_19991231_00867.txt\n",
      "22/12/15 09:39:14 WARN CSVHeaderChecker: Number of column in CSV header is not equal to number of fields in the schema:\n",
      " Header length: 8, schema size: 9\n",
      "CSV file: file:///home/mario/Downloads/10minutenwerte_only_half/produkt_zehn_min_tu_19920519_19991231_01262.txt\n"
     ]
    },
    {
     "name": "stderr",
     "output_type": "stream",
     "text": [
      "[Stage 5:=====================================>                  (69 + 8) / 103]\r"
     ]
    },
    {
     "name": "stdout",
     "output_type": "stream",
     "text": [
      "22/12/15 09:39:26 WARN CSVHeaderChecker: Number of column in CSV header is not equal to number of fields in the schema:\n",
      " Header length: 8, schema size: 9\n",
      "CSV file: file:///home/mario/Downloads/10minutenwerte_only_half/produkt_zehn_min_tu_19921027_19991231_04745.txt\n",
      "22/12/15 09:39:27 WARN CSVHeaderChecker: Number of column in CSV header is not equal to number of fields in the schema:\n",
      " Header length: 8, schema size: 9\n",
      "CSV file: file:///home/mario/Downloads/10minutenwerte_only_half/produkt_zehn_min_tu_19920701_19991231_03761.txt\n"
     ]
    },
    {
     "name": "stderr",
     "output_type": "stream",
     "text": [
      "[Stage 5:======================================>                 (71 + 8) / 103]\r"
     ]
    },
    {
     "name": "stdout",
     "output_type": "stream",
     "text": [
      "22/12/15 09:39:30 WARN CSVHeaderChecker: Number of column in CSV header is not equal to number of fields in the schema:\n",
      " Header length: 8, schema size: 9\n",
      "CSV file: file:///home/mario/Downloads/10minutenwerte_only_half/produkt_zehn_min_tu_19911101_19991231_03166.txt\n"
     ]
    },
    {
     "name": "stderr",
     "output_type": "stream",
     "text": [
      "[Stage 5:=======================================>                (73 + 8) / 103]\r"
     ]
    },
    {
     "name": "stdout",
     "output_type": "stream",
     "text": [
      "22/12/15 09:39:45 WARN CSVHeaderChecker: Number of column in CSV header is not equal to number of fields in the schema:\n",
      " Header length: 8, schema size: 9\n",
      "CSV file: file:///home/mario/Downloads/10minutenwerte_only_half/produkt_zehn_min_tu_19911105_19991231_05158.txt\n",
      "22/12/15 09:39:50 WARN CSVHeaderChecker: Number of column in CSV header is not equal to number of fields in the schema:\n",
      " Header length: 8, schema size: 9\n",
      "CSV file: file:///home/mario/Downloads/10minutenwerte_only_half/produkt_zehn_min_tu_19911106_19991231_01694.txt\n",
      "22/12/15 09:39:54 WARN CSVHeaderChecker: Number of column in CSV header is not equal to number of fields in the schema:\n",
      " Header length: 8, schema size: 9\n",
      "CSV file: file:///home/mario/Downloads/10minutenwerte_only_half/produkt_zehn_min_tu_19911105_19991231_01605.txt\n",
      "22/12/15 09:39:55 WARN CSVHeaderChecker: Number of column in CSV header is not equal to number of fields in the schema:\n",
      " Header length: 8, schema size: 9\n",
      "CSV file: file:///home/mario/Downloads/10minutenwerte_only_half/produkt_zehn_min_tu_19911104_19991231_01270.txt\n",
      "22/12/15 09:39:55 WARN CSVHeaderChecker: Number of column in CSV header is not equal to number of fields in the schema:\n",
      " Header length: 8, schema size: 9\n",
      "CSV file: file:///home/mario/Downloads/10minutenwerte_only_half/produkt_zehn_min_tu_19920911_19991231_01078.txt\n"
     ]
    },
    {
     "name": "stderr",
     "output_type": "stream",
     "text": [
      "[Stage 5:========================================>               (74 + 8) / 103]\r"
     ]
    },
    {
     "name": "stdout",
     "output_type": "stream",
     "text": [
      "22/12/15 09:40:01 WARN CSVHeaderChecker: Number of column in CSV header is not equal to number of fields in the schema:\n",
      " Header length: 8, schema size: 9\n",
      "CSV file: file:///home/mario/Downloads/10minutenwerte_only_half/produkt_zehn_min_tu_19911031_19991231_00399.txt\n",
      "22/12/15 09:40:13 WARN CSVHeaderChecker: Number of column in CSV header is not equal to number of fields in the schema:\n",
      " Header length: 8, schema size: 9\n",
      "CSV file: file:///home/mario/Downloads/10minutenwerte_only_half/produkt_zehn_min_tu_19920816_19991231_05142.txt\n"
     ]
    },
    {
     "name": "stderr",
     "output_type": "stream",
     "text": [
      "[Stage 5:==========================================>             (78 + 8) / 103]\r"
     ]
    },
    {
     "name": "stdout",
     "output_type": "stream",
     "text": [
      "22/12/15 09:40:21 WARN CSVHeaderChecker: Number of column in CSV header is not equal to number of fields in the schema:\n",
      " Header length: 8, schema size: 9\n",
      "CSV file: file:///home/mario/Downloads/10minutenwerte_only_half/produkt_zehn_min_tu_19920919_19991231_04501.txt\n"
     ]
    },
    {
     "name": "stderr",
     "output_type": "stream",
     "text": [
      "[Stage 5:==========================================>             (79 + 8) / 103]\r"
     ]
    },
    {
     "name": "stdout",
     "output_type": "stream",
     "text": [
      "22/12/15 09:40:27 WARN CSVHeaderChecker: Number of column in CSV header is not equal to number of fields in the schema:\n",
      " Header length: 8, schema size: 9\n",
      "CSV file: file:///home/mario/Downloads/10minutenwerte_only_half/produkt_zehn_min_tu_19921001_19991231_02601.txt\n",
      "22/12/15 09:40:36 WARN CSVHeaderChecker: Number of column in CSV header is not equal to number of fields in the schema:\n",
      " Header length: 8, schema size: 9\n",
      "CSV file: file:///home/mario/Downloads/10minutenwerte_only_half/produkt_zehn_min_tu_19920816_19991231_03987.txt\n",
      "22/12/15 09:40:39 WARN CSVHeaderChecker: Number of column in CSV header is not equal to number of fields in the schema:\n",
      " Header length: 8, schema size: 9\n",
      "CSV file: file:///home/mario/Downloads/10minutenwerte_only_half/produkt_zehn_min_tu_19921130_19991231_03815.txt\n",
      "22/12/15 09:40:42 WARN CSVHeaderChecker: Number of column in CSV header is not equal to number of fields in the schema:\n",
      " Header length: 8, schema size: 9\n",
      "CSV file: file:///home/mario/Downloads/10minutenwerte_only_half/produkt_zehn_min_tu_19921026_19991231_05705.txt\n",
      "22/12/15 09:40:43 WARN CSVHeaderChecker: Number of column in CSV header is not equal to number of fields in the schema:\n",
      " Header length: 8, schema size: 9\n",
      "CSV file: file:///home/mario/Downloads/10minutenwerte_only_half/produkt_zehn_min_tu_19911119_19991231_01048.txt\n",
      "22/12/15 09:40:43 WARN CSVHeaderChecker: Number of column in CSV header is not equal to number of fields in the schema:\n",
      " Header length: 8, schema size: 9\n",
      "CSV file: file:///home/mario/Downloads/10minutenwerte_only_half/produkt_zehn_min_tu_19921105_19991231_02638.txt\n",
      "22/12/15 09:40:44 WARN CSVHeaderChecker: Number of column in CSV header is not equal to number of fields in the schema:\n",
      " Header length: 8, schema size: 9\n",
      "CSV file: file:///home/mario/Downloads/10minutenwerte_only_half/produkt_zehn_min_tu_19930304_19991231_01420.txt\n"
     ]
    },
    {
     "name": "stderr",
     "output_type": "stream",
     "text": [
      "[Stage 5:============================================>           (81 + 8) / 103]\r"
     ]
    },
    {
     "name": "stdout",
     "output_type": "stream",
     "text": [
      "22/12/15 09:40:58 WARN CSVHeaderChecker: Number of column in CSV header is not equal to number of fields in the schema:\n",
      " Header length: 8, schema size: 9\n",
      "CSV file: file:///home/mario/Downloads/10minutenwerte_only_half/produkt_zehn_min_tu_19921013_19991231_03015.txt\n"
     ]
    },
    {
     "name": "stderr",
     "output_type": "stream",
     "text": [
      "[Stage 5:=============================================>          (83 + 8) / 103]\r"
     ]
    },
    {
     "name": "stdout",
     "output_type": "stream",
     "text": [
      "22/12/15 09:41:02 WARN CSVHeaderChecker: Number of column in CSV header is not equal to number of fields in the schema:\n",
      " Header length: 8, schema size: 9\n",
      "CSV file: file:///home/mario/Downloads/10minutenwerte_only_half/produkt_zehn_min_tu_19911031_19991231_05490.txt\n"
     ]
    },
    {
     "name": "stderr",
     "output_type": "stream",
     "text": [
      "[Stage 5:==============================================>         (86 + 8) / 103]\r"
     ]
    },
    {
     "name": "stdout",
     "output_type": "stream",
     "text": [
      "22/12/15 09:41:10 WARN CSVHeaderChecker: Number of column in CSV header is not equal to number of fields in the schema:\n",
      " Header length: 8, schema size: 9\n",
      "CSV file: file:///home/mario/Downloads/10minutenwerte_only_half/produkt_zehn_min_tu_19931027_19991231_05426.txt\n",
      "22/12/15 09:41:11 WARN CSVHeaderChecker: Number of column in CSV header is not equal to number of fields in the schema:\n",
      " Header length: 8, schema size: 9\n",
      "CSV file: file:///home/mario/Downloads/10minutenwerte_only_half/produkt_zehn_min_tu_19931222_19991231_03098.txt\n",
      "22/12/15 09:41:11 WARN CSVHeaderChecker: Number of column in CSV header is not equal to number of fields in the schema:\n",
      " Header length: 8, schema size: 9\n",
      "CSV file: file:///home/mario/Downloads/10minutenwerte_only_half/produkt_zehn_min_tu_19911101_19991231_04024.txt\n"
     ]
    },
    {
     "name": "stderr",
     "output_type": "stream",
     "text": [
      "[Stage 5:===============================================>        (87 + 8) / 103]\r"
     ]
    },
    {
     "name": "stdout",
     "output_type": "stream",
     "text": [
      "22/12/15 09:41:22 WARN CSVHeaderChecker: Number of column in CSV header is not equal to number of fields in the schema:\n",
      " Header length: 8, schema size: 9\n",
      "CSV file: file:///home/mario/Downloads/10minutenwerte_only_half/produkt_zehn_min_tu_19930812_19991231_02712.txt\n",
      "22/12/15 09:41:25 WARN CSVHeaderChecker: Number of column in CSV header is not equal to number of fields in the schema:\n",
      " Header length: 8, schema size: 9\n",
      "CSV file: file:///home/mario/Downloads/10minutenwerte_only_half/produkt_zehn_min_tu_19930901_19991231_00303.txt\n",
      "22/12/15 09:41:26 WARN CSVHeaderChecker: Number of column in CSV header is not equal to number of fields in the schema:\n",
      " Header length: 8, schema size: 9\n",
      "CSV file: file:///home/mario/Downloads/10minutenwerte_only_half/produkt_zehn_min_tu_19930914_19991231_03631.txt\n",
      "22/12/15 09:41:34 WARN CSVHeaderChecker: Number of column in CSV header is not equal to number of fields in the schema:\n",
      " Header length: 8, schema size: 9\n",
      "CSV file: file:///home/mario/Downloads/10minutenwerte_only_half/produkt_zehn_min_tu_19930922_19991231_03093.txt\n",
      "22/12/15 09:41:36 WARN CSVHeaderChecker: Number of column in CSV header is not equal to number of fields in the schema:\n",
      " Header length: 8, schema size: 9\n",
      "CSV file: file:///home/mario/Downloads/10minutenwerte_only_half/produkt_zehn_min_tu_19930428_19991231_00003.txt\n"
     ]
    },
    {
     "name": "stderr",
     "output_type": "stream",
     "text": [
      "[Stage 5:===============================================>        (88 + 8) / 103]\r"
     ]
    },
    {
     "name": "stdout",
     "output_type": "stream",
     "text": [
      "22/12/15 09:41:39 WARN CSVHeaderChecker: Number of column in CSV header is not equal to number of fields in the schema:\n",
      " Header length: 8, schema size: 9\n",
      "CSV file: file:///home/mario/Downloads/10minutenwerte_only_half/produkt_zehn_min_tu_19930930_19991231_00460.txt\n"
     ]
    },
    {
     "name": "stderr",
     "output_type": "stream",
     "text": [
      "[Stage 5:================================================>       (89 + 8) / 103]\r"
     ]
    },
    {
     "name": "stdout",
     "output_type": "stream",
     "text": [
      "22/12/15 09:41:47 WARN CSVHeaderChecker: Number of column in CSV header is not equal to number of fields in the schema:\n",
      " Header length: 8, schema size: 9\n",
      "CSV file: file:///home/mario/Downloads/10minutenwerte_only_half/produkt_zehn_min_tu_19940731_19991231_05792.txt\n",
      "22/12/15 09:41:48 WARN CSVHeaderChecker: Number of column in CSV header is not equal to number of fields in the schema:\n",
      " Header length: 8, schema size: 9\n",
      "CSV file: file:///home/mario/Downloads/10minutenwerte_only_half/produkt_zehn_min_tu_19930714_19991231_05906.txt\n",
      "22/12/15 09:41:51 WARN CSVHeaderChecker: Number of column in CSV header is not equal to number of fields in the schema:\n",
      " Header length: 8, schema size: 9\n",
      "CSV file: file:///home/mario/Downloads/10minutenwerte_only_half/produkt_zehn_min_tu_19931111_19991231_02667.txt\n",
      "22/12/15 09:41:55 WARN CSVHeaderChecker: Number of column in CSV header is not equal to number of fields in the schema:\n",
      " Header length: 8, schema size: 9\n",
      "CSV file: file:///home/mario/Downloads/10minutenwerte_only_half/produkt_zehn_min_tu_19931209_19991231_02290.txt\n",
      "22/12/15 09:41:58 WARN CSVHeaderChecker: Number of column in CSV header is not equal to number of fields in the schema:\n",
      " Header length: 8, schema size: 9\n",
      "CSV file: file:///home/mario/Downloads/10minutenwerte_only_half/produkt_zehn_min_tu_19931109_19991231_01691.txt\n",
      "22/12/15 09:42:01 WARN CSVHeaderChecker: Number of column in CSV header is not equal to number of fields in the schema:\n",
      " Header length: 8, schema size: 9\n",
      "CSV file: file:///home/mario/Downloads/10minutenwerte_only_half/produkt_zehn_min_tu_19900101_19991231_05440.txt\n",
      "22/12/15 09:42:02 WARN CSVHeaderChecker: Number of column in CSV header is not equal to number of fields in the schema:\n",
      " Header length: 8, schema size: 9\n",
      "CSV file: file:///home/mario/Downloads/10minutenwerte_only_half/produkt_zehn_min_tu_19940315_19991231_04104.txt\n"
     ]
    },
    {
     "name": "stderr",
     "output_type": "stream",
     "text": [
      "[Stage 5:================================================>       (90 + 8) / 103]\r"
     ]
    },
    {
     "name": "stdout",
     "output_type": "stream",
     "text": [
      "22/12/15 09:42:04 WARN CSVHeaderChecker: Number of column in CSV header is not equal to number of fields in the schema:\n",
      " Header length: 8, schema size: 9\n",
      "CSV file: file:///home/mario/Downloads/10minutenwerte_only_half/produkt_zehn_min_tu_19941220_19991231_02171.txt\n",
      "22/12/15 09:42:06 WARN CSVHeaderChecker: Number of column in CSV header is not equal to number of fields in the schema:\n",
      " Header length: 8, schema size: 9\n",
      "CSV file: file:///home/mario/Downloads/10minutenwerte_only_half/produkt_zehn_min_tu_19940503_19991231_01303.txt\n",
      "22/12/15 09:42:14 WARN CSVHeaderChecker: Number of column in CSV header is not equal to number of fields in the schema:\n",
      " Header length: 8, schema size: 9\n",
      "CSV file: file:///home/mario/Downloads/10minutenwerte_only_half/produkt_zehn_min_tu_19931110_19991231_05029.txt\n",
      "22/12/15 09:42:16 WARN CSVHeaderChecker: Number of column in CSV header is not equal to number of fields in the schema:\n",
      " Header length: 8, schema size: 9\n",
      "CSV file: file:///home/mario/Downloads/10minutenwerte_only_half/produkt_zehn_min_tu_19950704_19991231_01766.txt\n"
     ]
    },
    {
     "name": "stderr",
     "output_type": "stream",
     "text": [
      "[Stage 5:=================================================>      (91 + 8) / 103]\r"
     ]
    },
    {
     "name": "stdout",
     "output_type": "stream",
     "text": [
      "22/12/15 09:42:20 WARN CSVHeaderChecker: Number of column in CSV header is not equal to number of fields in the schema:\n",
      " Header length: 8, schema size: 9\n",
      "CSV file: file:///home/mario/Downloads/10minutenwerte_only_half/produkt_zehn_min_tu_19910101_19991231_03925.txt\n",
      "22/12/15 09:42:22 WARN CSVHeaderChecker: Number of column in CSV header is not equal to number of fields in the schema:\n",
      " Header length: 8, schema size: 9\n",
      "CSV file: file:///home/mario/Downloads/10minutenwerte_only_half/produkt_zehn_min_tu_19950401_19991231_03660.txt\n",
      "22/12/15 09:42:23 WARN CSVHeaderChecker: Number of column in CSV header is not equal to number of fields in the schema:\n",
      " Header length: 8, schema size: 9\n",
      "CSV file: file:///home/mario/Downloads/10minutenwerte_only_half/produkt_zehn_min_tu_19931215_19991231_01357.txt\n",
      "22/12/15 09:42:24 WARN CSVHeaderChecker: Number of column in CSV header is not equal to number of fields in the schema:\n",
      " Header length: 8, schema size: 9\n",
      "CSV file: file:///home/mario/Downloads/10minutenwerte_only_half/produkt_zehn_min_tu_19940323_19991231_05349.txt\n",
      "22/12/15 09:42:26 WARN CSVHeaderChecker: Number of column in CSV header is not equal to number of fields in the schema:\n",
      " Header length: 8, schema size: 9\n",
      "CSV file: file:///home/mario/Downloads/10minutenwerte_only_half/produkt_zehn_min_tu_19960613_19991231_00963.txt\n"
     ]
    },
    {
     "name": "stderr",
     "output_type": "stream",
     "text": [
      "[Stage 5:==================================================>     (93 + 8) / 103]\r"
     ]
    },
    {
     "name": "stdout",
     "output_type": "stream",
     "text": [
      "22/12/15 09:42:30 WARN CSVHeaderChecker: Number of column in CSV header is not equal to number of fields in the schema:\n",
      " Header length: 8, schema size: 9\n",
      "CSV file: file:///home/mario/Downloads/10minutenwerte_only_half/produkt_zehn_min_tu_19961010_19991231_01639.txt\n",
      "22/12/15 09:42:33 WARN CSVHeaderChecker: Number of column in CSV header is not equal to number of fields in the schema:\n",
      " Header length: 8, schema size: 9\n",
      "CSV file: file:///home/mario/Downloads/10minutenwerte_only_half/produkt_zehn_min_tu_19950501_19991231_01346.txt\n",
      "22/12/15 09:42:40 WARN CSVHeaderChecker: Number of column in CSV header is not equal to number of fields in the schema:\n",
      " Header length: 8, schema size: 9\n",
      "CSV file: file:///home/mario/Downloads/10minutenwerte_only_half/produkt_zehn_min_tu_19950601_19991231_02597.txt\n",
      "22/12/15 09:42:40 WARN CSVHeaderChecker: Number of column in CSV header is not equal to number of fields in the schema:\n",
      " Header length: 8, schema size: 9\n",
      "CSV file: file:///home/mario/Downloads/10minutenwerte_only_half/produkt_zehn_min_tu_19960701_19991231_03086.txt\n",
      "22/12/15 09:42:43 WARN CSVHeaderChecker: Number of column in CSV header is not equal to number of fields in the schema:\n",
      " Header length: 8, schema size: 9\n",
      "CSV file: file:///home/mario/Downloads/10minutenwerte_only_half/produkt_zehn_min_tu_19941202_19991231_04887.txt\n",
      "22/12/15 09:42:43 WARN CSVHeaderChecker: Number of column in CSV header is not equal to number of fields in the schema:\n",
      " Header length: 8, schema size: 9\n",
      "CSV file: file:///home/mario/Downloads/10minutenwerte_only_half/produkt_zehn_min_tu_19961107_19991231_00232.txt\n",
      "22/12/15 09:42:45 WARN CSVHeaderChecker: Number of column in CSV header is not equal to number of fields in the schema:\n",
      " Header length: 8, schema size: 9\n",
      "CSV file: file:///home/mario/Downloads/10minutenwerte_only_half/produkt_zehn_min_tu_19970701_19991231_00662.txt\n"
     ]
    },
    {
     "name": "stderr",
     "output_type": "stream",
     "text": [
      "[Stage 5:===================================================>    (94 + 8) / 103]\r"
     ]
    },
    {
     "name": "stdout",
     "output_type": "stream",
     "text": [
      "22/12/15 09:42:46 WARN CSVHeaderChecker: Number of column in CSV header is not equal to number of fields in the schema:\n",
      " Header length: 8, schema size: 9\n",
      "CSV file: file:///home/mario/Downloads/10minutenwerte_only_half/produkt_zehn_min_tu_19940426_19991231_01443.txt\n",
      "22/12/15 09:42:47 WARN CSVHeaderChecker: Number of column in CSV header is not equal to number of fields in the schema:\n",
      " Header length: 8, schema size: 9\n",
      "CSV file: file:///home/mario/Downloads/10minutenwerte_only_half/produkt_zehn_min_tu_19981001_19991231_03791.txt\n"
     ]
    },
    {
     "name": "stderr",
     "output_type": "stream",
     "text": [
      "[Stage 5:===================================================>    (95 + 8) / 103]\r"
     ]
    },
    {
     "name": "stdout",
     "output_type": "stream",
     "text": [
      "22/12/15 09:42:50 WARN CSVHeaderChecker: Number of column in CSV header is not equal to number of fields in the schema:\n",
      " Header length: 8, schema size: 9\n",
      "CSV file: file:///home/mario/Downloads/10minutenwerte_only_half/produkt_zehn_min_tu_19981222_19991231_05871.txt\n",
      "22/12/15 09:42:50 WARN CSVHeaderChecker: Number of column in CSV header is not equal to number of fields in the schema:\n",
      " Header length: 8, schema size: 9\n",
      "CSV file: file:///home/mario/Downloads/10minutenwerte_only_half/produkt_zehn_min_tu_19950828_19991231_01975.txt\n",
      "22/12/15 09:42:53 WARN CSVHeaderChecker: Number of column in CSV header is not equal to number of fields in the schema:\n",
      " Header length: 8, schema size: 9\n",
      "CSV file: file:///home/mario/Downloads/10minutenwerte_only_half/produkt_zehn_min_tu_19960531_19991231_05516.txt\n",
      "22/12/15 09:42:53 WARN CSVHeaderChecker: Number of column in CSV header is not equal to number of fields in the schema:\n",
      " Header length: 8, schema size: 9\n",
      "CSV file: file:///home/mario/Downloads/10minutenwerte_only_half/produkt_zehn_min_tu_19961230_19991231_05856.txt\n",
      "22/12/15 09:42:54 WARN CSVHeaderChecker: Number of column in CSV header is not equal to number of fields in the schema:\n",
      " Header length: 8, schema size: 9\n",
      "CSV file: file:///home/mario/Downloads/10minutenwerte_only_half/produkt_zehn_min_tu_19990201_19991231_02907.txt\n",
      "22/12/15 09:42:54 WARN CSVHeaderChecker: Number of column in CSV header is not equal to number of fields in the schema:\n",
      " Header length: 8, schema size: 9\n",
      "CSV file: file:///home/mario/Downloads/10minutenwerte_only_half/produkt_zehn_min_tu_19970730_19991231_00953.txt\n",
      "22/12/15 09:42:57 WARN CSVHeaderChecker: Number of column in CSV header is not equal to number of fields in the schema:\n",
      " Header length: 8, schema size: 9\n",
      "CSV file: file:///home/mario/Downloads/10minutenwerte_only_half/produkt_zehn_min_tu_19990430_19991231_02856.txt\n",
      "22/12/15 09:42:57 WARN CSVHeaderChecker: Number of column in CSV header is not equal to number of fields in the schema:\n",
      " Header length: 8, schema size: 9\n",
      "CSV file: file:///home/mario/Downloads/10minutenwerte_only_half/produkt_zehn_min_tu_19941102_19991231_05930.txt\n",
      "22/12/15 09:42:58 WARN CSVHeaderChecker: Number of column in CSV header is not equal to number of fields in the schema:\n",
      " Header length: 8, schema size: 9\n",
      "CSV file: file:///home/mario/Downloads/10minutenwerte_only_half/produkt_zehn_min_tu_19941222_19991231_00430.txt\n",
      "22/12/15 09:42:59 WARN CSVHeaderChecker: Number of column in CSV header is not equal to number of fields in the schema:\n",
      " Header length: 8, schema size: 9\n",
      "CSV file: file:///home/mario/Downloads/10minutenwerte_only_half/produkt_zehn_min_tu_19990428_19991231_00891.txt\n",
      "22/12/15 09:43:01 WARN CSVHeaderChecker: Number of column in CSV header is not equal to number of fields in the schema:\n",
      " Header length: 8, schema size: 9\n",
      "CSV file: file:///home/mario/Downloads/10minutenwerte_only_half/produkt_zehn_min_tu_19990201_19991231_03376.txt\n",
      "22/12/15 09:43:01 WARN CSVHeaderChecker: Number of column in CSV header is not equal to number of fields in the schema:\n",
      " Header length: 8, schema size: 9\n",
      "CSV file: file:///home/mario/Downloads/10minutenwerte_only_half/produkt_zehn_min_tu_19970710_19991231_03379.txt\n",
      "22/12/15 09:43:03 WARN CSVHeaderChecker: Number of column in CSV header is not equal to number of fields in the schema:\n",
      " Header length: 8, schema size: 9\n",
      "CSV file: file:///home/mario/Downloads/10minutenwerte_only_half/produkt_zehn_min_tu_19990601_19991231_03167.txt\n",
      "22/12/15 09:43:03 WARN CSVHeaderChecker: Number of column in CSV header is not equal to number of fields in the schema:\n",
      " Header length: 8, schema size: 9\n",
      "CSV file: file:///home/mario/Downloads/10minutenwerte_only_half/produkt_zehn_min_tu_19970101_19991231_01580.txt\n",
      "22/12/15 09:43:04 WARN CSVHeaderChecker: Number of column in CSV header is not equal to number of fields in the schema:\n",
      " Header length: 8, schema size: 9\n",
      "CSV file: file:///home/mario/Downloads/10minutenwerte_only_half/produkt_zehn_min_tu_19940731_19991231_03730.txt\n",
      "22/12/15 09:43:05 WARN CSVHeaderChecker: Number of column in CSV header is not equal to number of fields in the schema:\n",
      " Header length: 8, schema size: 9\n",
      "CSV file: file:///home/mario/Downloads/10minutenwerte_only_half/produkt_zehn_min_tu_19990901_19991231_02532.txt\n",
      "22/12/15 09:43:05 WARN CSVHeaderChecker: Number of column in CSV header is not equal to number of fields in the schema:\n",
      " Header length: 8, schema size: 9\n",
      "CSV file: file:///home/mario/Downloads/10minutenwerte_only_half/produkt_zehn_min_tu_19950803_19991231_02483.txt\n",
      "22/12/15 09:43:05 WARN CSVHeaderChecker: Number of column in CSV header is not equal to number of fields in the schema:\n",
      " Header length: 8, schema size: 9\n",
      "CSV file: file:///home/mario/Downloads/10minutenwerte_only_half/produkt_zehn_min_tu_19960620_19991231_04336.txt\n",
      "22/12/15 09:43:06 WARN CSVHeaderChecker: Number of column in CSV header is not equal to number of fields in the schema:\n",
      " Header length: 8, schema size: 9\n",
      "CSV file: file:///home/mario/Downloads/10minutenwerte_only_half/produkt_zehn_min_tu_19911112_19991231_04445.txt\n",
      "22/12/15 09:43:06 WARN CSVHeaderChecker: Number of column in CSV header is not equal to number of fields in the schema:\n",
      " Header length: 8, schema size: 9\n",
      "CSV file: file:///home/mario/Downloads/10minutenwerte_only_half/produkt_zehn_min_tu_19991201_19991231_04393.txt\n",
      "22/12/15 09:43:07 WARN CSVHeaderChecker: Number of column in CSV header is not equal to number of fields in the schema:\n",
      " Header length: 8, schema size: 9\n",
      "CSV file: file:///home/mario/Downloads/10minutenwerte_only_half/produkt_zehn_min_tu_19930121_19930128_02878.txt\n"
     ]
    },
    {
     "name": "stderr",
     "output_type": "stream",
     "text": [
      "[Stage 5:====================================================>   (96 + 7) / 103]\r"
     ]
    },
    {
     "name": "stdout",
     "output_type": "stream",
     "text": [
      "22/12/15 09:43:08 WARN CSVHeaderChecker: Number of column in CSV header is not equal to number of fields in the schema:\n",
      " Header length: 8, schema size: 9\n",
      "CSV file: file:///home/mario/Downloads/10minutenwerte_only_half/produkt_zehn_min_tu_19971119_19991231_00701.txt\n",
      "22/12/15 09:43:12 WARN CSVHeaderChecker: Number of column in CSV header is not equal to number of fields in the schema:\n",
      " Header length: 8, schema size: 9\n",
      "CSV file: file:///home/mario/Downloads/10minutenwerte_only_half/produkt_zehn_min_tu_19970101_19991231_05404.txt\n",
      "22/12/15 09:43:13 WARN CSVHeaderChecker: Number of column in CSV header is not equal to number of fields in the schema:\n",
      " Header length: 8, schema size: 9\n",
      "CSV file: file:///home/mario/Downloads/10minutenwerte_only_half/produkt_zehn_min_tu_19950101_19991231_00433.txt\n",
      "22/12/15 09:43:14 WARN CSVHeaderChecker: Number of column in CSV header is not equal to number of fields in the schema:\n",
      " Header length: 8, schema size: 9\n",
      "CSV file: file:///home/mario/Downloads/10minutenwerte_only_half/produkt_zehn_min_tu_19971105_19991231_02252.txt\n"
     ]
    },
    {
     "name": "stderr",
     "output_type": "stream",
     "text": [
      "[Stage 5:====================================================>   (97 + 6) / 103]\r"
     ]
    },
    {
     "name": "stdout",
     "output_type": "stream",
     "text": [
      "22/12/15 09:43:19 WARN CSVHeaderChecker: Number of column in CSV header is not equal to number of fields in the schema:\n",
      " Header length: 8, schema size: 9\n",
      "CSV file: file:///home/mario/Downloads/10minutenwerte_only_half/produkt_zehn_min_tu_19950929_19991231_04931.txt\n",
      "22/12/15 09:43:19 WARN CSVHeaderChecker: Number of column in CSV header is not equal to number of fields in the schema:\n",
      " Header length: 8, schema size: 9\n",
      "CSV file: file:///home/mario/Downloads/10minutenwerte_only_half/produkt_zehn_min_tu_19960401_19991231_04928.txt\n",
      "22/12/15 09:43:20 WARN CSVHeaderChecker: Number of column in CSV header is not equal to number of fields in the schema:\n",
      " Header length: 8, schema size: 9\n",
      "CSV file: file:///home/mario/Downloads/10minutenwerte_only_half/produkt_zehn_min_tu_19960828_19991231_02812.txt\n"
     ]
    },
    {
     "name": "stderr",
     "output_type": "stream",
     "text": [
      "[Stage 5:=====================================================>  (98 + 5) / 103]\r"
     ]
    },
    {
     "name": "stdout",
     "output_type": "stream",
     "text": [
      "22/12/15 09:43:20 WARN CSVHeaderChecker: Number of column in CSV header is not equal to number of fields in the schema:\n",
      " Header length: 8, schema size: 9\n",
      "CSV file: file:///home/mario/Downloads/10minutenwerte_only_half/produkt_zehn_min_tu_19970205_19991231_02928.txt\n",
      "22/12/15 09:43:23 WARN CSVHeaderChecker: Number of column in CSV header is not equal to number of fields in the schema:\n",
      " Header length: 8, schema size: 9\n",
      "CSV file: file:///home/mario/Downloads/10minutenwerte_only_half/produkt_zehn_min_tu_19971209_19991231_04094.txt\n",
      "22/12/15 09:43:23 WARN CSVHeaderChecker: Number of column in CSV header is not equal to number of fields in the schema:\n",
      " Header length: 8, schema size: 9\n",
      "CSV file: file:///home/mario/Downloads/10minutenwerte_only_half/produkt_zehn_min_tu_19950531_19991231_00282.txt\n",
      "22/12/15 09:43:25 WARN CSVHeaderChecker: Number of column in CSV header is not equal to number of fields in the schema:\n",
      " Header length: 8, schema size: 9\n",
      "CSV file: file:///home/mario/Downloads/10minutenwerte_only_half/produkt_zehn_min_tu_19961219_19991231_02115.txt\n",
      "22/12/15 09:43:26 WARN CSVHeaderChecker: Number of column in CSV header is not equal to number of fields in the schema:\n",
      " Header length: 8, schema size: 9\n",
      "CSV file: file:///home/mario/Downloads/10minutenwerte_only_half/produkt_zehn_min_tu_19961024_19991231_04911.txt\n",
      "22/12/15 09:43:27 WARN CSVHeaderChecker: Number of column in CSV header is not equal to number of fields in the schema:\n",
      " Header length: 8, schema size: 9\n",
      "CSV file: file:///home/mario/Downloads/10minutenwerte_only_half/produkt_zehn_min_tu_19980211_19991231_02261.txt\n",
      "22/12/15 09:43:27 WARN CSVHeaderChecker: Number of column in CSV header is not equal to number of fields in the schema:\n",
      " Header length: 8, schema size: 9\n",
      "CSV file: file:///home/mario/Downloads/10minutenwerte_only_half/produkt_zehn_min_tu_19950804_19991231_03668.txt\n",
      "22/12/15 09:43:32 WARN CSVHeaderChecker: Number of column in CSV header is not equal to number of fields in the schema:\n",
      " Header length: 8, schema size: 9\n",
      "CSV file: file:///home/mario/Downloads/10minutenwerte_only_half/produkt_zehn_min_tu_19970604_19991231_00722.txt\n",
      "22/12/15 09:43:32 WARN CSVHeaderChecker: Number of column in CSV header is not equal to number of fields in the schema:\n",
      " Header length: 8, schema size: 9\n",
      "CSV file: file:///home/mario/Downloads/10minutenwerte_only_half/produkt_zehn_min_tu_19980421_19991231_02497.txt\n"
     ]
    },
    {
     "name": "stderr",
     "output_type": "stream",
     "text": [
      "[Stage 5:=====================================================>  (99 + 4) / 103]\r"
     ]
    },
    {
     "name": "stdout",
     "output_type": "stream",
     "text": [
      "22/12/15 09:43:33 WARN CSVHeaderChecker: Number of column in CSV header is not equal to number of fields in the schema:\n",
      " Header length: 8, schema size: 9\n",
      "CSV file: file:///home/mario/Downloads/10minutenwerte_only_half/produkt_zehn_min_tu_19950501_19991231_05371.txt\n",
      "22/12/15 09:43:35 WARN CSVHeaderChecker: Number of column in CSV header is not equal to number of fields in the schema:\n",
      " Header length: 8, schema size: 9\n",
      "CSV file: file:///home/mario/Downloads/10minutenwerte_only_half/produkt_zehn_min_tu_19951201_19991231_03032.txt\n",
      "22/12/15 09:43:36 WARN CSVHeaderChecker: Number of column in CSV header is not equal to number of fields in the schema:\n",
      " Header length: 8, schema size: 9\n",
      "CSV file: file:///home/mario/Downloads/10minutenwerte_only_half/produkt_zehn_min_tu_19980225_19991231_01832.txt\n",
      "22/12/15 09:43:37 WARN CSVHeaderChecker: Number of column in CSV header is not equal to number of fields in the schema:\n",
      " Header length: 8, schema size: 9\n",
      "CSV file: file:///home/mario/Downloads/10minutenwerte_only_half/produkt_zehn_min_tu_19970709_19991231_05839.txt\n"
     ]
    },
    {
     "name": "stderr",
     "output_type": "stream",
     "text": [
      "                                                                                \r"
     ]
    }
   ],
   "source": [
    "df.write.option(\"header\",True).csv(\"/home/mario/Downloads/10minutenwerte/all_together_first_half\")"
   ]
  },
  {
   "cell_type": "code",
   "execution_count": null,
   "metadata": {},
   "outputs": [],
   "source": []
  }
 ],
 "metadata": {
  "kernelspec": {
   "display_name": "Python 3.10.8 64-bit",
   "language": "python",
   "name": "python3"
  },
  "language_info": {
   "codemirror_mode": {
    "name": "ipython",
    "version": 3
   },
   "file_extension": ".py",
   "mimetype": "text/x-python",
   "name": "python",
   "nbconvert_exporter": "python",
   "pygments_lexer": "ipython3",
   "version": "3.10.8"
  },
  "orig_nbformat": 4,
  "vscode": {
   "interpreter": {
    "hash": "e7370f93d1d0cde622a1f8e1c04877d8463912d04d973331ad4851f04de6915a"
   }
  }
 },
 "nbformat": 4,
 "nbformat_minor": 2
}
