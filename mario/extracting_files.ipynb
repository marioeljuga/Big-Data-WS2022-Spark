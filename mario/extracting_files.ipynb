{
 "cells": [
  {
   "cell_type": "code",
   "execution_count": 1,
   "metadata": {},
   "outputs": [],
   "source": [
    "import os\n",
    "# Daten verfügbar hier:\n",
    "# solar \n",
    "# https://opendata.dwd.de/climate_environment/CDC/observations_germany/climate/10_minutes/solar/historical/\n",
    "# temperatur\n",
    "# https://opendata.dwd.de/climate_environment/CDC/observations_germany/climate/10_minutes/air_temperature/historical/"
   ]
  },
  {
   "cell_type": "code",
   "execution_count": 2,
   "metadata": {},
   "outputs": [
    {
     "name": "stdout",
     "output_type": "stream",
     "text": [
      "['produkt_zehn_min_sd_20100101_20191231_00198.txt', 'produkt_zehn_min_sd_19911119_19991231_01048.txt', 'produkt_zehn_min_sd_20200101_20211231_05424.txt', 'produkt_zehn_min_sd_20100101_20191231_13711.txt', 'produkt_zehn_min_sd_20100101_20191231_03612.txt', 'produkt_zehn_min_sd_20200101_20211231_06265.txt', 'produkt_zehn_min_sd_20000101_20091231_04024.txt', 'produkt_zehn_min_sd_20100101_20181209_00410.txt', 'produkt_zehn_min_sd_19911031_19991231_04464.txt', 'produkt_zehn_min_sd_20100101_20191231_05009.txt']\n"
     ]
    }
   ],
   "source": [
    "list_of_file_names = os.listdir(\"/home/mario/dwd_data/solar_10minutenwerte_all/\")\n",
    "print(list_of_file_names[:10])"
   ]
  },
  {
   "cell_type": "code",
   "execution_count": 3,
   "metadata": {},
   "outputs": [
    {
     "name": "stdout",
     "output_type": "stream",
     "text": [
      "['00198', '01048', '05424', '13711', '03612', '06265', '04024', '00410', '04464', '05009']\n"
     ]
    }
   ],
   "source": [
    "list_of_station_ids = []\n",
    "\n",
    "for x in list_of_file_names:\n",
    "    station_id = x[-9:-4] #this extracts only the id part of the name\n",
    "    list_of_station_ids.append(station_id)\n",
    "print(list_of_station_ids[:10])"
   ]
  },
  {
   "cell_type": "code",
   "execution_count": 4,
   "metadata": {},
   "outputs": [
    {
     "name": "stdout",
     "output_type": "stream",
     "text": [
      "Number of station_ids: 1051\n"
     ]
    }
   ],
   "source": [
    "print(\"Number of station_ids: \" + str(len(list_of_station_ids)))"
   ]
  },
  {
   "cell_type": "code",
   "execution_count": 5,
   "metadata": {},
   "outputs": [
    {
     "name": "stdout",
     "output_type": "stream",
     "text": [
      "Number of unique station_ids: 322\n"
     ]
    }
   ],
   "source": [
    "list_of_station_ids = list(set(list_of_station_ids)) # remove duplicates from the list\n",
    "print(\"Number of unique station_ids: \" + str(len(list_of_station_ids)))"
   ]
  },
  {
   "cell_type": "code",
   "execution_count": 6,
   "metadata": {},
   "outputs": [
    {
     "name": "stdout",
     "output_type": "stream",
     "text": [
      "['05029', '04745', '05404', '04466', '05745', '04501', '04271', '07393', '05856', '00722', '05490', '02812', '03376', '03490', '04024', '02601', '02708', '04063', '03244', '04947', '00591', '06158', '03126', '01255', '03287', '03379', '04160', '03271', '07432', '04094']\n"
     ]
    }
   ],
   "source": [
    "# Lets take only n station_ids\n",
    "n = 30\n",
    "station_ids_only_n = list_of_station_ids[:n]\n",
    "print(station_ids_only_n)"
   ]
  },
  {
   "cell_type": "code",
   "execution_count": 7,
   "metadata": {},
   "outputs": [
    {
     "name": "stdout",
     "output_type": "stream",
     "text": [
      "['produkt_zehn_min_sd_20000101_20091231_04024.txt', 'produkt_zehn_min_sd_20200101_20211231_07393.txt', 'produkt_zehn_min_sd_20000101_20091231_03126.txt', 'produkt_zehn_min_sd_19970710_19991231_03379.txt', 'produkt_zehn_min_sd_20200101_20211231_05856.txt', 'produkt_zehn_min_sd_20100101_20191231_04160.txt', 'produkt_zehn_min_sd_20200101_20211231_06158.txt', 'produkt_zehn_min_sd_20060617_20091231_02708.txt', 'produkt_zehn_min_sd_20100101_20191231_04094.txt', 'produkt_zehn_min_sd_20100101_20191231_03490.txt', 'produkt_zehn_min_sd_20000101_20091231_02601.txt', 'produkt_zehn_min_sd_19911101_19991231_03126.txt', 'produkt_zehn_min_sd_20100101_20191231_04063.txt', 'produkt_zehn_min_sd_19911113_19991231_04271.txt', 'produkt_zehn_min_sd_20200101_20211231_00722.txt', 'produkt_zehn_min_sd_20200101_20211231_03287.txt', 'produkt_zehn_min_sd_20200101_20211231_05490.txt', 'produkt_zehn_min_sd_20200101_20211231_04024.txt', 'produkt_zehn_min_sd_20200101_20200915_04947.txt', 'produkt_zehn_min_sd_20100101_20191231_04947.txt', 'produkt_zehn_min_sd_20000101_20091231_04466.txt', 'produkt_zehn_min_sd_20100101_20191231_00722.txt', 'produkt_zehn_min_sd_19970604_19991231_00722.txt', 'produkt_zehn_min_sd_19910101_19991231_03287.txt', 'produkt_zehn_min_sd_20041014_20091231_03271.txt', 'produkt_zehn_min_sd_20200101_20210128_04063.txt', 'produkt_zehn_min_sd_20100101_20191231_04501.txt', 'produkt_zehn_min_sd_20000101_20091231_05029.txt', 'produkt_zehn_min_sd_20000101_20091231_05404.txt', 'produkt_zehn_min_sd_20100101_20191231_04271.txt', 'produkt_zehn_min_sd_20200101_20211231_04501.txt', 'produkt_zehn_min_sd_20000101_20091231_04745.txt', 'produkt_zehn_min_sd_20100101_20191231_03376.txt', 'produkt_zehn_min_sd_20040128_20091231_03376.txt', 'produkt_zehn_min_sd_20000101_20091231_03379.txt', 'produkt_zehn_min_sd_20000101_20091231_03287.txt', 'produkt_zehn_min_sd_20000101_20091231_00591.txt', 'produkt_zehn_min_sd_20100101_20191231_03379.txt', 'produkt_zehn_min_sd_19911031_19991231_05490.txt', 'produkt_zehn_min_sd_20100101_20191231_04466.txt', 'produkt_zehn_min_sd_20100101_20191231_06158.txt', 'produkt_zehn_min_sd_19920919_19991231_04501.txt', 'produkt_zehn_min_sd_20100101_20191231_03126.txt', 'produkt_zehn_min_sd_19911101_19991231_04024.txt', 'produkt_zehn_min_sd_19960828_19991231_02812.txt', 'produkt_zehn_min_sd_20000101_20091231_05490.txt', 'produkt_zehn_min_sd_20100101_20180731_03271.txt', 'produkt_zehn_min_sd_20200101_20211231_00591.txt', 'produkt_zehn_min_sd_20070501_20091231_07432.txt', 'produkt_zehn_min_sd_20200101_20211231_04094.txt', 'produkt_zehn_min_sd_20040128_20091231_01255.txt', 'produkt_zehn_min_sd_20100101_20191231_05029.txt', 'produkt_zehn_min_sd_20200101_20211231_03376.txt', 'produkt_zehn_min_sd_20100101_20191231_00591.txt', 'produkt_zehn_min_sd_20040701_20091231_04160.txt', 'produkt_zehn_min_sd_20200101_20211231_05745.txt', 'produkt_zehn_min_sd_20040929_20091231_06158.txt', 'produkt_zehn_min_sd_20000101_20091231_04501.txt', 'produkt_zehn_min_sd_19961230_19991231_05856.txt', 'produkt_zehn_min_sd_20000101_20091231_02812.txt', 'produkt_zehn_min_sd_20040128_20091231_04063.txt', 'produkt_zehn_min_sd_19911031_19991231_00591.txt', 'produkt_zehn_min_sd_20200101_20211231_03126.txt', 'produkt_zehn_min_sd_20100101_20191231_05490.txt', 'produkt_zehn_min_sd_19990201_19991231_03376.txt', 'produkt_zehn_min_sd_20100101_20191231_05745.txt', 'produkt_zehn_min_sd_20200101_20211231_04160.txt', 'produkt_zehn_min_sd_20100101_20191231_02601.txt', 'produkt_zehn_min_sd_20200101_20211231_03244.txt', 'produkt_zehn_min_sd_20100101_20191231_07393.txt', 'produkt_zehn_min_sd_20040601_20091231_05745.txt', 'produkt_zehn_min_sd_20000101_20091231_04271.txt', 'produkt_zehn_min_sd_20200101_20211231_04271.txt', 'produkt_zehn_min_sd_20100101_20191231_03244.txt', 'produkt_zehn_min_sd_20200101_20211231_04745.txt', 'produkt_zehn_min_sd_20000101_20091231_00722.txt', 'produkt_zehn_min_sd_20100101_20191231_07432.txt', 'produkt_zehn_min_sd_20100101_20181231_01255.txt', 'produkt_zehn_min_sd_19970101_19991231_05404.txt', 'produkt_zehn_min_sd_20100101_20191231_03287.txt', 'produkt_zehn_min_sd_19971209_19991231_04094.txt', 'produkt_zehn_min_sd_19921027_19991231_04745.txt', 'produkt_zehn_min_sd_20090801_20091231_03244.txt', 'produkt_zehn_min_sd_20100101_20191231_05404.txt', 'produkt_zehn_min_sd_20061101_20091231_04947.txt', 'produkt_zehn_min_sd_20100101_20191231_05856.txt', 'produkt_zehn_min_sd_20200101_20211231_02601.txt', 'produkt_zehn_min_sd_20000101_20091231_05856.txt', 'produkt_zehn_min_sd_20100101_20191231_04024.txt', 'produkt_zehn_min_sd_20200101_20211231_02812.txt', 'produkt_zehn_min_sd_20100101_20191231_02812.txt', 'produkt_zehn_min_sd_20200101_20211231_05029.txt', 'produkt_zehn_min_sd_20100101_20191231_02708.txt', 'produkt_zehn_min_sd_20200101_20211231_07432.txt', 'produkt_zehn_min_sd_20200101_20211231_04466.txt', 'produkt_zehn_min_sd_20200101_20211231_05404.txt', 'produkt_zehn_min_sd_19910417_19991231_04466.txt', 'produkt_zehn_min_sd_20200101_20200317_02708.txt', 'produkt_zehn_min_sd_20200101_20200811_03490.txt', 'produkt_zehn_min_sd_20040601_20091231_04094.txt', 'produkt_zehn_min_sd_19910801_19991231_04947.txt', 'produkt_zehn_min_sd_20200101_20211231_03379.txt', 'produkt_zehn_min_sd_20100101_20191231_04745.txt', 'produkt_zehn_min_sd_20040128_20091231_03490.txt', 'produkt_zehn_min_sd_19921001_19991231_02601.txt', 'produkt_zehn_min_sd_19931110_19991231_05029.txt']\n"
     ]
    }
   ],
   "source": [
    "files_we_need = []\n",
    "for x in list_of_file_names:\n",
    "    if x[-9:-4] in station_ids_only_n:\n",
    "        files_we_need.append(x)\n",
    "print(files_we_need)"
   ]
  },
  {
   "cell_type": "code",
   "execution_count": 8,
   "metadata": {},
   "outputs": [],
   "source": [
    "import shutil\n",
    "for x in files_we_need:\n",
    "    shutil.copyfile(\"/home/mario/dwd_data/solar_10minutenwerte_all/\" + str(x), \"/home/mario/dwd_data/solar_only_40_stations/\" + str(x))"
   ]
  },
  {
   "cell_type": "code",
   "execution_count": 9,
   "metadata": {},
   "outputs": [
    {
     "name": "stdout",
     "output_type": "stream",
     "text": [
      "['produkt_zehn_min_tu_20040928_20091231_06158.txt', 'produkt_zehn_min_tu_20100101_20191231_00591.txt', 'produkt_zehn_min_tu_19911113_19991231_04271.txt', 'produkt_zehn_min_tu_20200101_20211231_05745.txt', 'produkt_zehn_min_tu_20100101_20191231_04466.txt', 'produkt_zehn_min_tu_19910101_19991231_03287.txt', 'produkt_zehn_min_tu_20030707_20091231_03490.txt', 'produkt_zehn_min_tu_19911031_19991231_05490.txt', 'produkt_zehn_min_tu_20100101_20191231_00722.txt', 'produkt_zehn_min_tu_19910417_19991231_04466.txt', 'produkt_zehn_min_tu_20000101_20091231_05404.txt', 'produkt_zehn_min_tu_19921027_19991231_04745.txt', 'produkt_zehn_min_tu_20200101_20211231_04501.txt', 'produkt_zehn_min_tu_20100101_20191231_03490.txt', 'produkt_zehn_min_tu_20000101_20091231_05029.txt', 'produkt_zehn_min_tu_20200101_20211231_04271.txt', 'produkt_zehn_min_tu_19961230_19991231_05856.txt', 'produkt_zehn_min_tu_19971209_19991231_04094.txt', 'produkt_zehn_min_tu_20000101_20091231_02812.txt', 'produkt_zehn_min_tu_20200101_20211231_04745.txt', 'produkt_zehn_min_tu_20200101_20211231_03287.txt', 'produkt_zehn_min_tu_19970604_19991231_00722.txt', 'produkt_zehn_min_tu_20100101_20181231_01255.txt', 'produkt_zehn_min_tu_20100101_20191231_03376.txt', 'produkt_zehn_min_tu_20200101_20211231_00591.txt', 'produkt_zehn_min_tu_20100101_20191231_07393.txt', 'produkt_zehn_min_tu_20200101_20211231_03244.txt', 'produkt_zehn_min_tu_20100101_20191231_04501.txt', 'produkt_zehn_min_tu_20021022_20091231_04063.txt', 'produkt_zehn_min_tu_20100101_20191231_05856.txt', 'produkt_zehn_min_tu_20040701_20091231_04160.txt', 'produkt_zehn_min_tu_20100101_20191231_03379.txt', 'produkt_zehn_min_tu_20100101_20191231_02812.txt', 'produkt_zehn_min_tu_20060607_20091231_02708.txt', 'produkt_zehn_min_tu_20200101_20211231_02812.txt', 'produkt_zehn_min_tu_20000101_20091231_00591.txt', 'produkt_zehn_min_tu_20100101_20191231_04094.txt', 'produkt_zehn_min_tu_20200101_20211231_03271.txt', 'produkt_zehn_min_tu_20000101_20091231_04501.txt', 'produkt_zehn_min_tu_20000101_20091231_04271.txt', 'produkt_zehn_min_tu_20000101_20091231_05856.txt', 'produkt_zehn_min_tu_20200101_20211231_03379.txt', 'produkt_zehn_min_tu_20200101_20211231_04024.txt', 'produkt_zehn_min_tu_20100101_20191231_02601.txt', 'produkt_zehn_min_tu_20200101_20211231_05490.txt', 'produkt_zehn_min_tu_20200101_20211231_02601.txt', 'produkt_zehn_min_tu_20000101_20091231_04745.txt', 'produkt_zehn_min_tu_20200101_20211231_05029.txt', 'produkt_zehn_min_tu_20100101_20191231_04745.txt', 'produkt_zehn_min_tu_20100101_20191231_05029.txt', 'produkt_zehn_min_tu_20100101_20191231_05404.txt', 'produkt_zehn_min_tu_20200101_20211231_04094.txt', 'produkt_zehn_min_tu_19931110_19991231_05029.txt', 'produkt_zehn_min_tu_19970710_19991231_03379.txt', 'produkt_zehn_min_tu_20100101_20191231_04063.txt', 'produkt_zehn_min_tu_20200101_20211231_00722.txt', 'produkt_zehn_min_tu_20200101_20211231_07393.txt', 'produkt_zehn_min_tu_19911031_19991231_00591.txt', 'produkt_zehn_min_tu_20200101_20211231_02708.txt', 'produkt_zehn_min_tu_20200101_20211231_06158.txt', 'produkt_zehn_min_tu_20000101_20091231_03379.txt', 'produkt_zehn_min_tu_20200101_20211231_04063.txt', 'produkt_zehn_min_tu_19990201_19991231_03376.txt', 'produkt_zehn_min_tu_20000101_20091231_05490.txt', 'produkt_zehn_min_tu_20100101_20191231_03126.txt', 'produkt_zehn_min_tu_20030717_20091231_04094.txt', 'produkt_zehn_min_tu_20000101_20091231_02601.txt', 'produkt_zehn_min_tu_20100101_20191231_04024.txt', 'produkt_zehn_min_tu_20200101_20211231_03490.txt', 'produkt_zehn_min_tu_20100101_20191231_03271.txt', 'produkt_zehn_min_tu_20000101_20091231_00722.txt', 'produkt_zehn_min_tu_20000101_20091231_03126.txt', 'produkt_zehn_min_tu_20100101_20191231_06158.txt', 'produkt_zehn_min_tu_20200101_20211231_03376.txt', 'produkt_zehn_min_tu_20100101_20191231_03244.txt', 'produkt_zehn_min_tu_19920919_19991231_04501.txt', 'produkt_zehn_min_tu_20031219_20091231_03376.txt', 'produkt_zehn_min_tu_19921001_19991231_02601.txt', 'produkt_zehn_min_tu_20200101_20211231_05404.txt', 'produkt_zehn_min_tu_19911101_19991231_04024.txt', 'produkt_zehn_min_tu_20200101_20211231_03126.txt', 'produkt_zehn_min_tu_20100101_20191231_07432.txt', 'produkt_zehn_min_tu_20000101_20091231_03287.txt', 'produkt_zehn_min_tu_20200101_20211231_07432.txt', 'produkt_zehn_min_tu_20200101_20211231_05856.txt', 'produkt_zehn_min_tu_19970101_19991231_05404.txt', 'produkt_zehn_min_tu_20200101_20211231_04160.txt', 'produkt_zehn_min_tu_20200101_20211231_04466.txt', 'produkt_zehn_min_tu_20090720_20091231_03244.txt', 'produkt_zehn_min_tu_19911101_19991231_03126.txt', 'produkt_zehn_min_tu_20021201_20091231_01255.txt', 'produkt_zehn_min_tu_20100101_20191231_05745.txt', 'produkt_zehn_min_tu_20000101_20091231_04024.txt', 'produkt_zehn_min_tu_20041013_20091231_03271.txt', 'produkt_zehn_min_tu_20100101_20191231_04160.txt', 'produkt_zehn_min_tu_19960828_19991231_02812.txt', 'produkt_zehn_min_tu_20000101_20091231_04466.txt', 'produkt_zehn_min_tu_20100101_20191231_03287.txt', 'produkt_zehn_min_tu_20070501_20091231_07432.txt', 'produkt_zehn_min_tu_20100101_20191231_02708.txt', 'produkt_zehn_min_tu_20100101_20191231_04271.txt', 'produkt_zehn_min_tu_20100101_20191231_05490.txt', 'produkt_zehn_min_tu_20040420_20091231_05745.txt']\n"
     ]
    }
   ],
   "source": [
    "# now lets do the same for temperature data, for the same n station_ids\n",
    "list_of_file_names = os.listdir(\"/home/mario/dwd_data/temperatur_10minutenwerte_all/\")\n",
    "files_we_need = []\n",
    "for x in list_of_file_names:\n",
    "    if x[-9:-4] in station_ids_only_n:\n",
    "        files_we_need.append(x)\n",
    "print(files_we_need)"
   ]
  },
  {
   "cell_type": "code",
   "execution_count": 10,
   "metadata": {},
   "outputs": [],
   "source": [
    "for x in files_we_need:\n",
    "    shutil.copyfile(\"/home/mario/dwd_data/temperatur_10minutenwerte_all/\" + str(x), \"/home/mario/dwd_data/temperatur_only_40_stations/\" + str(x))"
   ]
  },
  {
   "cell_type": "code",
   "execution_count": null,
   "metadata": {},
   "outputs": [],
   "source": []
  }
 ],
 "metadata": {
  "kernelspec": {
   "display_name": "Python 3.10.8 64-bit",
   "language": "python",
   "name": "python3"
  },
  "language_info": {
   "codemirror_mode": {
    "name": "ipython",
    "version": 3
   },
   "file_extension": ".py",
   "mimetype": "text/x-python",
   "name": "python",
   "nbconvert_exporter": "python",
   "pygments_lexer": "ipython3",
   "version": "3.10.9"
  },
  "orig_nbformat": 4,
  "vscode": {
   "interpreter": {
    "hash": "e7370f93d1d0cde622a1f8e1c04877d8463912d04d973331ad4851f04de6915a"
   }
  }
 },
 "nbformat": 4,
 "nbformat_minor": 2
}
