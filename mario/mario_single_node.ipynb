{
 "cells": [
  {
   "cell_type": "code",
   "execution_count": 1,
   "metadata": {},
   "outputs": [
    {
     "name": "stdout",
     "output_type": "stream",
     "text": [
      "23/01/01 16:47:59 WARN Utils: Your hostname, mario-hpprobook450g5 resolves to a loopback address: 127.0.1.1; using 141.47.138.10 instead (on interface wlp3s0)\n",
      "23/01/01 16:47:59 WARN Utils: Set SPARK_LOCAL_IP if you need to bind to another address\n"
     ]
    },
    {
     "name": "stderr",
     "output_type": "stream",
     "text": [
      "Setting default log level to \"WARN\".\n",
      "To adjust logging level use sc.setLogLevel(newLevel). For SparkR, use setLogLevel(newLevel).\n"
     ]
    },
    {
     "name": "stdout",
     "output_type": "stream",
     "text": [
      "23/01/01 16:47:59 WARN NativeCodeLoader: Unable to load native-hadoop library for your platform... using builtin-java classes where applicable\n",
      "+-----+\n",
      "|hello|\n",
      "+-----+\n",
      "|spark|\n",
      "+-----+\n",
      "\n"
     ]
    }
   ],
   "source": [
    "import findspark\n",
    "findspark.init()\n",
    "import pyspark # only run after findspark.init()\n",
    "from pyspark.sql import SparkSession\n",
    "spark = SparkSession.builder.getOrCreate()\n",
    "df = spark.sql('''select 'spark' as hello ''')\n",
    "df.show()"
   ]
  },
  {
   "cell_type": "code",
   "execution_count": 2,
   "metadata": {},
   "outputs": [],
   "source": [
    "sc = spark.sparkContext"
   ]
  },
  {
   "cell_type": "code",
   "execution_count": 3,
   "metadata": {},
   "outputs": [
    {
     "name": "stderr",
     "output_type": "stream",
     "text": [
      "[Stage 3:===============================================>         (20 + 4) / 24]\r"
     ]
    },
    {
     "name": "stdout",
     "output_type": "stream",
     "text": [
      "root\n",
      " |-- STATIONS_ID: double (nullable = true)\n",
      " |-- MESS_DATUM: long (nullable = true)\n",
      " |-- QN: double (nullable = true)\n",
      " |-- PP_10: double (nullable = true)\n",
      " |-- TT_10: double (nullable = true)\n",
      " |-- TM5_10: double (nullable = true)\n",
      " |-- RF_10: double (nullable = true)\n",
      " |-- TD_10: double (nullable = true)\n",
      "\n"
     ]
    },
    {
     "name": "stderr",
     "output_type": "stream",
     "text": [
      "                                                                                \r"
     ]
    }
   ],
   "source": [
    "sc.setJobGroup(\"job group id\", \"read all input files\")\n",
    "df = spark.read.options(delimiter=\";\", inferSchema='True', header=True).csv(\"/home/mario/10minutenwerte_only_100/\")\n",
    "df.printSchema()"
   ]
  },
  {
   "cell_type": "code",
   "execution_count": 4,
   "metadata": {},
   "outputs": [
    {
     "name": "stdout",
     "output_type": "stream",
     "text": [
      "+-----------+------------+---+-----+-----+------+-----+-----+\n",
      "|STATIONS_ID|  MESS_DATUM| QN|PP_10|TT_10|TM5_10|RF_10|TD_10|\n",
      "+-----------+------------+---+-----+-----+------+-----+-----+\n",
      "|     3366.0|199001010000|1.0|972.6| -4.4|  -4.0| 94.0| -4.6|\n",
      "|     3366.0|199001010010|1.0|972.5| -4.3|  -3.9| 94.0| -4.7|\n",
      "|     3366.0|199001010020|1.0|972.4| -4.4|  -4.0| 94.0| -4.7|\n",
      "|     3366.0|199001010030|1.0|972.3| -4.4|  -4.1| 94.0| -4.6|\n",
      "|     3366.0|199001010040|1.0|972.3| -4.5|  -4.1| 94.0| -4.8|\n",
      "+-----------+------------+---+-----+-----+------+-----+-----+\n",
      "only showing top 5 rows\n",
      "\n"
     ]
    }
   ],
   "source": [
    "sc.setJobGroup(\"job group id\", \"show 5 rows of df\")\n",
    "df.show(n=5)"
   ]
  },
  {
   "cell_type": "code",
   "execution_count": 5,
   "metadata": {},
   "outputs": [],
   "source": [
    "#df.withColumn(\"MESS_DATUM\",df.MESS_DATUM.cast(StringType())) \\\n",
    "#  .show(truncate=False)"
   ]
  },
  {
   "cell_type": "code",
   "execution_count": 6,
   "metadata": {},
   "outputs": [],
   "source": [
    "from datetime import datetime\n",
    "from pyspark.sql.functions import col, udf, to_timestamp, year, month\n",
    "from pyspark.sql import functions as F\n",
    "from pyspark.sql.types import DoubleType, IntegerType, DateType, StringType\n",
    "sc.setJobGroup(\"job group id\", \"select only columns that we need, change column type, rename columns\")\n",
    "df = df.select(\"STATIONS_ID\",\"MESS_DATUM\",\"TT_10\")\n",
    "df = df.withColumn(\"MESS_DATUM\",col(\"MESS_DATUM\").cast(StringType()))\n",
    "df = df.withColumn(\"STATIONS_ID\",col(\"STATIONS_ID\").cast(IntegerType()))\n",
    "df = df.withColumn(\"MESS_DATUM\",to_timestamp(\"MESS_DATUM\", \"yyyyMMddHHmm\"))"
   ]
  },
  {
   "cell_type": "code",
   "execution_count": 7,
   "metadata": {},
   "outputs": [
    {
     "name": "stdout",
     "output_type": "stream",
     "text": [
      "root\n",
      " |-- STATIONS_ID: integer (nullable = true)\n",
      " |-- MESS_DATUM: timestamp (nullable = true)\n",
      " |-- TT_10: double (nullable = true)\n",
      "\n"
     ]
    }
   ],
   "source": [
    "sc.setJobGroup(\"job group id\", \"print schema\")\n",
    "df.printSchema()"
   ]
  },
  {
   "cell_type": "code",
   "execution_count": 8,
   "metadata": {},
   "outputs": [
    {
     "name": "stdout",
     "output_type": "stream",
     "text": [
      "+-----------+-------------------+-----+\n",
      "|STATIONS_ID|         MESS_DATUM|TT_10|\n",
      "+-----------+-------------------+-----+\n",
      "|       3366|1990-01-01 00:00:00| -4.4|\n",
      "|       3366|1990-01-01 00:10:00| -4.3|\n",
      "|       3366|1990-01-01 00:20:00| -4.4|\n",
      "|       3366|1990-01-01 00:30:00| -4.4|\n",
      "|       3366|1990-01-01 00:40:00| -4.5|\n",
      "+-----------+-------------------+-----+\n",
      "only showing top 5 rows\n",
      "\n"
     ]
    }
   ],
   "source": [
    "sc.setJobGroup(\"job group id\", \"show 5 rows of df\")\n",
    "df.show(n=5)"
   ]
  },
  {
   "cell_type": "markdown",
   "metadata": {},
   "source": [
    "Bauernregel:\n",
    "\n",
    "„Wenn's im Dezember nicht wintert, sommert's im Juni auch nicht.“\n",
    "\n",
    "Hierbei handelt es sich im Prinzip um die entgegengesetzte Regel zu der vorherigen:\n",
    "Im Juni wird es nicht warm, wenn im Dezember kein richtiger Winter war.\n",
    "Es stimmt, dass die These zu 65 Prozent eintrifft. Andersrum, wenn es also im Juni nicht „sommert“, wird es im Dezember nicht „wintern“,\n",
    "stimmt die Bauernregel aber nicht. Warum das so ist, weiß keiner so genau.\n"
   ]
  },
  {
   "cell_type": "code",
   "execution_count": 9,
   "metadata": {},
   "outputs": [
    {
     "name": "stderr",
     "output_type": "stream",
     "text": [
      "[Stage 6:======================================================>  (23 + 1) / 24]\r"
     ]
    },
    {
     "name": "stdout",
     "output_type": "stream",
     "text": [
      "+-----------+-------------------+-------------------+\n",
      "|STATIONS_ID|    min(MESS_DATUM)|    max(MESS_DATUM)|\n",
      "+-----------+-------------------+-------------------+\n",
      "|       3287|1991-01-01 01:00:00|1999-12-31 23:50:00|\n",
      "|       3023|1991-01-01 01:00:00|1999-12-31 23:50:00|\n",
      "|       3366|1990-01-01 00:00:00|1999-12-31 23:50:00|\n",
      "|       1468|1991-01-01 01:00:00|1999-12-31 23:50:00|\n",
      "|       1550|1991-01-01 01:00:00|1999-12-31 23:50:00|\n",
      "|        348|1991-01-01 01:00:00|1999-12-31 23:50:00|\n",
      "|        691|1991-06-19 15:00:00|1999-12-31 23:50:00|\n",
      "|       2044|1991-01-14 11:00:00|1999-12-31 23:50:00|\n",
      "|       4466|1991-04-17 14:00:00|1999-12-31 23:50:00|\n",
      "|       5397|1991-07-04 10:00:00|1999-12-31 23:50:00|\n",
      "|        591|1991-10-31 14:00:00|1999-12-31 23:50:00|\n",
      "|       1957|1991-10-31 20:00:00|1999-12-31 23:50:00|\n",
      "|       3126|1991-11-01 00:00:00|1999-12-31 23:50:00|\n",
      "|       1544|1991-11-01 00:00:00|1999-12-31 23:50:00|\n",
      "|        656|1991-08-08 03:00:00|1999-12-31 23:50:00|\n",
      "|        164|1991-10-31 23:00:00|1999-12-31 23:50:00|\n",
      "|       2985|1991-11-01 02:00:00|1999-12-31 23:50:00|\n",
      "|       3552|1991-11-06 11:00:00|1999-12-31 23:50:00|\n",
      "|       3158|1991-10-31 10:00:00|1999-12-31 23:50:00|\n",
      "|       5155|1991-12-06 09:00:00|1999-12-31 23:50:00|\n",
      "|        853|1991-11-06 07:00:00|1999-12-31 23:50:00|\n",
      "|       5467|1991-01-01 01:00:00|1999-12-31 23:50:00|\n",
      "|       4625|1991-11-01 03:00:00|1999-12-31 23:50:00|\n",
      "|       1869|1991-10-31 21:00:00|1999-12-31 23:50:00|\n",
      "|       4642|1991-10-31 20:00:00|1999-12-31 23:50:00|\n",
      "|        298|1991-10-31 14:00:00|1999-12-31 23:50:00|\n",
      "|        198|1991-10-31 09:00:00|1999-12-31 23:50:00|\n",
      "|        183|1991-11-01 00:00:00|1999-12-31 23:50:00|\n",
      "|       3811|1991-11-06 07:00:00|1999-12-31 23:50:00|\n",
      "|       1358|1991-11-11 07:00:00|1999-12-31 23:50:00|\n",
      "|       2925|1991-11-03 22:00:00|1999-12-31 23:50:00|\n",
      "|        840|1991-11-06 12:00:00|1999-12-31 23:50:00|\n",
      "|       2932|1991-10-31 21:00:00|1999-12-31 23:50:00|\n",
      "|       3513|1991-11-01 01:00:00|1999-12-31 23:50:00|\n",
      "|        427|1991-10-31 23:00:00|1999-12-31 23:50:00|\n",
      "|       5546|1991-10-13 22:00:00|1999-12-31 23:50:00|\n",
      "|       1757|1991-10-31 02:00:00|1999-12-31 23:50:00|\n",
      "|       1001|1991-11-06 09:00:00|1999-12-31 23:50:00|\n",
      "|       5779|1991-11-01 01:00:00|1999-12-31 23:50:00|\n",
      "|        596|1991-11-06 10:00:00|1999-12-31 23:50:00|\n",
      "|       3231|1991-11-01 00:00:00|1999-12-31 23:50:00|\n",
      "|        880|1991-10-31 16:00:00|1999-12-31 23:50:00|\n",
      "|       5009|1991-10-31 01:00:00|1999-12-31 23:50:00|\n",
      "|       4464|1991-10-31 03:00:00|1999-12-31 23:50:00|\n",
      "|       2794|1991-11-01 03:00:00|1999-12-31 23:50:00|\n",
      "|       3821|1991-11-01 01:00:00|1999-12-31 23:50:00|\n",
      "|       1684|1991-11-01 00:00:00|1999-12-31 23:50:00|\n",
      "|        867|1992-02-14 09:00:00|1999-12-31 23:50:00|\n",
      "|       4271|1991-11-13 17:00:00|1999-12-31 23:50:00|\n",
      "|       4371|1992-06-03 11:00:00|1999-12-31 23:50:00|\n",
      "|       3946|1991-11-01 00:00:00|1999-12-31 23:50:00|\n",
      "|       2559|1992-04-29 09:00:00|1999-12-31 23:50:00|\n",
      "|        222|1991-11-01 00:00:00|1999-12-31 23:50:00|\n",
      "|       2014|1992-04-29 16:00:00|1999-12-31 23:50:00|\n",
      "|       1612|1991-11-06 07:00:00|1999-12-31 23:50:00|\n",
      "|       3166|1991-11-01 00:00:00|1999-12-31 23:50:00|\n",
      "|       3196|1992-06-16 17:00:00|1999-12-31 23:50:00|\n",
      "|       5629|1992-04-16 01:00:00|1999-12-31 23:50:00|\n",
      "|       1262|1992-05-19 09:00:00|1999-12-31 23:50:00|\n",
      "|       1270|1991-11-04 10:00:00|1999-12-31 23:50:00|\n",
      "|       3028|1992-08-05 12:00:00|1999-12-31 23:50:00|\n",
      "|       5158|1991-11-05 16:00:00|1999-12-31 23:50:00|\n",
      "|       4745|1992-10-27 17:00:00|1999-12-31 23:50:00|\n",
      "|       3761|1992-07-01 08:00:00|1999-12-31 23:50:00|\n",
      "|       2601|1992-10-01 13:00:00|1999-12-31 23:50:00|\n",
      "|       1605|1991-11-05 18:00:00|1999-12-31 23:50:00|\n",
      "|        399|1991-10-31 02:00:00|1999-12-31 23:50:00|\n",
      "|       5142|1992-08-16 19:00:00|1999-12-31 23:50:00|\n",
      "|       1694|1991-11-06 12:00:00|1999-12-31 23:50:00|\n",
      "|       3987|1992-08-16 01:00:00|1999-12-31 23:50:00|\n",
      "|       1078|1992-09-11 13:00:00|1999-12-31 23:50:00|\n",
      "|       3815|1992-11-30 15:00:00|1999-12-31 23:50:00|\n",
      "|       1048|1991-11-19 09:00:00|1999-12-31 23:50:00|\n",
      "|       5705|1992-10-26 05:50:00|1999-12-31 23:50:00|\n",
      "|       4501|1992-09-19 08:00:00|1999-12-31 23:50:00|\n",
      "|       2638|1992-11-05 15:00:00|1999-12-31 23:50:00|\n",
      "|          3|1993-04-28 12:30:00|1999-12-31 23:50:00|\n",
      "|       5440|1993-04-14 11:00:00|1999-12-31 23:50:00|\n",
      "|       4024|1991-11-01 01:00:00|1999-12-31 23:50:00|\n",
      "|       1420|1993-03-04 17:00:00|1999-12-31 23:50:00|\n",
      "|       5490|1991-10-31 16:00:00|1999-12-31 23:50:00|\n",
      "|       3925|1991-01-01 00:00:00|1999-09-17 04:00:00|\n",
      "|       2712|1993-08-12 14:00:00|1999-12-31 23:50:00|\n",
      "|       3015|1992-10-13 13:00:00|1999-12-31 23:50:00|\n",
      "|       5906|1993-07-14 14:00:00|1999-12-31 23:50:00|\n",
      "|       3631|1993-09-14 16:00:00|1999-12-31 23:50:00|\n",
      "|       2667|1993-11-11 19:00:00|1999-12-31 23:50:00|\n",
      "|       5029|1993-11-10 13:00:00|1999-12-31 23:50:00|\n",
      "|       3093|1993-09-22 15:00:00|1999-12-31 23:50:00|\n",
      "|       5426|1993-10-27 15:00:00|1999-12-31 23:50:00|\n",
      "|       3098|1993-12-22 08:00:00|1999-12-31 23:50:00|\n",
      "|        460|1993-09-30 14:00:00|1999-12-31 23:50:00|\n",
      "|       2290|1993-12-09 15:00:00|1999-12-31 23:50:00|\n",
      "|        303|1993-09-01 00:00:00|1999-12-31 23:50:00|\n",
      "|       1691|1993-11-09 18:00:00|1999-12-31 23:50:00|\n",
      "|       4104|1994-03-15 18:00:00|1999-12-31 23:50:00|\n",
      "|       1357|1993-12-15 09:30:00|1999-12-31 23:50:00|\n",
      "|       4445|1991-11-12 13:00:00|1992-03-10 07:50:00|\n",
      "|       2878|1993-01-21 01:00:00|1993-01-28 00:50:00|\n",
      "|       5349|1994-03-23 14:00:00|1999-12-31 23:50:00|\n",
      "+-----------+-------------------+-------------------+\n",
      "\n"
     ]
    },
    {
     "name": "stderr",
     "output_type": "stream",
     "text": [
      "                                                                                \r"
     ]
    }
   ],
   "source": [
    "from pyspark.sql import functions as F\n",
    "sc.setJobGroup(\"job group id\", \"group by\")\n",
    "df.groupBy(\"STATIONS_ID\").agg(F.min(\"MESS_DATUM\"), F.max(\"MESS_DATUM\")).show(n=500)"
   ]
  },
  {
   "cell_type": "code",
   "execution_count": 10,
   "metadata": {},
   "outputs": [],
   "source": [
    "#df.describe().show()\n"
   ]
  },
  {
   "cell_type": "code",
   "execution_count": 11,
   "metadata": {},
   "outputs": [
    {
     "name": "stdout",
     "output_type": "stream",
     "text": [
      "+-----------+-------------------+-----+\n",
      "|STATIONS_ID|         MESS_DATUM|TT_10|\n",
      "+-----------+-------------------+-----+\n",
      "|       3366|1990-06-01 00:00:00|  6.7|\n",
      "|       3366|1990-06-01 00:10:00|  6.9|\n",
      "|       3366|1990-06-01 00:20:00|  6.2|\n",
      "|       3366|1990-06-01 00:30:00|  5.8|\n",
      "|       3366|1990-06-01 00:40:00|  5.8|\n",
      "|       3366|1990-06-01 00:50:00|  6.0|\n",
      "|       3366|1990-06-01 01:00:00|  6.1|\n",
      "|       3366|1990-06-01 01:10:00|  6.0|\n",
      "|       3366|1990-06-01 01:20:00|  5.9|\n",
      "|       3366|1990-06-01 01:30:00|  5.6|\n",
      "|       3366|1990-06-01 01:40:00|  5.7|\n",
      "|       3366|1990-06-01 01:50:00|  6.3|\n",
      "|       3366|1990-06-01 02:00:00|  6.5|\n",
      "|       3366|1990-06-01 02:10:00|  6.8|\n",
      "|       3366|1990-06-01 02:20:00|  5.8|\n",
      "|       3366|1990-06-01 02:30:00|  5.3|\n",
      "|       3366|1990-06-01 02:40:00|  5.5|\n",
      "|       3366|1990-06-01 02:50:00|  5.5|\n",
      "|       3366|1990-06-01 03:00:00|  6.5|\n",
      "|       3366|1990-06-01 03:10:00|  7.3|\n",
      "+-----------+-------------------+-----+\n",
      "only showing top 20 rows\n",
      "\n"
     ]
    }
   ],
   "source": [
    "# we only need months June and Decemeber\n",
    "sc.setJobGroup(\"job group id\", \"filter only june and december\")\n",
    "df = df.filter((month(\"MESS_DATUM\") == 6) | (month(\"MESS_DATUM\") == 12))\n",
    "df.show()"
   ]
  },
  {
   "cell_type": "code",
   "execution_count": 12,
   "metadata": {},
   "outputs": [
    {
     "name": "stdout",
     "output_type": "stream",
     "text": [
      "+-----------+----+-----+-----+\n",
      "|STATIONS_ID|year|month|TT_10|\n",
      "+-----------+----+-----+-----+\n",
      "|       3366|1990|    6|  6.7|\n",
      "|       3366|1990|    6|  6.9|\n",
      "|       3366|1990|    6|  6.2|\n",
      "|       3366|1990|    6|  5.8|\n",
      "|       3366|1990|    6|  5.8|\n",
      "|       3366|1990|    6|  6.0|\n",
      "|       3366|1990|    6|  6.1|\n",
      "|       3366|1990|    6|  6.0|\n",
      "|       3366|1990|    6|  5.9|\n",
      "|       3366|1990|    6|  5.6|\n",
      "|       3366|1990|    6|  5.7|\n",
      "|       3366|1990|    6|  6.3|\n",
      "|       3366|1990|    6|  6.5|\n",
      "|       3366|1990|    6|  6.8|\n",
      "|       3366|1990|    6|  5.8|\n",
      "|       3366|1990|    6|  5.3|\n",
      "|       3366|1990|    6|  5.5|\n",
      "|       3366|1990|    6|  5.5|\n",
      "|       3366|1990|    6|  6.5|\n",
      "|       3366|1990|    6|  7.3|\n",
      "+-----------+----+-----+-----+\n",
      "only showing top 20 rows\n",
      "\n"
     ]
    }
   ],
   "source": [
    "sc.setJobGroup(\"job group id\", \"convert timestamp into month and year\")\n",
    "df = df.select(\"STATIONS_ID\", year(\"MESS_DATUM\").alias(\"year\"),month(\"MESS_DATUM\").alias(\"month\"), \"TT_10\")\n",
    "df.show()"
   ]
  },
  {
   "cell_type": "code",
   "execution_count": 13,
   "metadata": {},
   "outputs": [],
   "source": [
    "# remove missing values\n",
    "sc.setJobGroup(\"job group id\", \"remove missing values\")\n",
    "df = df.filter((df.TT_10 != -999.0))"
   ]
  },
  {
   "cell_type": "code",
   "execution_count": 14,
   "metadata": {},
   "outputs": [
    {
     "name": "stderr",
     "output_type": "stream",
     "text": [
      "[Stage 11:=====================================================>  (23 + 1) / 24]\r"
     ]
    },
    {
     "name": "stdout",
     "output_type": "stream",
     "text": [
      "+----+-----+-----------+-------------------+\n",
      "|year|month|STATIONS_ID|         avg(TT_10)|\n",
      "+----+-----+-----------+-------------------+\n",
      "|1998|   12|       3366|-1.1544822949350064|\n",
      "|1997|    6|       3366|  16.27305555555556|\n",
      "|1998|   12|       3287| 0.6422981785473398|\n",
      "|1999|    6|       3366| 15.699606481481515|\n",
      "|1997|   12|       3366| 0.8322356630824369|\n",
      "|1999|    6|       3287| 14.825902777777793|\n",
      "|1997|   12|       3287|  1.393297466935662|\n",
      "|1993|   12|       3287| 2.6650765076507605|\n",
      "|1996|    6|       3023|  15.60687659180368|\n",
      "|1995|    6|       3023|   14.8692289881917|\n",
      "|1991|    6|       3023| 12.904959443800692|\n",
      "|1995|    6|       3287| 13.723310185185213|\n",
      "|1997|   12|       3023|  4.056115591397865|\n",
      "|1998|    6|       3366|  17.09474912485418|\n",
      "|1994|    6|       3366|  16.76222737819026|\n",
      "|1991|    6|       3366| 14.654583333333356|\n",
      "|1999|   12|       3023|  4.099731062303909|\n",
      "|1997|    6|       3287| 14.595046296296315|\n",
      "|1990|   12|       3366| -1.782831181252991|\n",
      "|1999|    6|       3023| 15.468959810874678|\n",
      "+----+-----+-----------+-------------------+\n",
      "only showing top 20 rows\n",
      "\n"
     ]
    },
    {
     "name": "stderr",
     "output_type": "stream",
     "text": [
      "                                                                                \r"
     ]
    }
   ],
   "source": [
    "# calculate average temperature for each year+month+stations_id\n",
    "sc.setJobGroup(\"job group id\", \"calculate average temperature for each year+month+stations_id\")\n",
    "df = df.groupBy(\"year\", \"month\", \"STATIONS_ID\").avg(\"TT_10\")\n",
    "df.show()"
   ]
  },
  {
   "cell_type": "code",
   "execution_count": 15,
   "metadata": {},
   "outputs": [
    {
     "name": "stderr",
     "output_type": "stream",
     "text": [
      "[Stage 14:=====================================================>  (23 + 1) / 24]\r"
     ]
    },
    {
     "name": "stdout",
     "output_type": "stream",
     "text": [
      "+----+-----+-----------+--------------------+\n",
      "|year|month|STATIONS_ID|          avg(TT_10)|\n",
      "+----+-----+-----------+--------------------+\n",
      "|1998|   12|       3366| -1.1544822949350064|\n",
      "|1998|   12|       3287|  0.6422981785473398|\n",
      "|1997|   12|       3366|  0.8322356630824369|\n",
      "|1997|   12|       3287|   1.393297466935662|\n",
      "|1993|   12|       3287|  2.6650765076507605|\n",
      "|1997|   12|       3023|   4.056115591397865|\n",
      "|1999|   12|       3023|   4.099731062303909|\n",
      "|1990|   12|       3366|  -1.782831181252991|\n",
      "|1993|   12|       3023|   4.374932795698943|\n",
      "|1991|   12|       3287|-0.45028885037550465|\n",
      "|1993|   12|       3366|  2.4830121021963185|\n",
      "|1995|   12|       3366| -1.2314964157706085|\n",
      "|1996|   12|       3023| -1.2555583501006038|\n",
      "|1994|   12|       3287|   3.125325550067363|\n",
      "|1996|   12|       3366|  -4.925990752972258|\n",
      "|1999|   12|       3366|-0.18109441578829447|\n",
      "|1995|   12|       3023|  -1.468154294684908|\n",
      "|1994|   12|       3023|   4.909027777777788|\n",
      "|1994|   12|       3366|    2.02283535217586|\n",
      "|1999|   12|       3287|  1.0094086021505317|\n",
      "+----+-----+-----------+--------------------+\n",
      "only showing top 20 rows\n",
      "\n"
     ]
    },
    {
     "name": "stderr",
     "output_type": "stream",
     "text": [
      "                                                                                \r"
     ]
    }
   ],
   "source": [
    "sc.setJobGroup(\"job group id\", \"new dataframe with only december\")\n",
    "df2 = df.filter(df.month == 12)\n",
    "df2.show()"
   ]
  },
  {
   "cell_type": "code",
   "execution_count": 16,
   "metadata": {},
   "outputs": [
    {
     "name": "stderr",
     "output_type": "stream",
     "text": [
      "[Stage 17:=====================================================>  (23 + 1) / 24]\r"
     ]
    },
    {
     "name": "stdout",
     "output_type": "stream",
     "text": [
      "+-------------+--------------+-----------+--------------------+---------+----------+\n",
      "|year_december|month_december|STATIONS_ID|temperature_december|year_june|month_june|\n",
      "+-------------+--------------+-----------+--------------------+---------+----------+\n",
      "|         1998|            12|       3366| -1.1544822949350064|     1999|         6|\n",
      "|         1998|            12|       3287|  0.6422981785473398|     1999|         6|\n",
      "|         1997|            12|       3366|  0.8322356630824369|     1998|         6|\n",
      "|         1997|            12|       3287|   1.393297466935662|     1998|         6|\n",
      "|         1993|            12|       3287|  2.6650765076507605|     1994|         6|\n",
      "|         1997|            12|       3023|   4.056115591397865|     1998|         6|\n",
      "|         1999|            12|       3023|   4.099731062303909|     2000|         6|\n",
      "|         1990|            12|       3366|  -1.782831181252991|     1991|         6|\n",
      "|         1993|            12|       3023|   4.374932795698943|     1994|         6|\n",
      "|         1991|            12|       3287|-0.45028885037550465|     1992|         6|\n",
      "|         1993|            12|       3366|  2.4830121021963185|     1994|         6|\n",
      "|         1995|            12|       3366| -1.2314964157706085|     1996|         6|\n",
      "|         1996|            12|       3023| -1.2555583501006038|     1997|         6|\n",
      "|         1994|            12|       3287|   3.125325550067363|     1995|         6|\n",
      "|         1996|            12|       3366|  -4.925990752972258|     1997|         6|\n",
      "|         1999|            12|       3366|-0.18109441578829447|     2000|         6|\n",
      "|         1995|            12|       3023|  -1.468154294684908|     1996|         6|\n",
      "|         1994|            12|       3023|   4.909027777777788|     1995|         6|\n",
      "|         1994|            12|       3366|    2.02283535217586|     1995|         6|\n",
      "|         1999|            12|       3287|  1.0094086021505317|     2000|         6|\n",
      "+-------------+--------------+-----------+--------------------+---------+----------+\n",
      "only showing top 20 rows\n",
      "\n"
     ]
    },
    {
     "name": "stderr",
     "output_type": "stream",
     "text": [
      "                                                                                \r"
     ]
    }
   ],
   "source": [
    "from pyspark.sql.functions import lit\n",
    "\n",
    "sc.setJobGroup(\"job group id\", \"adding additional month and year columns\")\n",
    "df2 = df2.withColumnRenamed('avg(TT_10)', 'temperature_december')\n",
    "df2 = df2.withColumnRenamed('year', 'year_december')\n",
    "df2 = df2.withColumnRenamed('month', 'month_december')\n",
    "df2 = df2.withColumn('year_june', df2.year_december + 1)\n",
    "df2 = df2.withColumn('month_june', lit(6))\n",
    "df2.show()"
   ]
  },
  {
   "cell_type": "code",
   "execution_count": 17,
   "metadata": {},
   "outputs": [
    {
     "name": "stderr",
     "output_type": "stream",
     "text": [
      "[Stage 21:=====================================================>  (23 + 1) / 24]\r"
     ]
    },
    {
     "name": "stdout",
     "output_type": "stream",
     "text": [
      "+-------------+--------------+-----------+--------------------+---------+----------+------------------+\n",
      "|year_december|month_december|STATIONS_ID|temperature_december|year_june|month_june|  temperature_june|\n",
      "+-------------+--------------+-----------+--------------------+---------+----------+------------------+\n",
      "|         1996|            12|       3366|  -4.925990752972258|     1997|         6| 16.27305555555556|\n",
      "|         1998|            12|       3366| -1.1544822949350064|     1999|         6|15.699606481481515|\n",
      "|         1998|            12|       3287|  0.6422981785473398|     1999|         6|14.825902777777793|\n",
      "|         1995|            12|       3023|  -1.468154294684908|     1996|         6| 15.60687659180368|\n",
      "|         1994|            12|       3023|   4.909027777777788|     1995|         6|  14.8692289881917|\n",
      "|         1994|            12|       3287|   3.125325550067363|     1995|         6|13.723310185185213|\n",
      "|         1997|            12|       3366|  0.8322356630824369|     1998|         6| 17.09474912485418|\n",
      "|         1993|            12|       3366|  2.4830121021963185|     1994|         6| 16.76222737819026|\n",
      "|         1990|            12|       3366|  -1.782831181252991|     1991|         6|14.654583333333356|\n",
      "|         1996|            12|       3287| -4.3875992063492095|     1997|         6|14.595046296296315|\n",
      "|         1998|            12|       3023|   3.283990092321548|     1999|         6|15.468959810874678|\n",
      "|         1993|            12|       3023|   4.374932795698943|     1994|         6|15.214471243042668|\n",
      "|         1991|            12|       3287|-0.45028885037550465|     1992|         6| 15.83849620493362|\n",
      "|         1993|            12|       3287|  2.6650765076507605|     1994|         6|15.909275700934597|\n",
      "|         1997|            12|       3287|   1.393297466935662|     1998|         6|16.279374999999998|\n",
      "|         1994|            12|       3366|    2.02283535217586|     1995|         6|14.494441871236706|\n",
      "|         1996|            12|       3023| -1.2555583501006038|     1997|         6|16.167569444444407|\n",
      "|         1997|            12|       3023|   4.056115591397865|     1998|         6|15.996620370370346|\n",
      "|         1995|            12|       3287| -1.8326384218785106|     1996|         6|15.371087962962964|\n",
      "|         1995|            12|       3366| -1.2314964157706085|     1996|         6|17.114129273504336|\n",
      "+-------------+--------------+-----------+--------------------+---------+----------+------------------+\n",
      "only showing top 20 rows\n",
      "\n"
     ]
    },
    {
     "name": "stderr",
     "output_type": "stream",
     "text": [
      "                                                                                \r"
     ]
    }
   ],
   "source": [
    "sc.setJobGroup(\"job group id\", \"join two dataframes\")\n",
    "df2 = df2.join(df, (df2.year_june == df.year) & (df2.month_june == df.month) & (df2.STATIONS_ID == df.STATIONS_ID)).select(df2[\"*\"], df[\"avg(TT_10)\"])\n",
    "df2 = df2.withColumnRenamed('avg(TT_10)', 'temperature_june')\n",
    "df2.show()"
   ]
  },
  {
   "cell_type": "code",
   "execution_count": 18,
   "metadata": {},
   "outputs": [
    {
     "name": "stderr",
     "output_type": "stream",
     "text": [
      "                                                                                \r"
     ]
    },
    {
     "data": {
      "text/plain": [
       "0.24578055812887734"
      ]
     },
     "execution_count": 18,
     "metadata": {},
     "output_type": "execute_result"
    }
   ],
   "source": [
    "sc.setJobGroup(\"job group id\", \"calculate correlation\")\n",
    "df2.corr(\"temperature_december\", \"temperature_june\", method=\"pearson\")"
   ]
  },
  {
   "cell_type": "code",
   "execution_count": 19,
   "metadata": {},
   "outputs": [],
   "source": [
    "#df2.coalesce(1).write.mode(\"overwrite\").option(\"header\", \"true\").csv(\"/hdfs://192.168.199.80:9000/user/mario/output_files/10minutenwerte_only_100_result\")"
   ]
  },
  {
   "attachments": {
    "35a6c1d3-afdd-4be8-b16e-f0fa56f00798.png": {
     "image/png": "[encoded data removed]"
    }
   },
   "cell_type": "markdown",
   "metadata": {},
   "source": [
    "![image.png](attachment:35a6c1d3-afdd-4be8-b16e-f0fa56f00798.png)"
   ]
  },
  {
   "cell_type": "code",
   "execution_count": null,
   "metadata": {},
   "outputs": [],
   "source": []
  }
 ],
 "metadata": {
  "kernelspec": {
   "display_name": "Python 3 (ipykernel)",
   "language": "python",
   "name": "python3"
  },
  "language_info": {
   "codemirror_mode": {
    "name": "ipython",
    "version": 3
   },
   "file_extension": ".py",
   "mimetype": "text/x-python",
   "name": "python",
   "nbconvert_exporter": "python",
   "pygments_lexer": "ipython3",
   "version": "3.10.8"
  },
  "vscode": {
   "interpreter": {
    "hash": "e7370f93d1d0cde622a1f8e1c04877d8463912d04d973331ad4851f04de6915a"
   }
  }
 },
 "nbformat": 4,
 "nbformat_minor": 4
}
