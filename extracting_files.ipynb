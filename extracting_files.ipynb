{
 "cells": [
  {
   "cell_type": "code",
   "execution_count": 15,
   "metadata": {},
   "outputs": [],
   "source": [
    "import os"
   ]
  },
  {
   "cell_type": "code",
   "execution_count": 21,
   "metadata": {},
   "outputs": [
    {
     "name": "stdout",
     "output_type": "stream",
     "text": [
      "['produkt_zehn_min_sd_20100101_20191231_00198.txt', 'produkt_zehn_min_sd_19911119_19991231_01048.txt', 'produkt_zehn_min_sd_20200101_20211231_05424.txt', 'produkt_zehn_min_sd_20100101_20191231_13711.txt', 'produkt_zehn_min_sd_20100101_20191231_03612.txt', 'produkt_zehn_min_sd_20200101_20211231_06265.txt', 'produkt_zehn_min_sd_20000101_20091231_04024.txt', 'produkt_zehn_min_sd_20100101_20181209_00410.txt', 'produkt_zehn_min_sd_19911031_19991231_04464.txt', 'produkt_zehn_min_sd_20100101_20191231_05009.txt']\n"
     ]
    }
   ],
   "source": [
    "list_of_file_names = os.listdir(\"/home/mario/dwd_data/solar_10minutenwerte_all/\")\n",
    "print(list_of_file_names[:10])"
   ]
  },
  {
   "cell_type": "code",
   "execution_count": 22,
   "metadata": {},
   "outputs": [
    {
     "name": "stdout",
     "output_type": "stream",
     "text": [
      "['00198', '01048', '05424', '13711', '03612', '06265', '04024', '00410', '04464', '05009']\n"
     ]
    }
   ],
   "source": [
    "list_of_station_ids = []\n",
    "\n",
    "for x in list_of_file_names:\n",
    "    station_id = x[-9:-4] #this extracts only the id part of the name\n",
    "    list_of_station_ids.append(station_id)\n",
    "print(list_of_station_ids[:10])"
   ]
  },
  {
   "cell_type": "code",
   "execution_count": 25,
   "metadata": {},
   "outputs": [
    {
     "name": "stdout",
     "output_type": "stream",
     "text": [
      "Number of station_ids: 1051\n"
     ]
    }
   ],
   "source": [
    "print(\"Number of station_ids: \" + str(len(list_of_station_ids)))"
   ]
  },
  {
   "cell_type": "code",
   "execution_count": 26,
   "metadata": {},
   "outputs": [
    {
     "name": "stdout",
     "output_type": "stream",
     "text": [
      "Number of unique station_ids: 322\n"
     ]
    }
   ],
   "source": [
    "list_of_station_ids = list(set(list_of_station_ids)) # remove duplicates from the list\n",
    "print(\"Number of unique station_ids: \" + str(len(list_of_station_ids)))"
   ]
  },
  {
   "cell_type": "code",
   "execution_count": 28,
   "metadata": {},
   "outputs": [
    {
     "name": "stdout",
     "output_type": "stream",
     "text": [
      "['01766', '03571', '03166', '05109', '05440', '00867', '00232', '00891', '01303', '05100']\n"
     ]
    }
   ],
   "source": [
    "# Lets take only 10 station_ids\n",
    "station_ids_only_10 = list_of_station_ids[:10]\n",
    "print(station_ids_only_10)"
   ]
  },
  {
   "cell_type": "code",
   "execution_count": 29,
   "metadata": {},
   "outputs": [
    {
     "name": "stdout",
     "output_type": "stream",
     "text": [
      "['produkt_zehn_min_sd_19990428_19991231_00891.txt', 'produkt_zehn_min_sd_20100101_20191231_03166.txt', 'produkt_zehn_min_sd_20200101_20210809_03166.txt', 'produkt_zehn_min_sd_20100101_20191231_05440.txt', 'produkt_zehn_min_sd_20100101_20191231_01303.txt', 'produkt_zehn_min_sd_20000101_20091231_01766.txt', 'produkt_zehn_min_sd_20100101_20191231_05100.txt', 'produkt_zehn_min_sd_20200101_20211231_00232.txt', 'produkt_zehn_min_sd_20200101_20211231_05109.txt', 'produkt_zehn_min_sd_20080301_20091231_03571.txt', 'produkt_zehn_min_sd_20000101_20091231_00891.txt', 'produkt_zehn_min_sd_19961107_19991231_00232.txt', 'produkt_zehn_min_sd_19940503_19991231_01303.txt', 'produkt_zehn_min_sd_20000101_20091231_03166.txt', 'produkt_zehn_min_sd_20200101_20211231_01766.txt', 'produkt_zehn_min_sd_20131001_20191231_05109.txt', 'produkt_zehn_min_sd_19911101_19991231_03166.txt', 'produkt_zehn_min_sd_20200101_20211231_00867.txt', 'produkt_zehn_min_sd_20100101_20191231_00867.txt', 'produkt_zehn_min_sd_20200101_20211231_05100.txt', 'produkt_zehn_min_sd_20000101_20091231_05440.txt', 'produkt_zehn_min_sd_20001019_20091231_05100.txt', 'produkt_zehn_min_sd_19920214_19991231_00867.txt', 'produkt_zehn_min_sd_20000101_20091231_00232.txt', 'produkt_zehn_min_sd_20200101_20211231_05440.txt', 'produkt_zehn_min_sd_20000101_20091231_01303.txt', 'produkt_zehn_min_sd_20100101_20191231_01766.txt', 'produkt_zehn_min_sd_19900101_19991231_05440.txt', 'produkt_zehn_min_sd_20100101_20191231_00891.txt', 'produkt_zehn_min_sd_19950704_19991231_01766.txt', 'produkt_zehn_min_sd_20200101_20211231_01303.txt', 'produkt_zehn_min_sd_20100101_20191231_03571.txt', 'produkt_zehn_min_sd_20200101_20211231_00891.txt', 'produkt_zehn_min_sd_20200101_20211231_03571.txt', 'produkt_zehn_min_sd_20100101_20191231_00232.txt', 'produkt_zehn_min_sd_20000101_20091231_00867.txt']\n"
     ]
    }
   ],
   "source": [
    "files_we_need = []\n",
    "for x in list_of_file_names:\n",
    "    if x[-9:-4] in station_ids_only_10:\n",
    "        files_we_need.append(x)\n",
    "print(files_we_need)"
   ]
  },
  {
   "cell_type": "code",
   "execution_count": 34,
   "metadata": {},
   "outputs": [],
   "source": [
    "import shutil\n",
    "for x in files_we_need:\n",
    "    shutil.copyfile(\"/home/mario/dwd_data/solar_10minutenwerte_all/\" + str(x), \"/home/mario/dwd_data/solar_only_10_stations/\" + str(x))"
   ]
  },
  {
   "cell_type": "code",
   "execution_count": 35,
   "metadata": {},
   "outputs": [
    {
     "name": "stdout",
     "output_type": "stream",
     "text": [
      "['produkt_zehn_min_tu_20200101_20211231_01766.txt', 'produkt_zehn_min_tu_20001019_20091231_05100.txt', 'produkt_zehn_min_tu_20200101_20211231_00232.txt', 'produkt_zehn_min_tu_20100101_20191231_00232.txt', 'produkt_zehn_min_tu_19950704_19991231_01766.txt', 'produkt_zehn_min_tu_20200101_20211231_00867.txt', 'produkt_zehn_min_tu_20100101_20191231_03166.txt', 'produkt_zehn_min_tu_20000101_20091231_00867.txt', 'produkt_zehn_min_tu_20200101_20211231_03166.txt', 'produkt_zehn_min_tu_20131001_20191231_05109.txt', 'produkt_zehn_min_tu_19940503_19991231_01303.txt', 'produkt_zehn_min_tu_20100101_20191231_05440.txt', 'produkt_zehn_min_tu_20100101_20191231_03571.txt', 'produkt_zehn_min_tu_20100101_20191231_01766.txt', 'produkt_zehn_min_tu_20100101_20191231_05100.txt', 'produkt_zehn_min_tu_20200101_20211231_03571.txt', 'produkt_zehn_min_tu_19990428_19991231_00891.txt', 'produkt_zehn_min_tu_20200101_20211231_05109.txt', 'produkt_zehn_min_tu_20080301_20091231_03571.txt', 'produkt_zehn_min_tu_20000101_20091231_03166.txt', 'produkt_zehn_min_tu_20000101_20091231_01766.txt', 'produkt_zehn_min_tu_19920214_19991231_00867.txt', 'produkt_zehn_min_tu_19961107_19991231_00232.txt', 'produkt_zehn_min_tu_20000101_20091231_00891.txt', 'produkt_zehn_min_tu_20100101_20191231_01303.txt', 'produkt_zehn_min_tu_20200101_20211231_05440.txt', 'produkt_zehn_min_tu_20000101_20091231_00232.txt', 'produkt_zehn_min_tu_20100101_20191231_00867.txt', 'produkt_zehn_min_tu_19900101_19991231_05440.txt', 'produkt_zehn_min_tu_20200101_20211231_00891.txt', 'produkt_zehn_min_tu_20200101_20211231_01303.txt', 'produkt_zehn_min_tu_20100101_20191231_00891.txt', 'produkt_zehn_min_tu_20000101_20091231_05440.txt', 'produkt_zehn_min_tu_19911101_19991231_03166.txt', 'produkt_zehn_min_tu_20200101_20211231_05100.txt', 'produkt_zehn_min_tu_20000101_20091231_01303.txt']\n"
     ]
    }
   ],
   "source": [
    "# now lets do the same for temperature data, for the same 10 station_ids\n",
    "list_of_file_names = os.listdir(\"/home/mario/dwd_data/temperatur_10minutenwerte_all/\")\n",
    "files_we_need = []\n",
    "for x in list_of_file_names:\n",
    "    if x[-9:-4] in station_ids_only_10:\n",
    "        files_we_need.append(x)\n",
    "print(files_we_need)"
   ]
  },
  {
   "cell_type": "code",
   "execution_count": 36,
   "metadata": {},
   "outputs": [],
   "source": [
    "for x in files_we_need:\n",
    "    shutil.copyfile(\"/home/mario/dwd_data/temperatur_10minutenwerte_all/\" + str(x), \"/home/mario/dwd_data/temperatur_only_10_stations/\" + str(x))"
   ]
  },
  {
   "cell_type": "code",
   "execution_count": null,
   "metadata": {},
   "outputs": [],
   "source": []
  }
 ],
 "metadata": {
  "kernelspec": {
   "display_name": "Python 3.10.8 64-bit",
   "language": "python",
   "name": "python3"
  },
  "language_info": {
   "codemirror_mode": {
    "name": "ipython",
    "version": 3
   },
   "file_extension": ".py",
   "mimetype": "text/x-python",
   "name": "python",
   "nbconvert_exporter": "python",
   "pygments_lexer": "ipython3",
   "version": "3.10.9"
  },
  "orig_nbformat": 4,
  "vscode": {
   "interpreter": {
    "hash": "e7370f93d1d0cde622a1f8e1c04877d8463912d04d973331ad4851f04de6915a"
   }
  }
 },
 "nbformat": 4,
 "nbformat_minor": 2
}
