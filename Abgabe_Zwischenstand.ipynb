{
 "cells": [
  {
   "cell_type": "code",
   "execution_count": 1,
   "metadata": {},
   "outputs": [
    {
     "name": "stderr",
     "output_type": "stream",
     "text": [
      "WARNING: An illegal reflective access operation has occurred\n",
      "WARNING: Illegal reflective access by org.apache.spark.unsafe.Platform (file:/usr/local/spark-3.2.3-bin-hadoop3.2/jars/spark-unsafe_2.12-3.2.3.jar) to constructor java.nio.DirectByteBuffer(long,int)\n",
      "WARNING: Please consider reporting this to the maintainers of org.apache.spark.unsafe.Platform\n",
      "WARNING: Use --illegal-access=warn to enable warnings of further illegal reflective access operations\n",
      "WARNING: All illegal access operations will be denied in a future release\n",
      "Using Spark's default log4j profile: org/apache/spark/log4j-defaults.properties\n",
      "Setting default log level to \"WARN\".\n",
      "To adjust logging level use sc.setLogLevel(newLevel). For SparkR, use setLogLevel(newLevel).\n",
      "22/12/23 21:17:41 WARN NativeCodeLoader: Unable to load native-hadoop library for your platform... using builtin-java classes where applicable\n"
     ]
    },
    {
     "data": {
      "text/html": [
       "\n",
       "            <div>\n",
       "                <p><b>SparkSession - in-memory</b></p>\n",
       "                \n",
       "        <div>\n",
       "            <p><b>SparkContext</b></p>\n",
       "\n",
       "            <p><a href=\"http://minivondaniel2.fritz.box:4040\">Spark UI</a></p>\n",
       "\n",
       "            <dl>\n",
       "              <dt>Version</dt>\n",
       "                <dd><code>v3.2.3</code></dd>\n",
       "              <dt>Master</dt>\n",
       "                <dd><code>local[*]</code></dd>\n",
       "              <dt>AppName</dt>\n",
       "                <dd><code>BigData</code></dd>\n",
       "            </dl>\n",
       "        </div>\n",
       "        \n",
       "            </div>\n",
       "        "
      ],
      "text/plain": [
       "<pyspark.sql.session.SparkSession at 0x10cca9e10>"
      ]
     },
     "execution_count": 1,
     "metadata": {},
     "output_type": "execute_result"
    }
   ],
   "source": [
    "#Set up von Spark\n",
    "import findspark\n",
    "findspark.init()\n",
    "import pyspark\n",
    "from pyspark.sql import *\n",
    "from pyspark.sql.functions import *\n",
    "from pyspark.sql.types import *\n",
    "spark = SparkSession.builder.appName(\"BigData\").getOrCreate()\n",
    "sc = spark.sparkContext\n",
    "spark"
   ]
  },
  {
   "cell_type": "code",
   "execution_count": 2,
   "metadata": {},
   "outputs": [],
   "source": [
    "#Festlegen der Speicherorte der Daten\n",
    "#Daniel\n",
    "folder_Temperature = '/Users/danielwentsch/Desktop/BigData/Data/02_air_temperature/'\n",
    "folder_Solar = '/Users/danielwentsch/Desktop/BigData/Data/04_solar/'\n",
    "#Mario\n",
    "#folder_Temperature = \n",
    "#folder_Solar = \n"
   ]
  },
  {
   "cell_type": "code",
   "execution_count": 3,
   "metadata": {},
   "outputs": [
    {
     "name": "stderr",
     "output_type": "stream",
     "text": [
      "                                                                                \r"
     ]
    }
   ],
   "source": [
    "#Einlesen der jeweiligen Daten in einen DataFrame\n",
    "\n",
    "#Lufttemperatur\n",
    "#Daniel\n",
    "df_Temperatur = spark.read.option(\"header\", \"true\").option(\"delimiter\", \";\").option(\"inferSchema\", \"false\").csv(folder_Temperature+'*.txt')\n",
    "#Mario\n",
    "#df_Temperatur = spark.read.options(delimiter=\";\", inferSchema='True', header=True).csv(folder_Temperature)\n",
    "#Sonnenscheindauer\n",
    "#Daniel\n",
    "df_Solar = spark.read.option(\"header\", \"true\").option(\"delimiter\", \";\").option(\"inferSchema\", \"false\").csv(folder_Solar+'*.txt')\n",
    "#Mario\n",
    "#df_Solar = spark.read.options(delimiter=\";\", inferSchema='True', header=True).csv(folder_Solar)\n"
   ]
  },
  {
   "attachments": {},
   "cell_type": "markdown",
   "metadata": {},
   "source": [
    "Datenstruktur verstehen \n",
    "Daten bearbeiten und in einen Finalen DF schreiben \n",
    "Infos: Zu jeder Station ID sollen zu jedem Timestmap die jeweiligen Daten zusammengefasst werden\n"
   ]
  },
  {
   "cell_type": "code",
   "execution_count": 4,
   "metadata": {},
   "outputs": [
    {
     "name": "stdout",
     "output_type": "stream",
     "text": [
      "root\n",
      " |-- STATIONS_ID: string (nullable = true)\n",
      " |-- MESS_DATUM: string (nullable = true)\n",
      " |--   QN: string (nullable = true)\n",
      " |-- PP_10: string (nullable = true)\n",
      " |-- TT_10: string (nullable = true)\n",
      " |-- TM5_10: string (nullable = true)\n",
      " |-- RF_10: string (nullable = true)\n",
      " |-- TD_10: string (nullable = true)\n",
      " |-- eor: string (nullable = true)\n",
      "\n"
     ]
    }
   ],
   "source": [
    "df_Temperatur.printSchema()"
   ]
  },
  {
   "attachments": {},
   "cell_type": "markdown",
   "metadata": {},
   "source": [
    "\n",
    "Aus diesem Datensatz benötigen wir die Spalten StationsID und MESS_Datum (Zeitstempel) TT_10 (Luftemperatur in 2m Höhe) und TM5_10 (Luftemperatur in 2cm Höhe) und PP_10(Luftdruck)\n",
    "Ändern der Datentypen von TT_10, TM5_10 und PP_10 in float "
   ]
  },
  {
   "cell_type": "code",
   "execution_count": 5,
   "metadata": {},
   "outputs": [
    {
     "name": "stdout",
     "output_type": "stream",
     "text": [
      "root\n",
      " |-- STATIONS_ID: string (nullable = true)\n",
      " |-- MESS_DATUM: string (nullable = true)\n",
      " |--   QN: string (nullable = true)\n",
      " |-- DS_10: string (nullable = true)\n",
      " |-- GS_10: string (nullable = true)\n",
      " |-- SD_10: string (nullable = true)\n",
      " |-- LS_10: string (nullable = true)\n",
      " |-- eor: string (nullable = true)\n",
      "\n"
     ]
    }
   ],
   "source": [
    "df_Solar.printSchema()"
   ]
  },
  {
   "attachments": {},
   "cell_type": "markdown",
   "metadata": {},
   "source": [
    "Aus diesem Datensatz benötigen wir die Spalten StationsID und MESS_Datum (Zeitstempel), SD_10 (10 min-Summe der Sonnenscheindauer)\n",
    "Ändern der Datentypen von SD_10 in float"
   ]
  },
  {
   "cell_type": "code",
   "execution_count": 6,
   "metadata": {},
   "outputs": [
    {
     "name": "stdout",
     "output_type": "stream",
     "text": [
      "+-----------+-------------------+---------+-------------+--------------+----+-----+---+------+------+\n",
      "|STATIONS_ID|MESS_DATUM         |Luftdruck|Temperatur_2m|Temperatur_5cm|Jahr|Monat|Tag|Stunde|Minute|\n",
      "+-----------+-------------------+---------+-------------+--------------+----+-----+---+------+------+\n",
      "|2171       |2010-01-01 00:00:00|960.8    |-1.3         |-1.3          |2010|01   |01 |00    |00    |\n",
      "|2171       |2010-01-01 00:10:00|960.8    |-1.4         |-1.3          |2010|01   |01 |00    |10    |\n",
      "|2171       |2010-01-01 00:20:00|960.7    |-1.4         |-1.3          |2010|01   |01 |00    |20    |\n",
      "+-----------+-------------------+---------+-------------+--------------+----+-----+---+------+------+\n",
      "only showing top 3 rows\n",
      "\n"
     ]
    }
   ],
   "source": [
    "#Bearbeiten der Struktur in Geünschtes Format \n",
    "#Für df_temperatur ID, Datum, TT_10, TM5_10 und PP_10 und umbennen \n",
    "df_Temperatur  = df_Temperatur.withColumn(\"Jahr\", df_Temperatur.MESS_DATUM.substr(1,4))\n",
    "df_Temperatur  = df_Temperatur.withColumn(\"Monat\", df_Temperatur.MESS_DATUM.substr(5,2))\n",
    "df_Temperatur  = df_Temperatur.withColumn(\"Tag\", df_Temperatur.MESS_DATUM.substr(7,2))\n",
    "df_Temperatur  = df_Temperatur.withColumn(\"Stunde\", df_Temperatur.MESS_DATUM.substr(9,2))\n",
    "df_Temperatur  = df_Temperatur.withColumn(\"Minute\", df_Temperatur.MESS_DATUM.substr(11,2))\n",
    "#Datentypen bearbeiten \n",
    "df_Temperatur = df_Temperatur.withColumn('STATIONS_ID',df_Temperatur.STATIONS_ID.cast(IntegerType())).withColumn('TM5_10',df_Temperatur.TM5_10.cast(FloatType())).withColumn('PP_10',df_Temperatur.PP_10.cast(FloatType())).withColumn('TT_10',df_Temperatur.TT_10.cast(FloatType())).withColumn(\"MESS_DATUM\",to_timestamp(\"MESS_DATUM\", \"yyyyMMddHHmm\"))\n",
    "#Daten droppen\n",
    "df_Temperatur = df_Temperatur.drop('  QN','RF_10','TD_10','eor')\n",
    "#Spalten umbennen\n",
    "df_Temperatur = df_Temperatur.withColumnRenamed('TT_10','Temperatur_2m').withColumnRenamed('TM5_10','Temperatur_5cm').withColumnRenamed('PP_10','Luftdruck')\n",
    "df_Temperatur.show(3,False)"
   ]
  },
  {
   "cell_type": "code",
   "execution_count": 7,
   "metadata": {},
   "outputs": [
    {
     "name": "stdout",
     "output_type": "stream",
     "text": [
      "+-----------+-------------------+-----------------+----+-----+---+------+------+\n",
      "|STATIONS_ID|MESS_DATUM         |Sonnenscheindauer|Jahr|Monat|Tag|Stunde|Minute|\n",
      "+-----------+-------------------+-----------------+----+-----+---+------+------+\n",
      "|         73|2010-01-01 00:00:00|0.0              |2010|01   |01 |00    |00    |\n",
      "|         73|2010-01-01 00:10:00|0.0              |2010|01   |01 |00    |10    |\n",
      "|         73|2010-01-01 00:20:00|0.0              |2010|01   |01 |00    |20    |\n",
      "+-----------+-------------------+-----------------+----+-----+---+------+------+\n",
      "only showing top 3 rows\n",
      "\n"
     ]
    }
   ],
   "source": [
    "df_Solar  = df_Solar.withColumn(\"Jahr\", df_Solar.MESS_DATUM.substr(1,4))\n",
    "df_Solar  = df_Solar.withColumn(\"Monat\", df_Solar.MESS_DATUM.substr(5,2))\n",
    "df_Solar  = df_Solar.withColumn(\"Tag\", df_Solar.MESS_DATUM.substr(7,2))\n",
    "df_Solar  = df_Solar.withColumn(\"Stunde\", df_Solar.MESS_DATUM.substr(9,2))\n",
    "df_Solar  = df_Solar.withColumn(\"Minute\", df_Solar.MESS_DATUM.substr(11,2))\n",
    "#Datentypen bearbeiten\n",
    "df_Solar = df_Solar.withColumn('SD_10',df_Solar.SD_10.cast(FloatType())).withColumn(\"MESS_DATUM\",to_timestamp(\"MESS_DATUM\", \"yyyyMMddHHmm\"))\n",
    "#Daten droppen \n",
    "df_Solar = df_Solar.drop('  QN','DS_10','GS_10','LS_10','eor')\n",
    "#Spalte numbennen\n",
    "df_Solar = df_Solar.withColumnRenamed('SD_10','Sonnenscheindauer')\n",
    "df_Solar.show(3,False)"
   ]
  },
  {
   "cell_type": "code",
   "execution_count": 8,
   "metadata": {},
   "outputs": [
    {
     "name": "stdout",
     "output_type": "stream",
     "text": [
      "root\n",
      " |-- STATIONS_ID: integer (nullable = true)\n",
      " |-- MESS_DATUM: timestamp (nullable = true)\n",
      " |-- Luftdruck: float (nullable = true)\n",
      " |-- Temperatur_2m: float (nullable = true)\n",
      " |-- Temperatur_5cm: float (nullable = true)\n",
      " |-- Jahr: integer (nullable = true)\n",
      " |-- Monat: integer (nullable = true)\n",
      " |-- Tag: integer (nullable = true)\n",
      " |-- Stunde: integer (nullable = true)\n",
      " |-- Minute: integer (nullable = true)\n",
      " |-- Sonnenscheindauer: float (nullable = true)\n",
      "\n"
     ]
    }
   ],
   "source": [
    "#Join der DF\n",
    "df_Final = df_Temperatur.join(df_Solar, (df_Temperatur.STATIONS_ID == df_Solar.STATIONS_ID) & (df_Temperatur.MESS_DATUM == df_Solar.MESS_DATUM)).select(df_Temperatur['*'],df_Solar.Sonnenscheindauer)\n",
    "df_Final = df_Final.withColumn('Monat',df_Temperatur.Monat.cast(IntegerType()))\n",
    "df_Final = df_Final.withColumn('Jahr',df_Temperatur.Jahr.cast(IntegerType()))\n",
    "df_Final = df_Final.withColumn('Tag',df_Temperatur.Tag.cast(IntegerType()))\n",
    "df_Final = df_Final.withColumn('Stunde',df_Temperatur.Stunde.cast(IntegerType()))\n",
    "df_Final = df_Final.withColumn('Minute',df_Temperatur.Minute.cast(IntegerType()))\n",
    "df_Final.printSchema()\n"
   ]
  },
  {
   "attachments": {},
   "cell_type": "markdown",
   "metadata": {},
   "source": [
    "Wieso hat es hier weniger Datensätze als beide einzeln?"
   ]
  },
  {
   "cell_type": "code",
   "execution_count": 9,
   "metadata": {},
   "outputs": [],
   "source": [
    "#Löschen der Spalten, in welchen Werte fehlen (-999)\n",
    "df_Final = df_Final.filter((df_Final.Sonnenscheindauer != -999.0))\n",
    "df_Final = df_Final.filter((df_Final.Luftdruck != -999.0))\n",
    "df_Final = df_Final.filter((df_Final.Temperatur_2m != -999.0))\n",
    "df_Final = df_Final.filter((df_Final.Temperatur_5cm != -999.0))"
   ]
  },
  {
   "cell_type": "code",
   "execution_count": 10,
   "metadata": {},
   "outputs": [],
   "source": [
    "#DF aus dem df_Final erzeugen welcher alle Kmbinationen der StationsIDs und Jahre enthält\n",
    "df_Kombinationen =  df_Final.withColumn(\"ID\",concat_ws('','Jahr','STATIONS_ID'))\n",
    "df_Kombinationen = df_Kombinationen.select(\"ID\",'STATIONS_ID','Jahr')\n",
    "df_Kombinationen = df_Kombinationen.dropDuplicates([\"ID\"]) "
   ]
  },
  {
   "attachments": {},
   "cell_type": "markdown",
   "metadata": {},
   "source": [
    "In einem nächsen Schritt soll der Spruch \"Ist der Januar hell und weiß, wird der Sommer Sicher heiß\" geprüft werden\n",
    "Hierfür müssen die Daten Pro Jahr und StationsID betrachtet werden. Zusätzlich sind pro Jahr nur die Temperaturen von 21. Juni bis 23. September und die Sonnenscheindauer im Januar wichtig "
   ]
  },
  {
   "cell_type": "code",
   "execution_count": 11,
   "metadata": {},
   "outputs": [],
   "source": [
    "#Zu DF df_Kombinationen eine neue Spalte hinzufügen, welche die Summe an Sonnenstunden pro StationsID und Jahr enthält \n",
    "df_Final_Solar_Grouped = df_Final.filter((df_Final.Monat == 12)).groupBy('STATIONS_ID','Jahr','Monat').mean('Sonnenscheindauer')\n",
    "df_Final_Solar_Grouped = df_Final_Solar_Grouped.withColumnRenamed('avg(Sonnenscheindauer)','Sonnenscheindauer')\n",
    "df_Kombinationen = df_Kombinationen.join(df_Final_Solar_Grouped,(df_Kombinationen.STATIONS_ID == df_Final_Solar_Grouped.STATIONS_ID)&(df_Kombinationen.Jahr == df_Final_Solar_Grouped.Jahr )).select(df_Kombinationen['*'],df_Final_Solar_Grouped.Sonnenscheindauer)\n",
    "df_Kombinationen = df_Kombinationen.sort('Jahr')\n",
    "df_Kombinationen = df_Kombinationen.sort('STATIONS_ID')"
   ]
  },
  {
   "cell_type": "code",
   "execution_count": 12,
   "metadata": {},
   "outputs": [],
   "source": [
    "df_Final_Temperatur_Grouped = df_Final.filter((df_Final.Monat == 7)|(df_Final.Monat == 8)).groupBy('STATIONS_ID','Jahr').mean('Temperatur_2m')\n",
    "df_Final_Temperatur_Grouped = df_Final_Temperatur_Grouped.withColumnRenamed('avg(Temperatur_2m)','Temperatur_2m')\n",
    "df_Kombinationen = df_Kombinationen.join(df_Final_Temperatur_Grouped,(df_Kombinationen.STATIONS_ID == df_Final_Temperatur_Grouped.STATIONS_ID)&(df_Kombinationen.Jahr == df_Final_Temperatur_Grouped.Jahr )).select(df_Kombinationen['*'],df_Final_Temperatur_Grouped.Temperatur_2m)\n",
    "df_Kombinationen = df_Kombinationen.sort('Jahr')\n",
    "df_Kombinationen = df_Kombinationen.sort('STATIONS_ID')"
   ]
  },
  {
   "cell_type": "code",
   "execution_count": 17,
   "metadata": {},
   "outputs": [
    {
     "name": "stderr",
     "output_type": "stream",
     "text": [
      "22/12/23 21:38:46 WARN RowBasedKeyValueBatch: Calling spill() on RowBasedKeyValueBatch. Will not spill but return 0.\n",
      "22/12/23 21:38:48 WARN RowBasedKeyValueBatch: Calling spill() on RowBasedKeyValueBatch. Will not spill but return 0.\n",
      "22/12/23 21:38:48 WARN RowBasedKeyValueBatch: Calling spill() on RowBasedKeyValueBatch. Will not spill but return 0.\n",
      "22/12/23 21:38:48 WARN RowBasedKeyValueBatch: Calling spill() on RowBasedKeyValueBatch. Will not spill but return 0.\n",
      "22/12/23 21:38:48 WARN RowBasedKeyValueBatch: Calling spill() on RowBasedKeyValueBatch. Will not spill but return 0.\n",
      "22/12/23 21:38:48 WARN RowBasedKeyValueBatch: Calling spill() on RowBasedKeyValueBatch. Will not spill but return 0.\n",
      "22/12/23 21:38:49 WARN RowBasedKeyValueBatch: Calling spill() on RowBasedKeyValueBatch. Will not spill but return 0.\n",
      "22/12/23 21:38:51 WARN RowBasedKeyValueBatch: Calling spill() on RowBasedKeyValueBatch. Will not spill but return 0.\n",
      "22/12/23 21:38:51 WARN RowBasedKeyValueBatch: Calling spill() on RowBasedKeyValueBatch. Will not spill but return 0.\n",
      "22/12/23 21:38:51 WARN RowBasedKeyValueBatch: Calling spill() on RowBasedKeyValueBatch. Will not spill but return 0.\n",
      "22/12/23 21:38:51 WARN RowBasedKeyValueBatch: Calling spill() on RowBasedKeyValueBatch. Will not spill but return 0.\n",
      "22/12/23 21:38:51 WARN RowBasedKeyValueBatch: Calling spill() on RowBasedKeyValueBatch. Will not spill but return 0.\n",
      "22/12/23 21:38:51 WARN RowBasedKeyValueBatch: Calling spill() on RowBasedKeyValueBatch. Will not spill but return 0.\n",
      "22/12/23 21:38:51 WARN RowBasedKeyValueBatch: Calling spill() on RowBasedKeyValueBatch. Will not spill but return 0.\n",
      "22/12/23 21:38:53 WARN RowBasedKeyValueBatch: Calling spill() on RowBasedKeyValueBatch. Will not spill but return 0.\n",
      "22/12/23 21:38:53 WARN RowBasedKeyValueBatch: Calling spill() on RowBasedKeyValueBatch. Will not spill but return 0.\n",
      "22/12/23 21:38:53 WARN RowBasedKeyValueBatch: Calling spill() on RowBasedKeyValueBatch. Will not spill but return 0.\n",
      "22/12/23 21:38:54 WARN RowBasedKeyValueBatch: Calling spill() on RowBasedKeyValueBatch. Will not spill but return 0.\n",
      "22/12/23 21:38:54 WARN RowBasedKeyValueBatch: Calling spill() on RowBasedKeyValueBatch. Will not spill but return 0.\n",
      "22/12/23 21:38:54 WARN RowBasedKeyValueBatch: Calling spill() on RowBasedKeyValueBatch. Will not spill but return 0.\n",
      "22/12/23 21:38:54 WARN RowBasedKeyValueBatch: Calling spill() on RowBasedKeyValueBatch. Will not spill but return 0.\n",
      "22/12/23 21:38:56 WARN RowBasedKeyValueBatch: Calling spill() on RowBasedKeyValueBatch. Will not spill but return 0.\n",
      "22/12/23 21:38:56 WARN RowBasedKeyValueBatch: Calling spill() on RowBasedKeyValueBatch. Will not spill but return 0.\n",
      "22/12/23 21:38:56 WARN RowBasedKeyValueBatch: Calling spill() on RowBasedKeyValueBatch. Will not spill but return 0.\n",
      "22/12/23 21:38:56 WARN RowBasedKeyValueBatch: Calling spill() on RowBasedKeyValueBatch. Will not spill but return 0.\n",
      "22/12/23 21:38:56 WARN RowBasedKeyValueBatch: Calling spill() on RowBasedKeyValueBatch. Will not spill but return 0.\n",
      "22/12/23 21:38:56 WARN RowBasedKeyValueBatch: Calling spill() on RowBasedKeyValueBatch. Will not spill but return 0.\n",
      "22/12/23 21:38:57 WARN RowBasedKeyValueBatch: Calling spill() on RowBasedKeyValueBatch. Will not spill but return 0.\n",
      "22/12/23 21:38:57 WARN RowBasedKeyValueBatch: Calling spill() on RowBasedKeyValueBatch. Will not spill but return 0.\n",
      "22/12/23 21:39:00 WARN RowBasedKeyValueBatch: Calling spill() on RowBasedKeyValueBatch. Will not spill but return 0.\n",
      "22/12/23 21:39:02 WARN RowBasedKeyValueBatch: Calling spill() on RowBasedKeyValueBatch. Will not spill but return 0.\n",
      "22/12/23 21:39:04 WARN RowBasedKeyValueBatch: Calling spill() on RowBasedKeyValueBatch. Will not spill but return 0.\n",
      "22/12/23 21:39:04 WARN RowBasedKeyValueBatch: Calling spill() on RowBasedKeyValueBatch. Will not spill but return 0.\n",
      "22/12/23 21:39:04 WARN RowBasedKeyValueBatch: Calling spill() on RowBasedKeyValueBatch. Will not spill but return 0.\n",
      "22/12/23 21:39:04 WARN RowBasedKeyValueBatch: Calling spill() on RowBasedKeyValueBatch. Will not spill but return 0.\n",
      "22/12/23 21:39:04 WARN RowBasedKeyValueBatch: Calling spill() on RowBasedKeyValueBatch. Will not spill but return 0.\n",
      "22/12/23 21:39:05 WARN RowBasedKeyValueBatch: Calling spill() on RowBasedKeyValueBatch. Will not spill but return 0.\n",
      "22/12/23 21:39:06 WARN RowBasedKeyValueBatch: Calling spill() on RowBasedKeyValueBatch. Will not spill but return 0.\n",
      "22/12/23 21:39:06 WARN RowBasedKeyValueBatch: Calling spill() on RowBasedKeyValueBatch. Will not spill but return 0.\n",
      "22/12/23 21:39:06 WARN RowBasedKeyValueBatch: Calling spill() on RowBasedKeyValueBatch. Will not spill but return 0.\n",
      "22/12/23 21:39:06 WARN RowBasedKeyValueBatch: Calling spill() on RowBasedKeyValueBatch. Will not spill but return 0.\n",
      "22/12/23 21:39:06 WARN RowBasedKeyValueBatch: Calling spill() on RowBasedKeyValueBatch. Will not spill but return 0.\n",
      "22/12/23 21:39:07 WARN RowBasedKeyValueBatch: Calling spill() on RowBasedKeyValueBatch. Will not spill but return 0.\n",
      "22/12/23 21:39:07 WARN RowBasedKeyValueBatch: Calling spill() on RowBasedKeyValueBatch. Will not spill but return 0.\n",
      "22/12/23 21:39:07 WARN RowBasedKeyValueBatch: Calling spill() on RowBasedKeyValueBatch. Will not spill but return 0.\n",
      "22/12/23 21:39:07 WARN RowBasedKeyValueBatch: Calling spill() on RowBasedKeyValueBatch. Will not spill but return 0.\n",
      "22/12/23 21:39:07 WARN RowBasedKeyValueBatch: Calling spill() on RowBasedKeyValueBatch. Will not spill but return 0.\n",
      "22/12/23 21:39:08 WARN RowBasedKeyValueBatch: Calling spill() on RowBasedKeyValueBatch. Will not spill but return 0.\n",
      "22/12/23 21:39:09 WARN RowBasedKeyValueBatch: Calling spill() on RowBasedKeyValueBatch. Will not spill but return 0.\n",
      "22/12/23 21:39:09 WARN RowBasedKeyValueBatch: Calling spill() on RowBasedKeyValueBatch. Will not spill but return 0.\n",
      "22/12/23 21:39:09 WARN RowBasedKeyValueBatch: Calling spill() on RowBasedKeyValueBatch. Will not spill but return 0.\n",
      "22/12/23 21:39:09 WARN RowBasedKeyValueBatch: Calling spill() on RowBasedKeyValueBatch. Will not spill but return 0.\n",
      "22/12/23 21:39:09 WARN RowBasedKeyValueBatch: Calling spill() on RowBasedKeyValueBatch. Will not spill but return 0.\n",
      "22/12/23 21:39:09 WARN RowBasedKeyValueBatch: Calling spill() on RowBasedKeyValueBatch. Will not spill but return 0.\n",
      "22/12/23 21:39:09 WARN RowBasedKeyValueBatch: Calling spill() on RowBasedKeyValueBatch. Will not spill but return 0.\n",
      "22/12/23 21:39:09 WARN RowBasedKeyValueBatch: Calling spill() on RowBasedKeyValueBatch. Will not spill but return 0.\n",
      "22/12/23 21:39:10 WARN RowBasedKeyValueBatch: Calling spill() on RowBasedKeyValueBatch. Will not spill but return 0.\n",
      "22/12/23 21:39:11 WARN RowBasedKeyValueBatch: Calling spill() on RowBasedKeyValueBatch. Will not spill but return 0.\n",
      "22/12/23 21:39:11 WARN RowBasedKeyValueBatch: Calling spill() on RowBasedKeyValueBatch. Will not spill but return 0.\n",
      "22/12/23 21:39:11 WARN RowBasedKeyValueBatch: Calling spill() on RowBasedKeyValueBatch. Will not spill but return 0.\n",
      "22/12/23 21:39:11 WARN RowBasedKeyValueBatch: Calling spill() on RowBasedKeyValueBatch. Will not spill but return 0.\n",
      "22/12/23 21:39:12 WARN RowBasedKeyValueBatch: Calling spill() on RowBasedKeyValueBatch. Will not spill but return 0.\n",
      "22/12/23 21:39:13 WARN RowBasedKeyValueBatch: Calling spill() on RowBasedKeyValueBatch. Will not spill but return 0.\n",
      "22/12/23 21:39:13 WARN RowBasedKeyValueBatch: Calling spill() on RowBasedKeyValueBatch. Will not spill but return 0.\n",
      "22/12/23 21:39:13 WARN RowBasedKeyValueBatch: Calling spill() on RowBasedKeyValueBatch. Will not spill but return 0.\n",
      "22/12/23 21:39:16 WARN RowBasedKeyValueBatch: Calling spill() on RowBasedKeyValueBatch. Will not spill but return 0.\n",
      "22/12/23 21:39:18 WARN RowBasedKeyValueBatch: Calling spill() on RowBasedKeyValueBatch. Will not spill but return 0.\n",
      "22/12/23 21:39:18 WARN RowBasedKeyValueBatch: Calling spill() on RowBasedKeyValueBatch. Will not spill but return 0.\n",
      "22/12/23 21:39:18 WARN RowBasedKeyValueBatch: Calling spill() on RowBasedKeyValueBatch. Will not spill but return 0.\n",
      "22/12/23 21:39:19 WARN RowBasedKeyValueBatch: Calling spill() on RowBasedKeyValueBatch. Will not spill but return 0.\n",
      "22/12/23 21:39:20 WARN RowBasedKeyValueBatch: Calling spill() on RowBasedKeyValueBatch. Will not spill but return 0.\n",
      "22/12/23 21:39:20 WARN RowBasedKeyValueBatch: Calling spill() on RowBasedKeyValueBatch. Will not spill but return 0.\n",
      "22/12/23 21:39:21 WARN RowBasedKeyValueBatch: Calling spill() on RowBasedKeyValueBatch. Will not spill but return 0.\n",
      "22/12/23 21:39:21 WARN RowBasedKeyValueBatch: Calling spill() on RowBasedKeyValueBatch. Will not spill but return 0.\n",
      "22/12/23 21:39:21 WARN RowBasedKeyValueBatch: Calling spill() on RowBasedKeyValueBatch. Will not spill but return 0.\n",
      "22/12/23 21:39:21 WARN RowBasedKeyValueBatch: Calling spill() on RowBasedKeyValueBatch. Will not spill but return 0.\n",
      "22/12/23 21:39:22 WARN RowBasedKeyValueBatch: Calling spill() on RowBasedKeyValueBatch. Will not spill but return 0.\n",
      "22/12/23 21:39:22 WARN RowBasedKeyValueBatch: Calling spill() on RowBasedKeyValueBatch. Will not spill but return 0.\n",
      "22/12/23 21:39:23 WARN RowBasedKeyValueBatch: Calling spill() on RowBasedKeyValueBatch. Will not spill but return 0.\n",
      "22/12/23 21:39:23 WARN RowBasedKeyValueBatch: Calling spill() on RowBasedKeyValueBatch. Will not spill but return 0.\n",
      "22/12/23 21:39:23 WARN RowBasedKeyValueBatch: Calling spill() on RowBasedKeyValueBatch. Will not spill but return 0.\n",
      "22/12/23 21:39:23 WARN RowBasedKeyValueBatch: Calling spill() on RowBasedKeyValueBatch. Will not spill but return 0.\n",
      "22/12/23 21:39:24 WARN RowBasedKeyValueBatch: Calling spill() on RowBasedKeyValueBatch. Will not spill but return 0.\n",
      "22/12/23 21:39:24 WARN RowBasedKeyValueBatch: Calling spill() on RowBasedKeyValueBatch. Will not spill but return 0.\n",
      "22/12/23 21:39:25 WARN RowBasedKeyValueBatch: Calling spill() on RowBasedKeyValueBatch. Will not spill but return 0.\n",
      "22/12/23 21:39:25 WARN RowBasedKeyValueBatch: Calling spill() on RowBasedKeyValueBatch. Will not spill but return 0.\n",
      "22/12/23 21:39:25 WARN RowBasedKeyValueBatch: Calling spill() on RowBasedKeyValueBatch. Will not spill but return 0.\n",
      "22/12/23 21:39:25 WARN RowBasedKeyValueBatch: Calling spill() on RowBasedKeyValueBatch. Will not spill but return 0.\n",
      "22/12/23 21:39:26 WARN RowBasedKeyValueBatch: Calling spill() on RowBasedKeyValueBatch. Will not spill but return 0.\n",
      "22/12/23 21:39:26 WARN RowBasedKeyValueBatch: Calling spill() on RowBasedKeyValueBatch. Will not spill but return 0.\n",
      "22/12/23 21:39:26 WARN RowBasedKeyValueBatch: Calling spill() on RowBasedKeyValueBatch. Will not spill but return 0.\n",
      "22/12/23 21:39:27 WARN RowBasedKeyValueBatch: Calling spill() on RowBasedKeyValueBatch. Will not spill but return 0.\n",
      "22/12/23 21:39:27 WARN RowBasedKeyValueBatch: Calling spill() on RowBasedKeyValueBatch. Will not spill but return 0.\n",
      "22/12/23 21:39:27 WARN RowBasedKeyValueBatch: Calling spill() on RowBasedKeyValueBatch. Will not spill but return 0.\n",
      "22/12/23 21:39:28 WARN RowBasedKeyValueBatch: Calling spill() on RowBasedKeyValueBatch. Will not spill but return 0.\n",
      "22/12/23 21:39:28 WARN RowBasedKeyValueBatch: Calling spill() on RowBasedKeyValueBatch. Will not spill but return 0.\n",
      "22/12/23 21:39:29 WARN RowBasedKeyValueBatch: Calling spill() on RowBasedKeyValueBatch. Will not spill but return 0.\n",
      "22/12/23 21:39:29 WARN RowBasedKeyValueBatch: Calling spill() on RowBasedKeyValueBatch. Will not spill but return 0.\n",
      "22/12/23 21:39:30 WARN RowBasedKeyValueBatch: Calling spill() on RowBasedKeyValueBatch. Will not spill but return 0.\n",
      "22/12/23 21:39:30 WARN RowBasedKeyValueBatch: Calling spill() on RowBasedKeyValueBatch. Will not spill but return 0.\n",
      "22/12/23 21:39:31 WARN RowBasedKeyValueBatch: Calling spill() on RowBasedKeyValueBatch. Will not spill but return 0.\n",
      "22/12/23 21:39:31 WARN RowBasedKeyValueBatch: Calling spill() on RowBasedKeyValueBatch. Will not spill but return 0.\n",
      "22/12/23 21:39:32 WARN RowBasedKeyValueBatch: Calling spill() on RowBasedKeyValueBatch. Will not spill but return 0.\n",
      "22/12/23 21:39:33 WARN RowBasedKeyValueBatch: Calling spill() on RowBasedKeyValueBatch. Will not spill but return 0.\n",
      "22/12/23 21:39:34 WARN RowBasedKeyValueBatch: Calling spill() on RowBasedKeyValueBatch. Will not spill but return 0.\n",
      "22/12/23 21:39:37 WARN RowBasedKeyValueBatch: Calling spill() on RowBasedKeyValueBatch. Will not spill but return 0.\n",
      "22/12/23 21:39:37 WARN RowBasedKeyValueBatch: Calling spill() on RowBasedKeyValueBatch. Will not spill but return 0.\n",
      "[Stage 116:==================================================>      (8 + 1) / 9]\r"
     ]
    },
    {
     "name": "stdout",
     "output_type": "stream",
     "text": [
      "+--------+-----------+----+--------------------+------------------+\n",
      "|      ID|STATIONS_ID|Jahr|   Sonnenscheindauer|     Temperatur_2m|\n",
      "+--------+-----------+----+--------------------+------------------+\n",
      "|   19953|          3|1995| 0.01035866405079181| 20.51484892505696|\n",
      "|   20003|          3|2000| 0.01490221998334118|16.634827434936483|\n",
      "|   20033|          3|2003| 0.01812051935204869|20.168967065591062|\n",
      "|   20083|          3|2008| 0.01682294288073879| 17.70253164877453|\n",
      "|   20073|          3|2007|0.014033153854263779|17.097478986841622|\n",
      "|   20103|          3|2010|0.005202956924108141| 19.04007616842092|\n",
      "|   19993|          3|1999|0.005930076204223624|18.812432798433473|\n",
      "|   19983|          3|1998|0.008539376322774307|16.921142600754923|\n",
      "|   20043|          3|2004|0.018219085616363366|18.134386201058664|\n",
      "|   19933|          3|1993|0.003029689622194...|16.413130403221103|\n",
      "|   20053|          3|2005|0.008264112773628431|17.289135304189497|\n",
      "|   19943|          3|1994| 0.01617198036904152|20.081297797230093|\n",
      "|   20023|          3|2002|0.010405017701428263|18.137623213845767|\n",
      "|   20013|          3|2001|0.012159856073106679|19.251831013523276|\n",
      "|   19973|          3|1997|0.008231597903637713|19.134438721128785|\n",
      "|   19963|          3|1996|0.014513889013508719| 17.05572758835868|\n",
      "|   20093|          3|2009|0.010991039249451837|18.972479843110595|\n",
      "|   20063|          3|2006|0.012126934069018108|19.597691881088984|\n",
      "|20002171|       2171|2000|0.014491487187617141|15.825476139403234|\n",
      "|20112171|       2171|2011|0.003276881719288486|16.728920256525385|\n",
      "|20122171|       2171|2012|0.005831541172245444| 17.56925402763283|\n",
      "|20182171|       2171|2018|0.004283826112226453| 20.68776881283543|\n",
      "|19962171|       2171|1996|0.009805063945150499|15.895049285771172|\n",
      "|20202171|       2171|2020| 0.00462679203856723|18.999843193798938|\n",
      "|20192171|       2171|2019|0.010467517743801771|18.815938625765103|\n",
      "|20012171|       2171|2001|0.006730561695909...| 18.35963929459324|\n",
      "|20022171|       2171|2002|0.007773022486033419|17.586352941796225|\n",
      "|20092171|       2171|2009|0.004661514317803752|17.986615146573726|\n",
      "|19992171|       2171|1999|0.004738378643658277| 17.55946400805048|\n",
      "|20212171|       2171|2021|0.006664650420421...|16.846326156596128|\n",
      "|20162171|       2171|2016|0.010140232750177917| 17.99149864863965|\n",
      "|20032171|       2171|2003|0.014169127256078207|  19.8121667104854|\n",
      "|20072171|       2171|2007|0.006793458682341388| 16.64137544944936|\n",
      "|20142171|       2171|2014|0.003099686330130931|17.260618279217393|\n",
      "|20172171|       2171|2017|0.003053315400269...| 17.96952284808441|\n",
      "|19982171|       2171|1998| 0.00596998213151116|16.290192792512354|\n",
      "|19952171|       2171|1995|0.007193100421295558|18.780562716286195|\n",
      "|20052171|       2171|2005|0.004689292031704151| 16.81334454394856|\n",
      "|19972171|       2171|1997|0.006610587746499...|18.350702799223765|\n",
      "|20132171|       2171|2013|0.009300179047656903|18.555230738815442|\n",
      "|20152171|       2171|2015|0.008159274081816383|19.813362462492826|\n",
      "|20082171|       2171|2008|0.008560707701677222| 18.03070117068547|\n",
      "|20062171|       2171|2006|0.008547042881215399|18.108724367658613|\n",
      "|20042171|       2171|2004|0.009670922748817925|17.354457885240567|\n",
      "|20102171|       2171|2010|0.001819892464319...|18.170497317521377|\n",
      "+--------+-----------+----+--------------------+------------------+\n",
      "\n"
     ]
    },
    {
     "name": "stderr",
     "output_type": "stream",
     "text": [
      "                                                                                \r"
     ]
    }
   ],
   "source": [
    "df_Kombinationen.show(45)"
   ]
  },
  {
   "cell_type": "code",
   "execution_count": null,
   "metadata": {},
   "outputs": [],
   "source": [
    "#Correlation zwischen Sonnenschein und Durschsnittstemperatur\n",
    "corr_Spruch1 = df_Kombinationen.stat.corr('Sonnenscheindauer','Temperatur_2m')"
   ]
  },
  {
   "cell_type": "markdown",
   "metadata": {},
   "source": []
  },
  {
   "cell_type": "code",
   "execution_count": null,
   "metadata": {},
   "outputs": [],
   "source": []
  }
 ],
 "metadata": {
  "kernelspec": {
   "display_name": "Python 3",
   "language": "python",
   "name": "python3"
  },
  "language_info": {
   "codemirror_mode": {
    "name": "ipython",
    "version": 3
   },
   "file_extension": ".py",
   "mimetype": "text/x-python",
   "name": "python",
   "nbconvert_exporter": "python",
   "pygments_lexer": "ipython3",
   "version": "3.11.0"
  },
  "orig_nbformat": 4,
  "vscode": {
   "interpreter": {
    "hash": "aee8b7b246df8f9039afb4144a1f6fd8d2ca17a180786b69acc140d282b71a49"
   }
  }
 },
 "nbformat": 4,
 "nbformat_minor": 2
}
